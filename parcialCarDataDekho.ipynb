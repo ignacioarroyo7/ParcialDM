{
 "cells": [
  {
   "cell_type": "code",
   "execution_count": 1,
   "metadata": {},
   "outputs": [],
   "source": [
    "import pandas as pd\n",
    "import numpy as np\n",
    "from sklearn import  linear_model\n",
    "import matplotlib.pyplot as plt\n",
    "import seaborn as sns"
   ]
  },
  {
   "cell_type": "code",
   "execution_count": 2,
   "metadata": {},
   "outputs": [],
   "source": [
    "pd_carData = pd.read_csv(\"CAR DETAILS FROM CAR DEKHO.csv\")"
   ]
  },
  {
   "cell_type": "code",
   "execution_count": 3,
   "metadata": {},
   "outputs": [
    {
     "data": {
      "text/html": [
       "<div>\n",
       "<style scoped>\n",
       "    .dataframe tbody tr th:only-of-type {\n",
       "        vertical-align: middle;\n",
       "    }\n",
       "\n",
       "    .dataframe tbody tr th {\n",
       "        vertical-align: top;\n",
       "    }\n",
       "\n",
       "    .dataframe thead th {\n",
       "        text-align: right;\n",
       "    }\n",
       "</style>\n",
       "<table border=\"1\" class=\"dataframe\">\n",
       "  <thead>\n",
       "    <tr style=\"text-align: right;\">\n",
       "      <th></th>\n",
       "      <th>0</th>\n",
       "      <th>1</th>\n",
       "      <th>2</th>\n",
       "      <th>3</th>\n",
       "      <th>4</th>\n",
       "      <th>5</th>\n",
       "      <th>6</th>\n",
       "      <th>7</th>\n",
       "      <th>8</th>\n",
       "      <th>9</th>\n",
       "      <th>...</th>\n",
       "      <th>4330</th>\n",
       "      <th>4331</th>\n",
       "      <th>4332</th>\n",
       "      <th>4333</th>\n",
       "      <th>4334</th>\n",
       "      <th>4335</th>\n",
       "      <th>4336</th>\n",
       "      <th>4337</th>\n",
       "      <th>4338</th>\n",
       "      <th>4339</th>\n",
       "    </tr>\n",
       "  </thead>\n",
       "  <tbody>\n",
       "    <tr>\n",
       "      <th>name</th>\n",
       "      <td>Maruti 800 AC</td>\n",
       "      <td>Maruti Wagon R LXI Minor</td>\n",
       "      <td>Hyundai Verna 1.6 SX</td>\n",
       "      <td>Datsun RediGO T Option</td>\n",
       "      <td>Honda Amaze VX i-DTEC</td>\n",
       "      <td>Maruti Alto LX BSIII</td>\n",
       "      <td>Hyundai Xcent 1.2 Kappa S</td>\n",
       "      <td>Tata Indigo Grand Petrol</td>\n",
       "      <td>Hyundai Creta 1.6 VTVT S</td>\n",
       "      <td>Maruti Celerio Green VXI</td>\n",
       "      <td>...</td>\n",
       "      <td>Tata Indica Vista Aqua 1.4 TDI</td>\n",
       "      <td>Ford EcoSport 1.5 TDCi Titanium BSIV</td>\n",
       "      <td>Mahindra Scorpio S2 7 Seater</td>\n",
       "      <td>Maruti Ritz VDi</td>\n",
       "      <td>Toyota Innova 2.5 VX (Diesel) 8 Seater BS IV</td>\n",
       "      <td>Hyundai i20 Magna 1.4 CRDi (Diesel)</td>\n",
       "      <td>Hyundai i20 Magna 1.4 CRDi</td>\n",
       "      <td>Maruti 800 AC BSIII</td>\n",
       "      <td>Hyundai Creta 1.6 CRDi SX Option</td>\n",
       "      <td>Renault KWID RXT</td>\n",
       "    </tr>\n",
       "    <tr>\n",
       "      <th>year</th>\n",
       "      <td>2007</td>\n",
       "      <td>2007</td>\n",
       "      <td>2012</td>\n",
       "      <td>2017</td>\n",
       "      <td>2014</td>\n",
       "      <td>2007</td>\n",
       "      <td>2016</td>\n",
       "      <td>2014</td>\n",
       "      <td>2015</td>\n",
       "      <td>2017</td>\n",
       "      <td>...</td>\n",
       "      <td>2010</td>\n",
       "      <td>2015</td>\n",
       "      <td>2015</td>\n",
       "      <td>2012</td>\n",
       "      <td>2012</td>\n",
       "      <td>2014</td>\n",
       "      <td>2014</td>\n",
       "      <td>2009</td>\n",
       "      <td>2016</td>\n",
       "      <td>2016</td>\n",
       "    </tr>\n",
       "    <tr>\n",
       "      <th>selling_price</th>\n",
       "      <td>60000</td>\n",
       "      <td>135000</td>\n",
       "      <td>600000</td>\n",
       "      <td>250000</td>\n",
       "      <td>450000</td>\n",
       "      <td>140000</td>\n",
       "      <td>550000</td>\n",
       "      <td>240000</td>\n",
       "      <td>850000</td>\n",
       "      <td>365000</td>\n",
       "      <td>...</td>\n",
       "      <td>150000</td>\n",
       "      <td>530000</td>\n",
       "      <td>750000</td>\n",
       "      <td>225000</td>\n",
       "      <td>600000</td>\n",
       "      <td>409999</td>\n",
       "      <td>409999</td>\n",
       "      <td>110000</td>\n",
       "      <td>865000</td>\n",
       "      <td>225000</td>\n",
       "    </tr>\n",
       "    <tr>\n",
       "      <th>km_driven</th>\n",
       "      <td>70000</td>\n",
       "      <td>50000</td>\n",
       "      <td>100000</td>\n",
       "      <td>46000</td>\n",
       "      <td>141000</td>\n",
       "      <td>125000</td>\n",
       "      <td>25000</td>\n",
       "      <td>60000</td>\n",
       "      <td>25000</td>\n",
       "      <td>78000</td>\n",
       "      <td>...</td>\n",
       "      <td>130000</td>\n",
       "      <td>175000</td>\n",
       "      <td>120000</td>\n",
       "      <td>90000</td>\n",
       "      <td>170000</td>\n",
       "      <td>80000</td>\n",
       "      <td>80000</td>\n",
       "      <td>83000</td>\n",
       "      <td>90000</td>\n",
       "      <td>40000</td>\n",
       "    </tr>\n",
       "    <tr>\n",
       "      <th>fuel</th>\n",
       "      <td>Petrol</td>\n",
       "      <td>Petrol</td>\n",
       "      <td>Diesel</td>\n",
       "      <td>Petrol</td>\n",
       "      <td>Diesel</td>\n",
       "      <td>Petrol</td>\n",
       "      <td>Petrol</td>\n",
       "      <td>Petrol</td>\n",
       "      <td>Petrol</td>\n",
       "      <td>CNG</td>\n",
       "      <td>...</td>\n",
       "      <td>Diesel</td>\n",
       "      <td>Diesel</td>\n",
       "      <td>Diesel</td>\n",
       "      <td>Diesel</td>\n",
       "      <td>Diesel</td>\n",
       "      <td>Diesel</td>\n",
       "      <td>Diesel</td>\n",
       "      <td>Petrol</td>\n",
       "      <td>Diesel</td>\n",
       "      <td>Petrol</td>\n",
       "    </tr>\n",
       "    <tr>\n",
       "      <th>seller_type</th>\n",
       "      <td>Individual</td>\n",
       "      <td>Individual</td>\n",
       "      <td>Individual</td>\n",
       "      <td>Individual</td>\n",
       "      <td>Individual</td>\n",
       "      <td>Individual</td>\n",
       "      <td>Individual</td>\n",
       "      <td>Individual</td>\n",
       "      <td>Individual</td>\n",
       "      <td>Individual</td>\n",
       "      <td>...</td>\n",
       "      <td>Individual</td>\n",
       "      <td>Individual</td>\n",
       "      <td>Individual</td>\n",
       "      <td>Individual</td>\n",
       "      <td>Individual</td>\n",
       "      <td>Individual</td>\n",
       "      <td>Individual</td>\n",
       "      <td>Individual</td>\n",
       "      <td>Individual</td>\n",
       "      <td>Individual</td>\n",
       "    </tr>\n",
       "    <tr>\n",
       "      <th>transmission</th>\n",
       "      <td>Manual</td>\n",
       "      <td>Manual</td>\n",
       "      <td>Manual</td>\n",
       "      <td>Manual</td>\n",
       "      <td>Manual</td>\n",
       "      <td>Manual</td>\n",
       "      <td>Manual</td>\n",
       "      <td>Manual</td>\n",
       "      <td>Manual</td>\n",
       "      <td>Manual</td>\n",
       "      <td>...</td>\n",
       "      <td>Manual</td>\n",
       "      <td>Manual</td>\n",
       "      <td>Manual</td>\n",
       "      <td>Manual</td>\n",
       "      <td>Manual</td>\n",
       "      <td>Manual</td>\n",
       "      <td>Manual</td>\n",
       "      <td>Manual</td>\n",
       "      <td>Manual</td>\n",
       "      <td>Manual</td>\n",
       "    </tr>\n",
       "    <tr>\n",
       "      <th>owner</th>\n",
       "      <td>First Owner</td>\n",
       "      <td>First Owner</td>\n",
       "      <td>First Owner</td>\n",
       "      <td>First Owner</td>\n",
       "      <td>Second Owner</td>\n",
       "      <td>First Owner</td>\n",
       "      <td>First Owner</td>\n",
       "      <td>Second Owner</td>\n",
       "      <td>First Owner</td>\n",
       "      <td>First Owner</td>\n",
       "      <td>...</td>\n",
       "      <td>Second Owner</td>\n",
       "      <td>Third Owner</td>\n",
       "      <td>First Owner</td>\n",
       "      <td>Second Owner</td>\n",
       "      <td>First Owner</td>\n",
       "      <td>Second Owner</td>\n",
       "      <td>Second Owner</td>\n",
       "      <td>Second Owner</td>\n",
       "      <td>First Owner</td>\n",
       "      <td>First Owner</td>\n",
       "    </tr>\n",
       "  </tbody>\n",
       "</table>\n",
       "<p>8 rows × 4340 columns</p>\n",
       "</div>"
      ],
      "text/plain": [
       "                        0                         1                     2     \\\n",
       "name           Maruti 800 AC  Maruti Wagon R LXI Minor  Hyundai Verna 1.6 SX   \n",
       "year                    2007                      2007                  2012   \n",
       "selling_price          60000                    135000                600000   \n",
       "km_driven              70000                     50000                100000   \n",
       "fuel                  Petrol                    Petrol                Diesel   \n",
       "seller_type       Individual                Individual            Individual   \n",
       "transmission          Manual                    Manual                Manual   \n",
       "owner            First Owner               First Owner           First Owner   \n",
       "\n",
       "                                 3                      4     \\\n",
       "name           Datsun RediGO T Option  Honda Amaze VX i-DTEC   \n",
       "year                             2017                   2014   \n",
       "selling_price                  250000                 450000   \n",
       "km_driven                       46000                 141000   \n",
       "fuel                           Petrol                 Diesel   \n",
       "seller_type                Individual             Individual   \n",
       "transmission                   Manual                 Manual   \n",
       "owner                     First Owner           Second Owner   \n",
       "\n",
       "                               5                          6     \\\n",
       "name           Maruti Alto LX BSIII  Hyundai Xcent 1.2 Kappa S   \n",
       "year                           2007                       2016   \n",
       "selling_price                140000                     550000   \n",
       "km_driven                    125000                      25000   \n",
       "fuel                         Petrol                     Petrol   \n",
       "seller_type              Individual                 Individual   \n",
       "transmission                 Manual                     Manual   \n",
       "owner                   First Owner                First Owner   \n",
       "\n",
       "                                   7                         8     \\\n",
       "name           Tata Indigo Grand Petrol  Hyundai Creta 1.6 VTVT S   \n",
       "year                               2014                      2015   \n",
       "selling_price                    240000                    850000   \n",
       "km_driven                         60000                     25000   \n",
       "fuel                             Petrol                    Petrol   \n",
       "seller_type                  Individual                Individual   \n",
       "transmission                     Manual                    Manual   \n",
       "owner                      Second Owner               First Owner   \n",
       "\n",
       "                                   9     ...                            4330  \\\n",
       "name           Maruti Celerio Green VXI  ...  Tata Indica Vista Aqua 1.4 TDI   \n",
       "year                               2017  ...                            2010   \n",
       "selling_price                    365000  ...                          150000   \n",
       "km_driven                         78000  ...                          130000   \n",
       "fuel                                CNG  ...                          Diesel   \n",
       "seller_type                  Individual  ...                      Individual   \n",
       "transmission                     Manual  ...                          Manual   \n",
       "owner                       First Owner  ...                    Second Owner   \n",
       "\n",
       "                                               4331  \\\n",
       "name           Ford EcoSport 1.5 TDCi Titanium BSIV   \n",
       "year                                           2015   \n",
       "selling_price                                530000   \n",
       "km_driven                                    175000   \n",
       "fuel                                         Diesel   \n",
       "seller_type                              Individual   \n",
       "transmission                                 Manual   \n",
       "owner                                   Third Owner   \n",
       "\n",
       "                                       4332             4333  \\\n",
       "name           Mahindra Scorpio S2 7 Seater  Maruti Ritz VDi   \n",
       "year                                   2015             2012   \n",
       "selling_price                        750000           225000   \n",
       "km_driven                            120000            90000   \n",
       "fuel                                 Diesel           Diesel   \n",
       "seller_type                      Individual       Individual   \n",
       "transmission                         Manual           Manual   \n",
       "owner                           First Owner     Second Owner   \n",
       "\n",
       "                                                       4334  \\\n",
       "name           Toyota Innova 2.5 VX (Diesel) 8 Seater BS IV   \n",
       "year                                                   2012   \n",
       "selling_price                                        600000   \n",
       "km_driven                                            170000   \n",
       "fuel                                                 Diesel   \n",
       "seller_type                                      Individual   \n",
       "transmission                                         Manual   \n",
       "owner                                           First Owner   \n",
       "\n",
       "                                              4335  \\\n",
       "name           Hyundai i20 Magna 1.4 CRDi (Diesel)   \n",
       "year                                          2014   \n",
       "selling_price                               409999   \n",
       "km_driven                                    80000   \n",
       "fuel                                        Diesel   \n",
       "seller_type                             Individual   \n",
       "transmission                                Manual   \n",
       "owner                                 Second Owner   \n",
       "\n",
       "                                     4336                 4337  \\\n",
       "name           Hyundai i20 Magna 1.4 CRDi  Maruti 800 AC BSIII   \n",
       "year                                 2014                 2009   \n",
       "selling_price                      409999               110000   \n",
       "km_driven                           80000                83000   \n",
       "fuel                               Diesel               Petrol   \n",
       "seller_type                    Individual           Individual   \n",
       "transmission                       Manual               Manual   \n",
       "owner                        Second Owner         Second Owner   \n",
       "\n",
       "                                           4338              4339  \n",
       "name           Hyundai Creta 1.6 CRDi SX Option  Renault KWID RXT  \n",
       "year                                       2016              2016  \n",
       "selling_price                            865000            225000  \n",
       "km_driven                                 90000             40000  \n",
       "fuel                                     Diesel            Petrol  \n",
       "seller_type                          Individual        Individual  \n",
       "transmission                             Manual            Manual  \n",
       "owner                               First Owner       First Owner  \n",
       "\n",
       "[8 rows x 4340 columns]"
      ]
     },
     "execution_count": 3,
     "metadata": {},
     "output_type": "execute_result"
    }
   ],
   "source": [
    "pd_carData.T"
   ]
  },
  {
   "cell_type": "code",
   "execution_count": 4,
   "metadata": {},
   "outputs": [
    {
     "data": {
      "text/html": [
       "<div>\n",
       "<style scoped>\n",
       "    .dataframe tbody tr th:only-of-type {\n",
       "        vertical-align: middle;\n",
       "    }\n",
       "\n",
       "    .dataframe tbody tr th {\n",
       "        vertical-align: top;\n",
       "    }\n",
       "\n",
       "    .dataframe thead th {\n",
       "        text-align: right;\n",
       "    }\n",
       "</style>\n",
       "<table border=\"1\" class=\"dataframe\">\n",
       "  <thead>\n",
       "    <tr style=\"text-align: right;\">\n",
       "      <th></th>\n",
       "      <th>count</th>\n",
       "      <th>unique</th>\n",
       "      <th>top</th>\n",
       "      <th>freq</th>\n",
       "      <th>mean</th>\n",
       "      <th>std</th>\n",
       "      <th>min</th>\n",
       "      <th>25%</th>\n",
       "      <th>50%</th>\n",
       "      <th>75%</th>\n",
       "      <th>max</th>\n",
       "    </tr>\n",
       "  </thead>\n",
       "  <tbody>\n",
       "    <tr>\n",
       "      <th>name</th>\n",
       "      <td>4340</td>\n",
       "      <td>1491</td>\n",
       "      <td>Maruti Swift Dzire VDI</td>\n",
       "      <td>69</td>\n",
       "      <td>NaN</td>\n",
       "      <td>NaN</td>\n",
       "      <td>NaN</td>\n",
       "      <td>NaN</td>\n",
       "      <td>NaN</td>\n",
       "      <td>NaN</td>\n",
       "      <td>NaN</td>\n",
       "    </tr>\n",
       "    <tr>\n",
       "      <th>year</th>\n",
       "      <td>4340.0</td>\n",
       "      <td>NaN</td>\n",
       "      <td>NaN</td>\n",
       "      <td>NaN</td>\n",
       "      <td>2013.090783</td>\n",
       "      <td>4.215344</td>\n",
       "      <td>1992.0</td>\n",
       "      <td>2011.0</td>\n",
       "      <td>2014.0</td>\n",
       "      <td>2016.0</td>\n",
       "      <td>2020.0</td>\n",
       "    </tr>\n",
       "    <tr>\n",
       "      <th>selling_price</th>\n",
       "      <td>4340.0</td>\n",
       "      <td>NaN</td>\n",
       "      <td>NaN</td>\n",
       "      <td>NaN</td>\n",
       "      <td>504127.311751</td>\n",
       "      <td>578548.736139</td>\n",
       "      <td>20000.0</td>\n",
       "      <td>208749.75</td>\n",
       "      <td>350000.0</td>\n",
       "      <td>600000.0</td>\n",
       "      <td>8900000.0</td>\n",
       "    </tr>\n",
       "    <tr>\n",
       "      <th>km_driven</th>\n",
       "      <td>4340.0</td>\n",
       "      <td>NaN</td>\n",
       "      <td>NaN</td>\n",
       "      <td>NaN</td>\n",
       "      <td>66215.777419</td>\n",
       "      <td>46644.102194</td>\n",
       "      <td>1.0</td>\n",
       "      <td>35000.0</td>\n",
       "      <td>60000.0</td>\n",
       "      <td>90000.0</td>\n",
       "      <td>806599.0</td>\n",
       "    </tr>\n",
       "    <tr>\n",
       "      <th>fuel</th>\n",
       "      <td>4340</td>\n",
       "      <td>5</td>\n",
       "      <td>Diesel</td>\n",
       "      <td>2153</td>\n",
       "      <td>NaN</td>\n",
       "      <td>NaN</td>\n",
       "      <td>NaN</td>\n",
       "      <td>NaN</td>\n",
       "      <td>NaN</td>\n",
       "      <td>NaN</td>\n",
       "      <td>NaN</td>\n",
       "    </tr>\n",
       "    <tr>\n",
       "      <th>seller_type</th>\n",
       "      <td>4340</td>\n",
       "      <td>3</td>\n",
       "      <td>Individual</td>\n",
       "      <td>3244</td>\n",
       "      <td>NaN</td>\n",
       "      <td>NaN</td>\n",
       "      <td>NaN</td>\n",
       "      <td>NaN</td>\n",
       "      <td>NaN</td>\n",
       "      <td>NaN</td>\n",
       "      <td>NaN</td>\n",
       "    </tr>\n",
       "    <tr>\n",
       "      <th>transmission</th>\n",
       "      <td>4340</td>\n",
       "      <td>2</td>\n",
       "      <td>Manual</td>\n",
       "      <td>3892</td>\n",
       "      <td>NaN</td>\n",
       "      <td>NaN</td>\n",
       "      <td>NaN</td>\n",
       "      <td>NaN</td>\n",
       "      <td>NaN</td>\n",
       "      <td>NaN</td>\n",
       "      <td>NaN</td>\n",
       "    </tr>\n",
       "    <tr>\n",
       "      <th>owner</th>\n",
       "      <td>4340</td>\n",
       "      <td>5</td>\n",
       "      <td>First Owner</td>\n",
       "      <td>2832</td>\n",
       "      <td>NaN</td>\n",
       "      <td>NaN</td>\n",
       "      <td>NaN</td>\n",
       "      <td>NaN</td>\n",
       "      <td>NaN</td>\n",
       "      <td>NaN</td>\n",
       "      <td>NaN</td>\n",
       "    </tr>\n",
       "  </tbody>\n",
       "</table>\n",
       "</div>"
      ],
      "text/plain": [
       "                count unique                     top  freq           mean  \\\n",
       "name             4340   1491  Maruti Swift Dzire VDI    69            NaN   \n",
       "year           4340.0    NaN                     NaN   NaN    2013.090783   \n",
       "selling_price  4340.0    NaN                     NaN   NaN  504127.311751   \n",
       "km_driven      4340.0    NaN                     NaN   NaN   66215.777419   \n",
       "fuel             4340      5                  Diesel  2153            NaN   \n",
       "seller_type      4340      3              Individual  3244            NaN   \n",
       "transmission     4340      2                  Manual  3892            NaN   \n",
       "owner            4340      5             First Owner  2832            NaN   \n",
       "\n",
       "                         std      min        25%       50%       75%  \\\n",
       "name                     NaN      NaN        NaN       NaN       NaN   \n",
       "year                4.215344   1992.0     2011.0    2014.0    2016.0   \n",
       "selling_price  578548.736139  20000.0  208749.75  350000.0  600000.0   \n",
       "km_driven       46644.102194      1.0    35000.0   60000.0   90000.0   \n",
       "fuel                     NaN      NaN        NaN       NaN       NaN   \n",
       "seller_type              NaN      NaN        NaN       NaN       NaN   \n",
       "transmission             NaN      NaN        NaN       NaN       NaN   \n",
       "owner                    NaN      NaN        NaN       NaN       NaN   \n",
       "\n",
       "                     max  \n",
       "name                 NaN  \n",
       "year              2020.0  \n",
       "selling_price  8900000.0  \n",
       "km_driven       806599.0  \n",
       "fuel                 NaN  \n",
       "seller_type          NaN  \n",
       "transmission         NaN  \n",
       "owner                NaN  "
      ]
     },
     "execution_count": 4,
     "metadata": {},
     "output_type": "execute_result"
    }
   ],
   "source": [
    "pd_carData.describe(include='all').T"
   ]
  },
  {
   "cell_type": "code",
   "execution_count": 5,
   "metadata": {},
   "outputs": [
    {
     "name": "stdout",
     "output_type": "stream",
     "text": [
      "<class 'pandas.core.frame.DataFrame'>\n",
      "RangeIndex: 4340 entries, 0 to 4339\n",
      "Data columns (total 8 columns):\n",
      " #   Column         Non-Null Count  Dtype \n",
      "---  ------         --------------  ----- \n",
      " 0   name           4340 non-null   object\n",
      " 1   year           4340 non-null   int64 \n",
      " 2   selling_price  4340 non-null   int64 \n",
      " 3   km_driven      4340 non-null   int64 \n",
      " 4   fuel           4340 non-null   object\n",
      " 5   seller_type    4340 non-null   object\n",
      " 6   transmission   4340 non-null   object\n",
      " 7   owner          4340 non-null   object\n",
      "dtypes: int64(3), object(5)\n",
      "memory usage: 271.4+ KB\n"
     ]
    }
   ],
   "source": [
    "pd_carData.info()"
   ]
  },
  {
   "cell_type": "markdown",
   "metadata": {},
   "source": [
    "<h2>Analisis univariado</h2>"
   ]
  },
  {
   "cell_type": "markdown",
   "metadata": {},
   "source": [
    "<p>name se elimina por ser string</p>"
   ]
  },
  {
   "cell_type": "markdown",
   "metadata": {},
   "source": [
    "Analisis variable objetivo selling_price"
   ]
  },
  {
   "cell_type": "markdown",
   "metadata": {},
   "source": [
    "boxplot es un tipo de grafico que facilmente nos permite identificar los outlayers, y la idea es eliminarlos"
   ]
  },
  {
   "cell_type": "code",
   "execution_count": 6,
   "metadata": {},
   "outputs": [
    {
     "data": {
      "text/plain": [
       "{'whiskers': [<matplotlib.lines.Line2D at 0x1e5af8dd790>,\n",
       "  <matplotlib.lines.Line2D at 0x1e5af8ddc70>],\n",
       " 'caps': [<matplotlib.lines.Line2D at 0x1e5af8ddfa0>,\n",
       "  <matplotlib.lines.Line2D at 0x1e5af8f9250>],\n",
       " 'boxes': [<matplotlib.lines.Line2D at 0x1e5af8dd910>],\n",
       " 'medians': [<matplotlib.lines.Line2D at 0x1e5af8f9520>],\n",
       " 'fliers': [<matplotlib.lines.Line2D at 0x1e5af8f97f0>],\n",
       " 'means': []}"
      ]
     },
     "execution_count": 6,
     "metadata": {},
     "output_type": "execute_result"
    },
    {
     "data": {
      "image/png": "[encoded data removed]",
      "text/plain": [
       "<Figure size 432x288 with 1 Axes>"
      ]
     },
     "metadata": {
      "needs_background": "light"
     },
     "output_type": "display_data"
    }
   ],
   "source": [
    "plt.boxplot(pd_carData['selling_price'],autorange=True)\n"
   ]
  },
  {
   "cell_type": "code",
   "execution_count": 7,
   "metadata": {},
   "outputs": [
    {
     "data": {
      "text/plain": [
       "(array([1.924e+03, 1.370e+03, 6.140e+02, 1.850e+02, 7.800e+01, 4.800e+01,\n",
       "        2.600e+01, 6.000e+00, 2.500e+01, 1.500e+01, 8.000e+00, 2.000e+00,\n",
       "        1.100e+01, 5.000e+00, 3.000e+00, 4.000e+00, 1.300e+01, 0.000e+00,\n",
       "        1.000e+00, 0.000e+00, 0.000e+00, 0.000e+00, 0.000e+00, 0.000e+00,\n",
       "        0.000e+00, 0.000e+00, 0.000e+00, 1.000e+00, 0.000e+00, 1.000e+00]),\n",
       " array([  20000.,  316000.,  612000.,  908000., 1204000., 1500000.,\n",
       "        1796000., 2092000., 2388000., 2684000., 2980000., 3276000.,\n",
       "        3572000., 3868000., 4164000., 4460000., 4756000., 5052000.,\n",
       "        5348000., 5644000., 5940000., 6236000., 6532000., 6828000.,\n",
       "        7124000., 7420000., 7716000., 8012000., 8308000., 8604000.,\n",
       "        8900000.]),\n",
       " <BarContainer object of 30 artists>)"
      ]
     },
     "execution_count": 7,
     "metadata": {},
     "output_type": "execute_result"
    },
    {
     "data": {
      "image/png": "[encoded data removed]",
      "text/plain": [
       "<Figure size 432x288 with 1 Axes>"
      ]
     },
     "metadata": {
      "needs_background": "light"
     },
     "output_type": "display_data"
    }
   ],
   "source": [
    "plt.hist(pd_carData['selling_price'],bins=30)"
   ]
  },
  {
   "cell_type": "markdown",
   "metadata": {},
   "source": [
    "Kms_Driven\n"
   ]
  },
  {
   "cell_type": "code",
   "execution_count": 8,
   "metadata": {},
   "outputs": [
    {
     "data": {
      "text/plain": [
       "{'whiskers': [<matplotlib.lines.Line2D at 0x1e5afa7fa60>,\n",
       "  <matplotlib.lines.Line2D at 0x1e5afa7fd30>],\n",
       " 'caps': [<matplotlib.lines.Line2D at 0x1e5afa8f040>,\n",
       "  <matplotlib.lines.Line2D at 0x1e5afa8f340>],\n",
       " 'boxes': [<matplotlib.lines.Line2D at 0x1e5afa7f790>],\n",
       " 'medians': [<matplotlib.lines.Line2D at 0x1e5afa8f610>],\n",
       " 'fliers': [<matplotlib.lines.Line2D at 0x1e5afa8f8e0>],\n",
       " 'means': []}"
      ]
     },
     "execution_count": 8,
     "metadata": {},
     "output_type": "execute_result"
    },
    {
     "data": {
      "image/png": "[encoded data removed]",
      "text/plain": [
       "<Figure size 432x288 with 1 Axes>"
      ]
     },
     "metadata": {
      "needs_background": "light"
     },
     "output_type": "display_data"
    }
   ],
   "source": [
    "plt.boxplot(pd_carData['km_driven'],autorange=True)"
   ]
  },
  {
   "cell_type": "code",
   "execution_count": 9,
   "metadata": {},
   "outputs": [
    {
     "data": {
      "text/plain": [
       "(array([8.210e+02, 1.130e+03, 1.141e+03, 5.650e+02, 4.350e+02, 1.130e+02,\n",
       "        5.000e+01, 3.600e+01, 2.200e+01, 1.000e+01, 3.000e+00, 7.000e+00,\n",
       "        1.000e+00, 2.000e+00, 1.000e+00, 0.000e+00, 0.000e+00, 0.000e+00,\n",
       "        0.000e+00, 0.000e+00, 2.000e+00, 0.000e+00, 0.000e+00, 0.000e+00,\n",
       "        0.000e+00, 0.000e+00, 0.000e+00, 0.000e+00, 0.000e+00, 1.000e+00]),\n",
       " array([1.000000e+00, 2.688760e+04, 5.377420e+04, 8.066080e+04,\n",
       "        1.075474e+05, 1.344340e+05, 1.613206e+05, 1.882072e+05,\n",
       "        2.150938e+05, 2.419804e+05, 2.688670e+05, 2.957536e+05,\n",
       "        3.226402e+05, 3.495268e+05, 3.764134e+05, 4.033000e+05,\n",
       "        4.301866e+05, 4.570732e+05, 4.839598e+05, 5.108464e+05,\n",
       "        5.377330e+05, 5.646196e+05, 5.915062e+05, 6.183928e+05,\n",
       "        6.452794e+05, 6.721660e+05, 6.990526e+05, 7.259392e+05,\n",
       "        7.528258e+05, 7.797124e+05, 8.065990e+05]),\n",
       " <BarContainer object of 30 artists>)"
      ]
     },
     "execution_count": 9,
     "metadata": {},
     "output_type": "execute_result"
    },
    {
     "data": {
      "image/png": "[encoded data removed]",
      "text/plain": [
       "<Figure size 432x288 with 1 Axes>"
      ]
     },
     "metadata": {
      "needs_background": "light"
     },
     "output_type": "display_data"
    }
   ],
   "source": [
    "plt.hist(pd_carData['km_driven'],bins=30)"
   ]
  },
  {
   "cell_type": "markdown",
   "metadata": {},
   "source": [
    "Year"
   ]
  },
  {
   "cell_type": "code",
   "execution_count": 11,
   "metadata": {},
   "outputs": [
    {
     "data": {
      "text/plain": [
       "{'whiskers': [<matplotlib.lines.Line2D at 0x1e5b3f169d0>,\n",
       "  <matplotlib.lines.Line2D at 0x1e5b3f16ca0>],\n",
       " 'caps': [<matplotlib.lines.Line2D at 0x1e5b3f16f70>,\n",
       "  <matplotlib.lines.Line2D at 0x1e5b3f24280>],\n",
       " 'boxes': [<matplotlib.lines.Line2D at 0x1e5b3f166d0>],\n",
       " 'medians': [<matplotlib.lines.Line2D at 0x1e5b3f24550>],\n",
       " 'fliers': [<matplotlib.lines.Line2D at 0x1e5b3f24820>],\n",
       " 'means': []}"
      ]
     },
     "execution_count": 11,
     "metadata": {},
     "output_type": "execute_result"
    },
    {
     "data": {
      "image/png": "[encoded data removed]",
      "text/plain": [
       "<Figure size 432x288 with 1 Axes>"
      ]
     },
     "metadata": {
      "needs_background": "light"
     },
     "output_type": "display_data"
    }
   ],
   "source": [
    "plt.boxplot(pd_carData['year'],autorange=True)"
   ]
  },
  {
   "cell_type": "code",
   "execution_count": 12,
   "metadata": {},
   "outputs": [
    {
     "data": {
      "text/plain": [
       "(array([  1.,   0.,   0.,   1.,   2.,   3.,  12.,  10.,  12.,  20.,  21.,\n",
       "         23.,  42.,  85.,   0., 110., 134., 145., 193., 234., 271., 415.,\n",
       "        386., 367., 421., 357., 466., 366., 195.,  48.]),\n",
       " array([1992.        , 1992.93333333, 1993.86666667, 1994.8       ,\n",
       "        1995.73333333, 1996.66666667, 1997.6       , 1998.53333333,\n",
       "        1999.46666667, 2000.4       , 2001.33333333, 2002.26666667,\n",
       "        2003.2       , 2004.13333333, 2005.06666667, 2006.        ,\n",
       "        2006.93333333, 2007.86666667, 2008.8       , 2009.73333333,\n",
       "        2010.66666667, 2011.6       , 2012.53333333, 2013.46666667,\n",
       "        2014.4       , 2015.33333333, 2016.26666667, 2017.2       ,\n",
       "        2018.13333333, 2019.06666667, 2020.        ]),\n",
       " <BarContainer object of 30 artists>)"
      ]
     },
     "execution_count": 12,
     "metadata": {},
     "output_type": "execute_result"
    },
    {
     "data": {
      "image/png": "[encoded data removed]",
      "text/plain": [
       "<Figure size 432x288 with 1 Axes>"
      ]
     },
     "metadata": {
      "needs_background": "light"
     },
     "output_type": "display_data"
    }
   ],
   "source": [
    "plt.hist(pd_carData['year'],bins=30)"
   ]
  },
  {
   "cell_type": "code",
   "execution_count": 13,
   "metadata": {},
   "outputs": [
    {
     "data": {
      "image/png": "[encoded data removed]",
      "text/plain": [
       "<Figure size 1368x288 with 2 Axes>"
      ]
     },
     "metadata": {
      "needs_background": "light"
     },
     "output_type": "display_data"
    },
    {
     "data": {
      "image/png": "[encoded data removed]",
      "text/plain": [
       "<Figure size 1368x288 with 2 Axes>"
      ]
     },
     "metadata": {
      "needs_background": "light"
     },
     "output_type": "display_data"
    }
   ],
   "source": [
    "cat_cols = ['fuel','seller_type','transmission','owner']\n",
    "i=0\n",
    "while i < 4:\n",
    "    fig = plt.figure(figsize=[19,4])\n",
    "    #ax1 = fig.add_subplot(121)\n",
    "    #ax2 = fig.add_subplot(122)\n",
    "    \n",
    "    #ax1.title.set_text(cat_cols[i])\n",
    "    plt.subplot(1,2,1)\n",
    "    sns.countplot(x=cat_cols[i], data=pd_carData)\n",
    "    i += 1\n",
    "    \n",
    "    #ax2.title.set_text(cat_cols[i])\n",
    "    plt.subplot(1,2,2)\n",
    "    sns.countplot(x=cat_cols[i], data=pd_carData)\n",
    "    i += 1\n",
    "    \n",
    "    \n",
    "    plt.show()"
   ]
  },
  {
   "cell_type": "code",
   "execution_count": 14,
   "metadata": {},
   "outputs": [
    {
     "data": {
      "text/plain": [
       "Index(['CNG', 'Diesel', 'Electric', 'LPG', 'Petrol'], dtype='object')"
      ]
     },
     "execution_count": 14,
     "metadata": {},
     "output_type": "execute_result"
    }
   ],
   "source": [
    "var_dummies_FT = pd.get_dummies(pd_carData['fuel'])\n",
    "pd_carData = pd_carData.drop(columns=['fuel'])\n",
    "\n",
    "pd_carData[var_dummies_FT.columns]=var_dummies_FT\n",
    "\n",
    "var_dummies_FT.columns"
   ]
  },
  {
   "cell_type": "code",
   "execution_count": 15,
   "metadata": {},
   "outputs": [
    {
     "data": {
      "text/plain": [
       "Index(['Dealer', 'Individual', 'Trustmark Dealer'], dtype='object')"
      ]
     },
     "execution_count": 15,
     "metadata": {},
     "output_type": "execute_result"
    }
   ],
   "source": [
    "var_dummies_ST = pd.get_dummies(pd_carData['seller_type'])\n",
    "pd_carData = pd_carData.drop(columns=['seller_type'])\n",
    "\n",
    "pd_carData[var_dummies_ST.columns]=var_dummies_ST\n",
    "\n",
    "var_dummies_ST.columns"
   ]
  },
  {
   "cell_type": "code",
   "execution_count": 16,
   "metadata": {},
   "outputs": [
    {
     "data": {
      "text/plain": [
       "Index(['Automatic', 'Manual'], dtype='object')"
      ]
     },
     "execution_count": 16,
     "metadata": {},
     "output_type": "execute_result"
    }
   ],
   "source": [
    "var_dummies_T = pd.get_dummies(pd_carData['transmission'])\n",
    "pd_carData = pd_carData.drop(columns=['transmission'])\n",
    "\n",
    "pd_carData[var_dummies_T.columns]=var_dummies_T\n",
    "\n",
    "var_dummies_T.columns"
   ]
  },
  {
   "cell_type": "code",
   "execution_count": 17,
   "metadata": {},
   "outputs": [
    {
     "data": {
      "text/plain": [
       "<AxesSubplot:xlabel='owner'>"
      ]
     },
     "execution_count": 17,
     "metadata": {},
     "output_type": "execute_result"
    },
    {
     "data": {
      "image/png": "[encoded data removed]",
      "text/plain": [
       "<Figure size 432x288 with 1 Axes>"
      ]
     },
     "metadata": {
      "needs_background": "light"
     },
     "output_type": "display_data"
    }
   ],
   "source": [
    "pd_carData.groupby(\"owner\").size().plot(kind='bar')"
   ]
  },
  {
   "cell_type": "markdown",
   "metadata": {},
   "source": [
    "<h3>Truncado de los datos / eliminacion de outlayers</h3>"
   ]
  },
  {
   "cell_type": "code",
   "execution_count": 21,
   "metadata": {},
   "outputs": [],
   "source": [
    "df_truncado = pd_carData[pd_carData['selling_price']<=12]\n",
    "df_truncado = df_truncado[df_truncado['selling_price']>1]"
   ]
  },
  {
   "cell_type": "code",
   "execution_count": 22,
   "metadata": {},
   "outputs": [
    {
     "data": {
      "text/plain": [
       "{'whiskers': [<matplotlib.lines.Line2D at 0x1e5b43bc670>,\n",
       "  <matplotlib.lines.Line2D at 0x1e5b43bc940>],\n",
       " 'caps': [<matplotlib.lines.Line2D at 0x1e5b43bcc10>,\n",
       "  <matplotlib.lines.Line2D at 0x1e5b43bcee0>],\n",
       " 'boxes': [<matplotlib.lines.Line2D at 0x1e5b43bc370>],\n",
       " 'medians': [<matplotlib.lines.Line2D at 0x1e5b43c91f0>],\n",
       " 'fliers': [<matplotlib.lines.Line2D at 0x1e5b43c94c0>],\n",
       " 'means': []}"
      ]
     },
     "execution_count": 22,
     "metadata": {},
     "output_type": "execute_result"
    },
    {
     "data": {
      "image/png": "[encoded data removed]",
      "text/plain": [
       "<Figure size 432x288 with 1 Axes>"
      ]
     },
     "metadata": {
      "needs_background": "light"
     },
     "output_type": "display_data"
    }
   ],
   "source": [
    "plt.boxplot(df_truncado['selling_price'],autorange=True)"
   ]
  }
 ],
 "metadata": {
  "kernelspec": {
   "display_name": "Python 3.9.12 ('base')",
   "language": "python",
   "name": "python3"
  },
  "language_info": {
   "codemirror_mode": {
    "name": "ipython",
    "version": 3
   },
   "file_extension": ".py",
   "mimetype": "text/x-python",
   "name": "python",
   "nbconvert_exporter": "python",
   "pygments_lexer": "ipython3",
   "version": "3.9.12"
  },
  "orig_nbformat": 4,
  "vscode": {
   "interpreter": {
    "hash": "ad2bdc8ecc057115af97d19610ffacc2b4e99fae6737bb82f5d7fb13d2f2c186"
   }
  }
 },
 "nbformat": 4,
 "nbformat_minor": 2
}
