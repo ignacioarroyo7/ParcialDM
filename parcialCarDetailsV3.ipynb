{
 "cells": [
  {
   "cell_type": "code",
   "execution_count": 109,
   "metadata": {},
   "outputs": [],
   "source": [
    "import pandas as pd\n",
    "import numpy as np\n",
    "from sklearn import  linear_model\n",
    "import matplotlib.pyplot as plt\n",
    "import seaborn as sns"
   ]
  },
  {
   "cell_type": "code",
   "execution_count": 110,
   "metadata": {},
   "outputs": [],
   "source": [
    "pd_carData = pd.read_csv(\"Car details v3.csv\")"
   ]
  },
  {
   "cell_type": "code",
   "execution_count": 111,
   "metadata": {},
   "outputs": [
    {
     "data": {
      "text/html": [
       "<div>\n",
       "<style scoped>\n",
       "    .dataframe tbody tr th:only-of-type {\n",
       "        vertical-align: middle;\n",
       "    }\n",
       "\n",
       "    .dataframe tbody tr th {\n",
       "        vertical-align: top;\n",
       "    }\n",
       "\n",
       "    .dataframe thead th {\n",
       "        text-align: right;\n",
       "    }\n",
       "</style>\n",
       "<table border=\"1\" class=\"dataframe\">\n",
       "  <thead>\n",
       "    <tr style=\"text-align: right;\">\n",
       "      <th></th>\n",
       "      <th>0</th>\n",
       "      <th>1</th>\n",
       "      <th>2</th>\n",
       "      <th>3</th>\n",
       "      <th>4</th>\n",
       "      <th>5</th>\n",
       "      <th>6</th>\n",
       "      <th>7</th>\n",
       "      <th>8</th>\n",
       "      <th>9</th>\n",
       "      <th>...</th>\n",
       "      <th>8118</th>\n",
       "      <th>8119</th>\n",
       "      <th>8120</th>\n",
       "      <th>8121</th>\n",
       "      <th>8122</th>\n",
       "      <th>8123</th>\n",
       "      <th>8124</th>\n",
       "      <th>8125</th>\n",
       "      <th>8126</th>\n",
       "      <th>8127</th>\n",
       "    </tr>\n",
       "  </thead>\n",
       "  <tbody>\n",
       "    <tr>\n",
       "      <th>name</th>\n",
       "      <td>Maruti Swift Dzire VDI</td>\n",
       "      <td>Skoda Rapid 1.5 TDI Ambition</td>\n",
       "      <td>Honda City 2017-2020 EXi</td>\n",
       "      <td>Hyundai i20 Sportz Diesel</td>\n",
       "      <td>Maruti Swift VXI BSIII</td>\n",
       "      <td>Hyundai Xcent 1.2 VTVT E Plus</td>\n",
       "      <td>Maruti Wagon R LXI DUO BSIII</td>\n",
       "      <td>Maruti 800 DX BSII</td>\n",
       "      <td>Toyota Etios VXD</td>\n",
       "      <td>Ford Figo Diesel Celebration Edition</td>\n",
       "      <td>...</td>\n",
       "      <td>Hyundai i20 Magna</td>\n",
       "      <td>Maruti Wagon R LXI Optional</td>\n",
       "      <td>Hyundai Santro Xing GLS</td>\n",
       "      <td>Maruti Wagon R VXI BS IV with ABS</td>\n",
       "      <td>Hyundai i20 Magna 1.4 CRDi</td>\n",
       "      <td>Hyundai i20 Magna</td>\n",
       "      <td>Hyundai Verna CRDi SX</td>\n",
       "      <td>Maruti Swift Dzire ZDi</td>\n",
       "      <td>Tata Indigo CR4</td>\n",
       "      <td>Tata Indigo CR4</td>\n",
       "    </tr>\n",
       "    <tr>\n",
       "      <th>year</th>\n",
       "      <td>2014</td>\n",
       "      <td>2014</td>\n",
       "      <td>2006</td>\n",
       "      <td>2010</td>\n",
       "      <td>2007</td>\n",
       "      <td>2017</td>\n",
       "      <td>2007</td>\n",
       "      <td>2001</td>\n",
       "      <td>2011</td>\n",
       "      <td>2013</td>\n",
       "      <td>...</td>\n",
       "      <td>2013</td>\n",
       "      <td>2017</td>\n",
       "      <td>2008</td>\n",
       "      <td>2013</td>\n",
       "      <td>2014</td>\n",
       "      <td>2013</td>\n",
       "      <td>2007</td>\n",
       "      <td>2009</td>\n",
       "      <td>2013</td>\n",
       "      <td>2013</td>\n",
       "    </tr>\n",
       "    <tr>\n",
       "      <th>selling_price</th>\n",
       "      <td>450000</td>\n",
       "      <td>370000</td>\n",
       "      <td>158000</td>\n",
       "      <td>225000</td>\n",
       "      <td>130000</td>\n",
       "      <td>440000</td>\n",
       "      <td>96000</td>\n",
       "      <td>45000</td>\n",
       "      <td>350000</td>\n",
       "      <td>200000</td>\n",
       "      <td>...</td>\n",
       "      <td>380000</td>\n",
       "      <td>360000</td>\n",
       "      <td>120000</td>\n",
       "      <td>260000</td>\n",
       "      <td>475000</td>\n",
       "      <td>320000</td>\n",
       "      <td>135000</td>\n",
       "      <td>382000</td>\n",
       "      <td>290000</td>\n",
       "      <td>290000</td>\n",
       "    </tr>\n",
       "    <tr>\n",
       "      <th>km_driven</th>\n",
       "      <td>145500</td>\n",
       "      <td>120000</td>\n",
       "      <td>140000</td>\n",
       "      <td>127000</td>\n",
       "      <td>120000</td>\n",
       "      <td>45000</td>\n",
       "      <td>175000</td>\n",
       "      <td>5000</td>\n",
       "      <td>90000</td>\n",
       "      <td>169000</td>\n",
       "      <td>...</td>\n",
       "      <td>25000</td>\n",
       "      <td>80000</td>\n",
       "      <td>191000</td>\n",
       "      <td>50000</td>\n",
       "      <td>80000</td>\n",
       "      <td>110000</td>\n",
       "      <td>119000</td>\n",
       "      <td>120000</td>\n",
       "      <td>25000</td>\n",
       "      <td>25000</td>\n",
       "    </tr>\n",
       "    <tr>\n",
       "      <th>fuel</th>\n",
       "      <td>Diesel</td>\n",
       "      <td>Diesel</td>\n",
       "      <td>Petrol</td>\n",
       "      <td>Diesel</td>\n",
       "      <td>Petrol</td>\n",
       "      <td>Petrol</td>\n",
       "      <td>LPG</td>\n",
       "      <td>Petrol</td>\n",
       "      <td>Diesel</td>\n",
       "      <td>Diesel</td>\n",
       "      <td>...</td>\n",
       "      <td>Petrol</td>\n",
       "      <td>Petrol</td>\n",
       "      <td>Petrol</td>\n",
       "      <td>Petrol</td>\n",
       "      <td>Diesel</td>\n",
       "      <td>Petrol</td>\n",
       "      <td>Diesel</td>\n",
       "      <td>Diesel</td>\n",
       "      <td>Diesel</td>\n",
       "      <td>Diesel</td>\n",
       "    </tr>\n",
       "    <tr>\n",
       "      <th>seller_type</th>\n",
       "      <td>Individual</td>\n",
       "      <td>Individual</td>\n",
       "      <td>Individual</td>\n",
       "      <td>Individual</td>\n",
       "      <td>Individual</td>\n",
       "      <td>Individual</td>\n",
       "      <td>Individual</td>\n",
       "      <td>Individual</td>\n",
       "      <td>Individual</td>\n",
       "      <td>Individual</td>\n",
       "      <td>...</td>\n",
       "      <td>Individual</td>\n",
       "      <td>Individual</td>\n",
       "      <td>Individual</td>\n",
       "      <td>Individual</td>\n",
       "      <td>Individual</td>\n",
       "      <td>Individual</td>\n",
       "      <td>Individual</td>\n",
       "      <td>Individual</td>\n",
       "      <td>Individual</td>\n",
       "      <td>Individual</td>\n",
       "    </tr>\n",
       "    <tr>\n",
       "      <th>transmission</th>\n",
       "      <td>Manual</td>\n",
       "      <td>Manual</td>\n",
       "      <td>Manual</td>\n",
       "      <td>Manual</td>\n",
       "      <td>Manual</td>\n",
       "      <td>Manual</td>\n",
       "      <td>Manual</td>\n",
       "      <td>Manual</td>\n",
       "      <td>Manual</td>\n",
       "      <td>Manual</td>\n",
       "      <td>...</td>\n",
       "      <td>Manual</td>\n",
       "      <td>Manual</td>\n",
       "      <td>Manual</td>\n",
       "      <td>Manual</td>\n",
       "      <td>Manual</td>\n",
       "      <td>Manual</td>\n",
       "      <td>Manual</td>\n",
       "      <td>Manual</td>\n",
       "      <td>Manual</td>\n",
       "      <td>Manual</td>\n",
       "    </tr>\n",
       "    <tr>\n",
       "      <th>owner</th>\n",
       "      <td>First Owner</td>\n",
       "      <td>Second Owner</td>\n",
       "      <td>Third Owner</td>\n",
       "      <td>First Owner</td>\n",
       "      <td>First Owner</td>\n",
       "      <td>First Owner</td>\n",
       "      <td>First Owner</td>\n",
       "      <td>Second Owner</td>\n",
       "      <td>First Owner</td>\n",
       "      <td>First Owner</td>\n",
       "      <td>...</td>\n",
       "      <td>First Owner</td>\n",
       "      <td>First Owner</td>\n",
       "      <td>First Owner</td>\n",
       "      <td>Second Owner</td>\n",
       "      <td>Second Owner</td>\n",
       "      <td>First Owner</td>\n",
       "      <td>Fourth &amp; Above Owner</td>\n",
       "      <td>First Owner</td>\n",
       "      <td>First Owner</td>\n",
       "      <td>First Owner</td>\n",
       "    </tr>\n",
       "    <tr>\n",
       "      <th>mileage</th>\n",
       "      <td>23.4 kmpl</td>\n",
       "      <td>21.14 kmpl</td>\n",
       "      <td>17.7 kmpl</td>\n",
       "      <td>23.0 kmpl</td>\n",
       "      <td>16.1 kmpl</td>\n",
       "      <td>20.14 kmpl</td>\n",
       "      <td>17.3 km/kg</td>\n",
       "      <td>16.1 kmpl</td>\n",
       "      <td>23.59 kmpl</td>\n",
       "      <td>20.0 kmpl</td>\n",
       "      <td>...</td>\n",
       "      <td>18.5 kmpl</td>\n",
       "      <td>20.51 kmpl</td>\n",
       "      <td>17.92 kmpl</td>\n",
       "      <td>18.9 kmpl</td>\n",
       "      <td>22.54 kmpl</td>\n",
       "      <td>18.5 kmpl</td>\n",
       "      <td>16.8 kmpl</td>\n",
       "      <td>19.3 kmpl</td>\n",
       "      <td>23.57 kmpl</td>\n",
       "      <td>23.57 kmpl</td>\n",
       "    </tr>\n",
       "    <tr>\n",
       "      <th>engine</th>\n",
       "      <td>1248 CC</td>\n",
       "      <td>1498 CC</td>\n",
       "      <td>1497 CC</td>\n",
       "      <td>1396 CC</td>\n",
       "      <td>1298 CC</td>\n",
       "      <td>1197 CC</td>\n",
       "      <td>1061 CC</td>\n",
       "      <td>796 CC</td>\n",
       "      <td>1364 CC</td>\n",
       "      <td>1399 CC</td>\n",
       "      <td>...</td>\n",
       "      <td>1197 CC</td>\n",
       "      <td>998 CC</td>\n",
       "      <td>1086 CC</td>\n",
       "      <td>998 CC</td>\n",
       "      <td>1396 CC</td>\n",
       "      <td>1197 CC</td>\n",
       "      <td>1493 CC</td>\n",
       "      <td>1248 CC</td>\n",
       "      <td>1396 CC</td>\n",
       "      <td>1396 CC</td>\n",
       "    </tr>\n",
       "    <tr>\n",
       "      <th>max_power</th>\n",
       "      <td>74 bhp</td>\n",
       "      <td>103.52 bhp</td>\n",
       "      <td>78 bhp</td>\n",
       "      <td>90 bhp</td>\n",
       "      <td>88.2 bhp</td>\n",
       "      <td>81.86 bhp</td>\n",
       "      <td>57.5 bhp</td>\n",
       "      <td>37 bhp</td>\n",
       "      <td>67.1 bhp</td>\n",
       "      <td>68.1 bhp</td>\n",
       "      <td>...</td>\n",
       "      <td>82.85 bhp</td>\n",
       "      <td>67.04 bhp</td>\n",
       "      <td>62.1 bhp</td>\n",
       "      <td>67.1 bhp</td>\n",
       "      <td>88.73 bhp</td>\n",
       "      <td>82.85 bhp</td>\n",
       "      <td>110 bhp</td>\n",
       "      <td>73.9 bhp</td>\n",
       "      <td>70 bhp</td>\n",
       "      <td>70 bhp</td>\n",
       "    </tr>\n",
       "    <tr>\n",
       "      <th>torque</th>\n",
       "      <td>190Nm@ 2000rpm</td>\n",
       "      <td>250Nm@ 1500-2500rpm</td>\n",
       "      <td>12.7@ 2,700(kgm@ rpm)</td>\n",
       "      <td>22.4 kgm at 1750-2750rpm</td>\n",
       "      <td>11.5@ 4,500(kgm@ rpm)</td>\n",
       "      <td>113.75nm@ 4000rpm</td>\n",
       "      <td>7.8@ 4,500(kgm@ rpm)</td>\n",
       "      <td>59Nm@ 2500rpm</td>\n",
       "      <td>170Nm@ 1800-2400rpm</td>\n",
       "      <td>160Nm@ 2000rpm</td>\n",
       "      <td>...</td>\n",
       "      <td>113.7Nm@ 4000rpm</td>\n",
       "      <td>90Nm@ 3500rpm</td>\n",
       "      <td>96.1Nm@ 3000rpm</td>\n",
       "      <td>90Nm@ 3500rpm</td>\n",
       "      <td>219.7Nm@ 1500-2750rpm</td>\n",
       "      <td>113.7Nm@ 4000rpm</td>\n",
       "      <td>24@ 1,900-2,750(kgm@ rpm)</td>\n",
       "      <td>190Nm@ 2000rpm</td>\n",
       "      <td>140Nm@ 1800-3000rpm</td>\n",
       "      <td>140Nm@ 1800-3000rpm</td>\n",
       "    </tr>\n",
       "    <tr>\n",
       "      <th>seats</th>\n",
       "      <td>5.0</td>\n",
       "      <td>5.0</td>\n",
       "      <td>5.0</td>\n",
       "      <td>5.0</td>\n",
       "      <td>5.0</td>\n",
       "      <td>5.0</td>\n",
       "      <td>5.0</td>\n",
       "      <td>4.0</td>\n",
       "      <td>5.0</td>\n",
       "      <td>5.0</td>\n",
       "      <td>...</td>\n",
       "      <td>5.0</td>\n",
       "      <td>5.0</td>\n",
       "      <td>5.0</td>\n",
       "      <td>5.0</td>\n",
       "      <td>5.0</td>\n",
       "      <td>5.0</td>\n",
       "      <td>5.0</td>\n",
       "      <td>5.0</td>\n",
       "      <td>5.0</td>\n",
       "      <td>5.0</td>\n",
       "    </tr>\n",
       "  </tbody>\n",
       "</table>\n",
       "<p>13 rows × 8128 columns</p>\n",
       "</div>"
      ],
      "text/plain": [
       "                                 0                             1     \\\n",
       "name           Maruti Swift Dzire VDI  Skoda Rapid 1.5 TDI Ambition   \n",
       "year                             2014                          2014   \n",
       "selling_price                  450000                        370000   \n",
       "km_driven                      145500                        120000   \n",
       "fuel                           Diesel                        Diesel   \n",
       "seller_type                Individual                    Individual   \n",
       "transmission                   Manual                        Manual   \n",
       "owner                     First Owner                  Second Owner   \n",
       "mileage                     23.4 kmpl                    21.14 kmpl   \n",
       "engine                        1248 CC                       1498 CC   \n",
       "max_power                      74 bhp                    103.52 bhp   \n",
       "torque                 190Nm@ 2000rpm           250Nm@ 1500-2500rpm   \n",
       "seats                             5.0                           5.0   \n",
       "\n",
       "                                   2                          3     \\\n",
       "name           Honda City 2017-2020 EXi  Hyundai i20 Sportz Diesel   \n",
       "year                               2006                       2010   \n",
       "selling_price                    158000                     225000   \n",
       "km_driven                        140000                     127000   \n",
       "fuel                             Petrol                     Diesel   \n",
       "seller_type                  Individual                 Individual   \n",
       "transmission                     Manual                     Manual   \n",
       "owner                       Third Owner                First Owner   \n",
       "mileage                       17.7 kmpl                  23.0 kmpl   \n",
       "engine                          1497 CC                    1396 CC   \n",
       "max_power                        78 bhp                     90 bhp   \n",
       "torque            12.7@ 2,700(kgm@ rpm)   22.4 kgm at 1750-2750rpm   \n",
       "seats                               5.0                        5.0   \n",
       "\n",
       "                                 4                              5     \\\n",
       "name           Maruti Swift VXI BSIII  Hyundai Xcent 1.2 VTVT E Plus   \n",
       "year                             2007                           2017   \n",
       "selling_price                  130000                         440000   \n",
       "km_driven                      120000                          45000   \n",
       "fuel                           Petrol                         Petrol   \n",
       "seller_type                Individual                     Individual   \n",
       "transmission                   Manual                         Manual   \n",
       "owner                     First Owner                    First Owner   \n",
       "mileage                     16.1 kmpl                     20.14 kmpl   \n",
       "engine                        1298 CC                        1197 CC   \n",
       "max_power                    88.2 bhp                      81.86 bhp   \n",
       "torque          11.5@ 4,500(kgm@ rpm)              113.75nm@ 4000rpm   \n",
       "seats                             5.0                            5.0   \n",
       "\n",
       "                                       6                   7     \\\n",
       "name           Maruti Wagon R LXI DUO BSIII  Maruti 800 DX BSII   \n",
       "year                                   2007                2001   \n",
       "selling_price                         96000               45000   \n",
       "km_driven                            175000                5000   \n",
       "fuel                                    LPG              Petrol   \n",
       "seller_type                      Individual          Individual   \n",
       "transmission                         Manual              Manual   \n",
       "owner                           First Owner        Second Owner   \n",
       "mileage                          17.3 km/kg           16.1 kmpl   \n",
       "engine                              1061 CC              796 CC   \n",
       "max_power                          57.5 bhp              37 bhp   \n",
       "torque                 7.8@ 4,500(kgm@ rpm)       59Nm@ 2500rpm   \n",
       "seats                                   5.0                 4.0   \n",
       "\n",
       "                              8                                     9     ...  \\\n",
       "name              Toyota Etios VXD  Ford Figo Diesel Celebration Edition  ...   \n",
       "year                          2011                                  2013  ...   \n",
       "selling_price               350000                                200000  ...   \n",
       "km_driven                    90000                                169000  ...   \n",
       "fuel                        Diesel                                Diesel  ...   \n",
       "seller_type             Individual                            Individual  ...   \n",
       "transmission                Manual                                Manual  ...   \n",
       "owner                  First Owner                           First Owner  ...   \n",
       "mileage                 23.59 kmpl                             20.0 kmpl  ...   \n",
       "engine                     1364 CC                               1399 CC  ...   \n",
       "max_power                 67.1 bhp                              68.1 bhp  ...   \n",
       "torque         170Nm@ 1800-2400rpm                        160Nm@ 2000rpm  ...   \n",
       "seats                          5.0                                   5.0  ...   \n",
       "\n",
       "                            8118                         8119  \\\n",
       "name           Hyundai i20 Magna  Maruti Wagon R LXI Optional   \n",
       "year                        2013                         2017   \n",
       "selling_price             380000                       360000   \n",
       "km_driven                  25000                        80000   \n",
       "fuel                      Petrol                       Petrol   \n",
       "seller_type           Individual                   Individual   \n",
       "transmission              Manual                       Manual   \n",
       "owner                First Owner                  First Owner   \n",
       "mileage                18.5 kmpl                   20.51 kmpl   \n",
       "engine                   1197 CC                       998 CC   \n",
       "max_power              82.85 bhp                    67.04 bhp   \n",
       "torque          113.7Nm@ 4000rpm                90Nm@ 3500rpm   \n",
       "seats                        5.0                          5.0   \n",
       "\n",
       "                                  8120                               8121  \\\n",
       "name           Hyundai Santro Xing GLS  Maruti Wagon R VXI BS IV with ABS   \n",
       "year                              2008                               2013   \n",
       "selling_price                   120000                             260000   \n",
       "km_driven                       191000                              50000   \n",
       "fuel                            Petrol                             Petrol   \n",
       "seller_type                 Individual                         Individual   \n",
       "transmission                    Manual                             Manual   \n",
       "owner                      First Owner                       Second Owner   \n",
       "mileage                     17.92 kmpl                          18.9 kmpl   \n",
       "engine                         1086 CC                             998 CC   \n",
       "max_power                     62.1 bhp                           67.1 bhp   \n",
       "torque                 96.1Nm@ 3000rpm                      90Nm@ 3500rpm   \n",
       "seats                              5.0                                5.0   \n",
       "\n",
       "                                     8122               8123  \\\n",
       "name           Hyundai i20 Magna 1.4 CRDi  Hyundai i20 Magna   \n",
       "year                                 2014               2013   \n",
       "selling_price                      475000             320000   \n",
       "km_driven                           80000             110000   \n",
       "fuel                               Diesel             Petrol   \n",
       "seller_type                    Individual         Individual   \n",
       "transmission                       Manual             Manual   \n",
       "owner                        Second Owner        First Owner   \n",
       "mileage                        22.54 kmpl          18.5 kmpl   \n",
       "engine                            1396 CC            1197 CC   \n",
       "max_power                       88.73 bhp          82.85 bhp   \n",
       "torque              219.7Nm@ 1500-2750rpm   113.7Nm@ 4000rpm   \n",
       "seats                                 5.0                5.0   \n",
       "\n",
       "                                    8124                    8125  \\\n",
       "name               Hyundai Verna CRDi SX  Maruti Swift Dzire ZDi   \n",
       "year                                2007                    2009   \n",
       "selling_price                     135000                  382000   \n",
       "km_driven                         119000                  120000   \n",
       "fuel                              Diesel                  Diesel   \n",
       "seller_type                   Individual              Individual   \n",
       "transmission                      Manual                  Manual   \n",
       "owner               Fourth & Above Owner             First Owner   \n",
       "mileage                        16.8 kmpl               19.3 kmpl   \n",
       "engine                           1493 CC                 1248 CC   \n",
       "max_power                        110 bhp                73.9 bhp   \n",
       "torque         24@ 1,900-2,750(kgm@ rpm)          190Nm@ 2000rpm   \n",
       "seats                                5.0                     5.0   \n",
       "\n",
       "                              8126                 8127  \n",
       "name               Tata Indigo CR4      Tata Indigo CR4  \n",
       "year                          2013                 2013  \n",
       "selling_price               290000               290000  \n",
       "km_driven                    25000                25000  \n",
       "fuel                        Diesel               Diesel  \n",
       "seller_type             Individual           Individual  \n",
       "transmission                Manual               Manual  \n",
       "owner                  First Owner          First Owner  \n",
       "mileage                 23.57 kmpl           23.57 kmpl  \n",
       "engine                     1396 CC              1396 CC  \n",
       "max_power                   70 bhp               70 bhp  \n",
       "torque         140Nm@ 1800-3000rpm  140Nm@ 1800-3000rpm  \n",
       "seats                          5.0                  5.0  \n",
       "\n",
       "[13 rows x 8128 columns]"
      ]
     },
     "execution_count": 111,
     "metadata": {},
     "output_type": "execute_result"
    }
   ],
   "source": [
    "pd_carData.T"
   ]
  },
  {
   "cell_type": "code",
   "execution_count": 112,
   "metadata": {},
   "outputs": [
    {
     "data": {
      "text/html": [
       "<div>\n",
       "<style scoped>\n",
       "    .dataframe tbody tr th:only-of-type {\n",
       "        vertical-align: middle;\n",
       "    }\n",
       "\n",
       "    .dataframe tbody tr th {\n",
       "        vertical-align: top;\n",
       "    }\n",
       "\n",
       "    .dataframe thead th {\n",
       "        text-align: right;\n",
       "    }\n",
       "</style>\n",
       "<table border=\"1\" class=\"dataframe\">\n",
       "  <thead>\n",
       "    <tr style=\"text-align: right;\">\n",
       "      <th></th>\n",
       "      <th>count</th>\n",
       "      <th>unique</th>\n",
       "      <th>top</th>\n",
       "      <th>freq</th>\n",
       "      <th>mean</th>\n",
       "      <th>std</th>\n",
       "      <th>min</th>\n",
       "      <th>25%</th>\n",
       "      <th>50%</th>\n",
       "      <th>75%</th>\n",
       "      <th>max</th>\n",
       "    </tr>\n",
       "  </thead>\n",
       "  <tbody>\n",
       "    <tr>\n",
       "      <th>name</th>\n",
       "      <td>8128</td>\n",
       "      <td>2058</td>\n",
       "      <td>Maruti Swift Dzire VDI</td>\n",
       "      <td>129</td>\n",
       "      <td>NaN</td>\n",
       "      <td>NaN</td>\n",
       "      <td>NaN</td>\n",
       "      <td>NaN</td>\n",
       "      <td>NaN</td>\n",
       "      <td>NaN</td>\n",
       "      <td>NaN</td>\n",
       "    </tr>\n",
       "    <tr>\n",
       "      <th>year</th>\n",
       "      <td>8128.0</td>\n",
       "      <td>NaN</td>\n",
       "      <td>NaN</td>\n",
       "      <td>NaN</td>\n",
       "      <td>2013.804011</td>\n",
       "      <td>4.044249</td>\n",
       "      <td>1983.0</td>\n",
       "      <td>2011.0</td>\n",
       "      <td>2015.0</td>\n",
       "      <td>2017.0</td>\n",
       "      <td>2020.0</td>\n",
       "    </tr>\n",
       "    <tr>\n",
       "      <th>selling_price</th>\n",
       "      <td>8128.0</td>\n",
       "      <td>NaN</td>\n",
       "      <td>NaN</td>\n",
       "      <td>NaN</td>\n",
       "      <td>638271.807702</td>\n",
       "      <td>806253.403508</td>\n",
       "      <td>29999.0</td>\n",
       "      <td>254999.0</td>\n",
       "      <td>450000.0</td>\n",
       "      <td>675000.0</td>\n",
       "      <td>10000000.0</td>\n",
       "    </tr>\n",
       "    <tr>\n",
       "      <th>km_driven</th>\n",
       "      <td>8128.0</td>\n",
       "      <td>NaN</td>\n",
       "      <td>NaN</td>\n",
       "      <td>NaN</td>\n",
       "      <td>69819.510827</td>\n",
       "      <td>56550.554958</td>\n",
       "      <td>1.0</td>\n",
       "      <td>35000.0</td>\n",
       "      <td>60000.0</td>\n",
       "      <td>98000.0</td>\n",
       "      <td>2360457.0</td>\n",
       "    </tr>\n",
       "    <tr>\n",
       "      <th>fuel</th>\n",
       "      <td>8128</td>\n",
       "      <td>4</td>\n",
       "      <td>Diesel</td>\n",
       "      <td>4402</td>\n",
       "      <td>NaN</td>\n",
       "      <td>NaN</td>\n",
       "      <td>NaN</td>\n",
       "      <td>NaN</td>\n",
       "      <td>NaN</td>\n",
       "      <td>NaN</td>\n",
       "      <td>NaN</td>\n",
       "    </tr>\n",
       "    <tr>\n",
       "      <th>seller_type</th>\n",
       "      <td>8128</td>\n",
       "      <td>3</td>\n",
       "      <td>Individual</td>\n",
       "      <td>6766</td>\n",
       "      <td>NaN</td>\n",
       "      <td>NaN</td>\n",
       "      <td>NaN</td>\n",
       "      <td>NaN</td>\n",
       "      <td>NaN</td>\n",
       "      <td>NaN</td>\n",
       "      <td>NaN</td>\n",
       "    </tr>\n",
       "    <tr>\n",
       "      <th>transmission</th>\n",
       "      <td>8128</td>\n",
       "      <td>2</td>\n",
       "      <td>Manual</td>\n",
       "      <td>7078</td>\n",
       "      <td>NaN</td>\n",
       "      <td>NaN</td>\n",
       "      <td>NaN</td>\n",
       "      <td>NaN</td>\n",
       "      <td>NaN</td>\n",
       "      <td>NaN</td>\n",
       "      <td>NaN</td>\n",
       "    </tr>\n",
       "    <tr>\n",
       "      <th>owner</th>\n",
       "      <td>8128</td>\n",
       "      <td>5</td>\n",
       "      <td>First Owner</td>\n",
       "      <td>5289</td>\n",
       "      <td>NaN</td>\n",
       "      <td>NaN</td>\n",
       "      <td>NaN</td>\n",
       "      <td>NaN</td>\n",
       "      <td>NaN</td>\n",
       "      <td>NaN</td>\n",
       "      <td>NaN</td>\n",
       "    </tr>\n",
       "    <tr>\n",
       "      <th>mileage</th>\n",
       "      <td>7907</td>\n",
       "      <td>393</td>\n",
       "      <td>18.9 kmpl</td>\n",
       "      <td>225</td>\n",
       "      <td>NaN</td>\n",
       "      <td>NaN</td>\n",
       "      <td>NaN</td>\n",
       "      <td>NaN</td>\n",
       "      <td>NaN</td>\n",
       "      <td>NaN</td>\n",
       "      <td>NaN</td>\n",
       "    </tr>\n",
       "    <tr>\n",
       "      <th>engine</th>\n",
       "      <td>7907</td>\n",
       "      <td>121</td>\n",
       "      <td>1248 CC</td>\n",
       "      <td>1017</td>\n",
       "      <td>NaN</td>\n",
       "      <td>NaN</td>\n",
       "      <td>NaN</td>\n",
       "      <td>NaN</td>\n",
       "      <td>NaN</td>\n",
       "      <td>NaN</td>\n",
       "      <td>NaN</td>\n",
       "    </tr>\n",
       "    <tr>\n",
       "      <th>max_power</th>\n",
       "      <td>7913</td>\n",
       "      <td>322</td>\n",
       "      <td>74 bhp</td>\n",
       "      <td>377</td>\n",
       "      <td>NaN</td>\n",
       "      <td>NaN</td>\n",
       "      <td>NaN</td>\n",
       "      <td>NaN</td>\n",
       "      <td>NaN</td>\n",
       "      <td>NaN</td>\n",
       "      <td>NaN</td>\n",
       "    </tr>\n",
       "    <tr>\n",
       "      <th>torque</th>\n",
       "      <td>7906</td>\n",
       "      <td>441</td>\n",
       "      <td>190Nm@ 2000rpm</td>\n",
       "      <td>530</td>\n",
       "      <td>NaN</td>\n",
       "      <td>NaN</td>\n",
       "      <td>NaN</td>\n",
       "      <td>NaN</td>\n",
       "      <td>NaN</td>\n",
       "      <td>NaN</td>\n",
       "      <td>NaN</td>\n",
       "    </tr>\n",
       "    <tr>\n",
       "      <th>seats</th>\n",
       "      <td>7907.0</td>\n",
       "      <td>NaN</td>\n",
       "      <td>NaN</td>\n",
       "      <td>NaN</td>\n",
       "      <td>5.416719</td>\n",
       "      <td>0.959588</td>\n",
       "      <td>2.0</td>\n",
       "      <td>5.0</td>\n",
       "      <td>5.0</td>\n",
       "      <td>5.0</td>\n",
       "      <td>14.0</td>\n",
       "    </tr>\n",
       "  </tbody>\n",
       "</table>\n",
       "</div>"
      ],
      "text/plain": [
       "                count unique                     top  freq           mean  \\\n",
       "name             8128   2058  Maruti Swift Dzire VDI   129            NaN   \n",
       "year           8128.0    NaN                     NaN   NaN    2013.804011   \n",
       "selling_price  8128.0    NaN                     NaN   NaN  638271.807702   \n",
       "km_driven      8128.0    NaN                     NaN   NaN   69819.510827   \n",
       "fuel             8128      4                  Diesel  4402            NaN   \n",
       "seller_type      8128      3              Individual  6766            NaN   \n",
       "transmission     8128      2                  Manual  7078            NaN   \n",
       "owner            8128      5             First Owner  5289            NaN   \n",
       "mileage          7907    393               18.9 kmpl   225            NaN   \n",
       "engine           7907    121                 1248 CC  1017            NaN   \n",
       "max_power        7913    322                  74 bhp   377            NaN   \n",
       "torque           7906    441          190Nm@ 2000rpm   530            NaN   \n",
       "seats          7907.0    NaN                     NaN   NaN       5.416719   \n",
       "\n",
       "                         std      min       25%       50%       75%  \\\n",
       "name                     NaN      NaN       NaN       NaN       NaN   \n",
       "year                4.044249   1983.0    2011.0    2015.0    2017.0   \n",
       "selling_price  806253.403508  29999.0  254999.0  450000.0  675000.0   \n",
       "km_driven       56550.554958      1.0   35000.0   60000.0   98000.0   \n",
       "fuel                     NaN      NaN       NaN       NaN       NaN   \n",
       "seller_type              NaN      NaN       NaN       NaN       NaN   \n",
       "transmission             NaN      NaN       NaN       NaN       NaN   \n",
       "owner                    NaN      NaN       NaN       NaN       NaN   \n",
       "mileage                  NaN      NaN       NaN       NaN       NaN   \n",
       "engine                   NaN      NaN       NaN       NaN       NaN   \n",
       "max_power                NaN      NaN       NaN       NaN       NaN   \n",
       "torque                   NaN      NaN       NaN       NaN       NaN   \n",
       "seats               0.959588      2.0       5.0       5.0       5.0   \n",
       "\n",
       "                      max  \n",
       "name                  NaN  \n",
       "year               2020.0  \n",
       "selling_price  10000000.0  \n",
       "km_driven       2360457.0  \n",
       "fuel                  NaN  \n",
       "seller_type           NaN  \n",
       "transmission          NaN  \n",
       "owner                 NaN  \n",
       "mileage               NaN  \n",
       "engine                NaN  \n",
       "max_power             NaN  \n",
       "torque                NaN  \n",
       "seats                14.0  "
      ]
     },
     "execution_count": 112,
     "metadata": {},
     "output_type": "execute_result"
    }
   ],
   "source": [
    "pd_carData.describe(include='all').T"
   ]
  },
  {
   "cell_type": "code",
   "execution_count": 113,
   "metadata": {},
   "outputs": [
    {
     "name": "stdout",
     "output_type": "stream",
     "text": [
      "<class 'pandas.core.frame.DataFrame'>\n",
      "RangeIndex: 8128 entries, 0 to 8127\n",
      "Data columns (total 13 columns):\n",
      " #   Column         Non-Null Count  Dtype  \n",
      "---  ------         --------------  -----  \n",
      " 0   name           8128 non-null   object \n",
      " 1   year           8128 non-null   int64  \n",
      " 2   selling_price  8128 non-null   int64  \n",
      " 3   km_driven      8128 non-null   int64  \n",
      " 4   fuel           8128 non-null   object \n",
      " 5   seller_type    8128 non-null   object \n",
      " 6   transmission   8128 non-null   object \n",
      " 7   owner          8128 non-null   object \n",
      " 8   mileage        7907 non-null   object \n",
      " 9   engine         7907 non-null   object \n",
      " 10  max_power      7913 non-null   object \n",
      " 11  torque         7906 non-null   object \n",
      " 12  seats          7907 non-null   float64\n",
      "dtypes: float64(1), int64(3), object(9)\n",
      "memory usage: 825.6+ KB\n"
     ]
    }
   ],
   "source": [
    "pd_carData.info()"
   ]
  },
  {
   "cell_type": "markdown",
   "metadata": {},
   "source": [
    "<h2>Analisis univariado</h2>"
   ]
  },
  {
   "cell_type": "markdown",
   "metadata": {},
   "source": [
    "<p>name se elimina por ser string</p>"
   ]
  },
  {
   "cell_type": "markdown",
   "metadata": {},
   "source": [
    "Analisis variable objetivo Selling_Price"
   ]
  },
  {
   "cell_type": "markdown",
   "metadata": {},
   "source": [
    "boxplot es un tipo de grafico que facilmente nos permite identificar los outlayers, y la idea es eliminarlos"
   ]
  },
  {
   "cell_type": "code",
   "execution_count": 114,
   "metadata": {},
   "outputs": [
    {
     "data": {
      "text/plain": [
       "{'whiskers': [<matplotlib.lines.Line2D at 0x218f6829e20>,\n",
       "  <matplotlib.lines.Line2D at 0x218f6837160>],\n",
       " 'caps': [<matplotlib.lines.Line2D at 0x218f6837430>,\n",
       "  <matplotlib.lines.Line2D at 0x218f6837700>],\n",
       " 'boxes': [<matplotlib.lines.Line2D at 0x218f6829b50>],\n",
       " 'medians': [<matplotlib.lines.Line2D at 0x218f68379d0>],\n",
       " 'fliers': [<matplotlib.lines.Line2D at 0x218f6837ca0>],\n",
       " 'means': []}"
      ]
     },
     "execution_count": 114,
     "metadata": {},
     "output_type": "execute_result"
    },
    {
     "data": {
      "image/png": "[encoded data removed]",
      "text/plain": [
       "<Figure size 432x288 with 1 Axes>"
      ]
     },
     "metadata": {
      "needs_background": "light"
     },
     "output_type": "display_data"
    }
   ],
   "source": [
    "plt.boxplot(pd_carData['selling_price'],autorange=True)\n"
   ]
  },
  {
   "cell_type": "code",
   "execution_count": 115,
   "metadata": {},
   "outputs": [
    {
     "data": {
      "text/plain": [
       "(array([3.270e+03, 2.895e+03, 1.153e+03, 2.280e+02, 1.120e+02, 1.120e+02,\n",
       "        2.100e+01, 5.900e+01, 4.900e+01, 5.100e+01, 5.000e+00, 4.300e+01,\n",
       "        7.000e+00, 6.000e+00, 0.000e+00, 3.800e+01, 6.300e+01, 1.200e+01,\n",
       "        1.000e+00, 1.000e+00, 0.000e+00, 1.000e+00, 0.000e+00, 0.000e+00,\n",
       "        0.000e+00, 0.000e+00, 0.000e+00, 0.000e+00, 0.000e+00, 1.000e+00]),\n",
       " array([   29999.        ,   362332.36666667,   694665.73333333,\n",
       "         1026999.1       ,  1359332.46666667,  1691665.83333333,\n",
       "         2023999.2       ,  2356332.56666667,  2688665.93333333,\n",
       "         3020999.3       ,  3353332.66666667,  3685666.03333333,\n",
       "         4017999.4       ,  4350332.76666667,  4682666.13333333,\n",
       "         5014999.5       ,  5347332.86666667,  5679666.23333333,\n",
       "         6011999.6       ,  6344332.96666667,  6676666.33333333,\n",
       "         7008999.7       ,  7341333.06666667,  7673666.43333333,\n",
       "         8005999.8       ,  8338333.16666667,  8670666.53333333,\n",
       "         9002999.9       ,  9335333.26666667,  9667666.63333333,\n",
       "        10000000.        ]),\n",
       " <BarContainer object of 30 artists>)"
      ]
     },
     "execution_count": 115,
     "metadata": {},
     "output_type": "execute_result"
    },
    {
     "data": {
      "image/png": "[encoded data removed]",
      "text/plain": [
       "<Figure size 432x288 with 1 Axes>"
      ]
     },
     "metadata": {
      "needs_background": "light"
     },
     "output_type": "display_data"
    }
   ],
   "source": [
    "plt.hist(pd_carData['selling_price'],bins=30)"
   ]
  },
  {
   "cell_type": "markdown",
   "metadata": {},
   "source": [
    "km_driven"
   ]
  },
  {
   "cell_type": "code",
   "execution_count": 116,
   "metadata": {},
   "outputs": [
    {
     "data": {
      "text/plain": [
       "{'whiskers': [<matplotlib.lines.Line2D at 0x218f6897910>,\n",
       "  <matplotlib.lines.Line2D at 0x218f6897be0>],\n",
       " 'caps': [<matplotlib.lines.Line2D at 0x218f6897eb0>,\n",
       "  <matplotlib.lines.Line2D at 0x218f68a31c0>],\n",
       " 'boxes': [<matplotlib.lines.Line2D at 0x218f6897760>],\n",
       " 'medians': [<matplotlib.lines.Line2D at 0x218f68a3490>],\n",
       " 'fliers': [<matplotlib.lines.Line2D at 0x218f68a3760>],\n",
       " 'means': []}"
      ]
     },
     "execution_count": 116,
     "metadata": {},
     "output_type": "execute_result"
    },
    {
     "data": {
      "image/png": "[encoded data removed]",
      "text/plain": [
       "<Figure size 432x288 with 1 Axes>"
      ]
     },
     "metadata": {
      "needs_background": "light"
     },
     "output_type": "display_data"
    }
   ],
   "source": [
    "plt.boxplot(pd_carData['km_driven'],autorange=True)"
   ]
  },
  {
   "cell_type": "code",
   "execution_count": 117,
   "metadata": {},
   "outputs": [
    {
     "data": {
      "text/plain": [
       "(array([5.022e+03, 2.753e+03, 2.800e+02, 5.600e+01, 9.000e+00, 2.000e+00,\n",
       "        3.000e+00, 1.000e+00, 0.000e+00, 0.000e+00, 0.000e+00, 0.000e+00,\n",
       "        0.000e+00, 0.000e+00, 0.000e+00, 0.000e+00, 0.000e+00, 0.000e+00,\n",
       "        0.000e+00, 1.000e+00, 0.000e+00, 0.000e+00, 0.000e+00, 0.000e+00,\n",
       "        0.000e+00, 0.000e+00, 0.000e+00, 0.000e+00, 0.000e+00, 1.000e+00]),\n",
       " array([1.00000000e+00, 7.86828667e+04, 1.57364733e+05, 2.36046600e+05,\n",
       "        3.14728467e+05, 3.93410333e+05, 4.72092200e+05, 5.50774067e+05,\n",
       "        6.29455933e+05, 7.08137800e+05, 7.86819667e+05, 8.65501533e+05,\n",
       "        9.44183400e+05, 1.02286527e+06, 1.10154713e+06, 1.18022900e+06,\n",
       "        1.25891087e+06, 1.33759273e+06, 1.41627460e+06, 1.49495647e+06,\n",
       "        1.57363833e+06, 1.65232020e+06, 1.73100207e+06, 1.80968393e+06,\n",
       "        1.88836580e+06, 1.96704767e+06, 2.04572953e+06, 2.12441140e+06,\n",
       "        2.20309327e+06, 2.28177513e+06, 2.36045700e+06]),\n",
       " <BarContainer object of 30 artists>)"
      ]
     },
     "execution_count": 117,
     "metadata": {},
     "output_type": "execute_result"
    },
    {
     "data": {
      "image/png": "[encoded data removed]",
      "text/plain": [
       "<Figure size 432x288 with 1 Axes>"
      ]
     },
     "metadata": {
      "needs_background": "light"
     },
     "output_type": "display_data"
    }
   ],
   "source": [
    "plt.hist(pd_carData['km_driven'],bins=30)"
   ]
  },
  {
   "cell_type": "markdown",
   "metadata": {},
   "source": [
    "year"
   ]
  },
  {
   "cell_type": "code",
   "execution_count": 118,
   "metadata": {},
   "outputs": [
    {
     "data": {
      "text/plain": [
       "{'whiskers': [<matplotlib.lines.Line2D at 0x218f698b4f0>,\n",
       "  <matplotlib.lines.Line2D at 0x218f698b7c0>],\n",
       " 'caps': [<matplotlib.lines.Line2D at 0x218f698ba90>,\n",
       "  <matplotlib.lines.Line2D at 0x218f698bd60>],\n",
       " 'boxes': [<matplotlib.lines.Line2D at 0x218f698b310>],\n",
       " 'medians': [<matplotlib.lines.Line2D at 0x218f6998070>],\n",
       " 'fliers': [<matplotlib.lines.Line2D at 0x218f6998340>],\n",
       " 'means': []}"
      ]
     },
     "execution_count": 118,
     "metadata": {},
     "output_type": "execute_result"
    },
    {
     "data": {
      "image/png": "[encoded data removed]",
      "text/plain": [
       "<Figure size 432x288 with 1 Axes>"
      ]
     },
     "metadata": {
      "needs_background": "light"
     },
     "output_type": "display_data"
    }
   ],
   "source": [
    "plt.boxplot(pd_carData['year'],autorange=True)"
   ]
  },
  {
   "cell_type": "code",
   "execution_count": 119,
   "metadata": {},
   "outputs": [
    {
     "data": {
      "text/plain": [
       "(array([1.000e+00, 0.000e+00, 0.000e+00, 0.000e+00, 0.000e+00, 0.000e+00,\n",
       "        0.000e+00, 0.000e+00, 1.000e+00, 0.000e+00, 0.000e+00, 3.000e+00,\n",
       "        2.000e+00, 0.000e+00, 3.000e+00, 1.100e+01, 1.000e+01, 1.800e+01,\n",
       "        2.200e+01, 1.000e+01, 2.700e+01, 4.900e+01, 6.200e+01, 9.700e+01,\n",
       "        1.240e+02, 1.830e+02, 0.000e+00, 2.140e+02, 2.460e+02, 3.940e+02,\n",
       "        5.920e+02, 6.510e+02, 6.700e+02, 6.210e+02, 7.760e+02, 8.590e+02,\n",
       "        1.018e+03, 8.070e+02, 5.830e+02, 7.400e+01]),\n",
       " array([1983.   , 1983.925, 1984.85 , 1985.775, 1986.7  , 1987.625,\n",
       "        1988.55 , 1989.475, 1990.4  , 1991.325, 1992.25 , 1993.175,\n",
       "        1994.1  , 1995.025, 1995.95 , 1996.875, 1997.8  , 1998.725,\n",
       "        1999.65 , 2000.575, 2001.5  , 2002.425, 2003.35 , 2004.275,\n",
       "        2005.2  , 2006.125, 2007.05 , 2007.975, 2008.9  , 2009.825,\n",
       "        2010.75 , 2011.675, 2012.6  , 2013.525, 2014.45 , 2015.375,\n",
       "        2016.3  , 2017.225, 2018.15 , 2019.075, 2020.   ]),\n",
       " <BarContainer object of 40 artists>)"
      ]
     },
     "execution_count": 119,
     "metadata": {},
     "output_type": "execute_result"
    },
    {
     "data": {
      "image/png": "[encoded data removed]",
      "text/plain": [
       "<Figure size 432x288 with 1 Axes>"
      ]
     },
     "metadata": {
      "needs_background": "light"
     },
     "output_type": "display_data"
    }
   ],
   "source": [
    "plt.hist(pd_carData['year'],bins=40)"
   ]
  },
  {
   "cell_type": "markdown",
   "metadata": {},
   "source": [
    "fuel , seller_type, transmission, owner"
   ]
  },
  {
   "cell_type": "code",
   "execution_count": 120,
   "metadata": {},
   "outputs": [],
   "source": [
    "#var_dummies_FT = pd.get_dummies(pd_carData['fuel'])\n",
    "#pd_carData = pd_carData.drop(columns=['fuel'])\n",
    "\n",
    "#pd_carData[var_dummies_FT.columns]=var_dummies_FT\n",
    "\n",
    "#var_dummies_FT.columns"
   ]
  },
  {
   "cell_type": "code",
   "execution_count": 121,
   "metadata": {},
   "outputs": [
    {
     "data": {
      "image/png": "[encoded data removed]",
      "text/plain": [
       "<Figure size 1368x288 with 2 Axes>"
      ]
     },
     "metadata": {
      "needs_background": "light"
     },
     "output_type": "display_data"
    },
    {
     "data": {
      "image/png": "[encoded data removed]",
      "text/plain": [
       "<Figure size 1368x288 with 2 Axes>"
      ]
     },
     "metadata": {
      "needs_background": "light"
     },
     "output_type": "display_data"
    }
   ],
   "source": [
    "cat_cols = ['fuel','seller_type','transmission','owner']\n",
    "i=0\n",
    "while i < 4:\n",
    "    fig = plt.figure(figsize=[19,4])\n",
    "    #ax1 = fig.add_subplot(121)\n",
    "    #ax2 = fig.add_subplot(122)\n",
    "    \n",
    "    #ax1.title.set_text(cat_cols[i])\n",
    "    plt.subplot(1,2,1)\n",
    "    sns.countplot(x=cat_cols[i], data=pd_carData)\n",
    "    i += 1\n",
    "    \n",
    "    #ax2.title.set_text(cat_cols[i])\n",
    "    plt.subplot(1,2,2)\n",
    "    sns.countplot(x=cat_cols[i], data=pd_carData)\n",
    "    i += 1\n",
    "    \n",
    "    \n",
    "    plt.show()"
   ]
  },
  {
   "cell_type": "code",
   "execution_count": 122,
   "metadata": {},
   "outputs": [
    {
     "data": {
      "image/png": "[encoded data removed]",
      "text/plain": [
       "<Figure size 1368x288 with 2 Axes>"
      ]
     },
     "metadata": {
      "needs_background": "light"
     },
     "output_type": "display_data"
    },
    {
     "data": {
      "image/png": "[encoded data removed]",
      "text/plain": [
       "<Figure size 1368x288 with 2 Axes>"
      ]
     },
     "metadata": {
      "needs_background": "light"
     },
     "output_type": "display_data"
    }
   ],
   "source": [
    "cat_cols = ['mileage','engine','max_power','torque']\n",
    "i=0\n",
    "while i < 4:\n",
    "    fig = plt.figure(figsize=[19,4])\n",
    "    #ax1 = fig.add_subplot(121)\n",
    "    #ax2 = fig.add_subplot(122)\n",
    "    \n",
    "    #ax1.title.set_text(cat_cols[i])\n",
    "    plt.subplot(1,2,1)\n",
    "    sns.countplot(x=cat_cols[i], data=pd_carData)\n",
    "    i += 1\n",
    "    \n",
    "    #ax2.title.set_text(cat_cols[i])\n",
    "    plt.subplot(1,2,2)\n",
    "    sns.countplot(x=cat_cols[i], data=pd_carData)\n",
    "    i += 1\n",
    "    \n",
    "    \n",
    "    plt.show()"
   ]
  },
  {
   "cell_type": "code",
   "execution_count": 123,
   "metadata": {},
   "outputs": [
    {
     "data": {
      "text/plain": [
       "Index(['CNG', 'Diesel', 'LPG', 'Petrol'], dtype='object')"
      ]
     },
     "execution_count": 123,
     "metadata": {},
     "output_type": "execute_result"
    }
   ],
   "source": [
    "var_dummies_T = pd.get_dummies(pd_carData['fuel'])\n",
    "pd_carData = pd_carData.drop(columns=['fuel'])\n",
    "\n",
    "pd_carData[var_dummies_T.columns]=var_dummies_T\n",
    "\n",
    "var_dummies_T.columns"
   ]
  },
  {
   "cell_type": "code",
   "execution_count": 124,
   "metadata": {},
   "outputs": [
    {
     "name": "stdout",
     "output_type": "stream",
     "text": [
      "<class 'pandas.core.frame.DataFrame'>\n",
      "RangeIndex: 8128 entries, 0 to 8127\n",
      "Data columns (total 16 columns):\n",
      " #   Column         Non-Null Count  Dtype  \n",
      "---  ------         --------------  -----  \n",
      " 0   name           8128 non-null   object \n",
      " 1   year           8128 non-null   int64  \n",
      " 2   selling_price  8128 non-null   int64  \n",
      " 3   km_driven      8128 non-null   int64  \n",
      " 4   seller_type    8128 non-null   object \n",
      " 5   transmission   8128 non-null   object \n",
      " 6   owner          8128 non-null   object \n",
      " 7   mileage        7907 non-null   object \n",
      " 8   engine         7907 non-null   object \n",
      " 9   max_power      7913 non-null   object \n",
      " 10  torque         7906 non-null   object \n",
      " 11  seats          7907 non-null   float64\n",
      " 12  CNG            8128 non-null   uint8  \n",
      " 13  Diesel         8128 non-null   uint8  \n",
      " 14  LPG            8128 non-null   uint8  \n",
      " 15  Petrol         8128 non-null   uint8  \n",
      "dtypes: float64(1), int64(3), object(8), uint8(4)\n",
      "memory usage: 793.9+ KB\n"
     ]
    }
   ],
   "source": [
    "pd_carData.info()"
   ]
  },
  {
   "cell_type": "markdown",
   "metadata": {},
   "source": [
    "<h3>Truncado de los datos / eliminacion de outlayers</h3>"
   ]
  },
  {
   "cell_type": "code",
   "execution_count": 125,
   "metadata": {},
   "outputs": [],
   "source": [
    "df_truncado = pd_carData[pd_carData['selling_price']<=0.2]\n",
    "df_truncado = df_truncado[df_truncado['selling_price']>0]"
   ]
  },
  {
   "cell_type": "code",
   "execution_count": 126,
   "metadata": {},
   "outputs": [
    {
     "data": {
      "text/plain": [
       "{'whiskers': [<matplotlib.lines.Line2D at 0x218f6adfd90>,\n",
       "  <matplotlib.lines.Line2D at 0x218f6adf730>],\n",
       " 'caps': [<matplotlib.lines.Line2D at 0x218f094b880>,\n",
       "  <matplotlib.lines.Line2D at 0x218f094b160>],\n",
       " 'boxes': [<matplotlib.lines.Line2D at 0x218f6adfc10>],\n",
       " 'medians': [<matplotlib.lines.Line2D at 0x218f094bf10>],\n",
       " 'fliers': [<matplotlib.lines.Line2D at 0x218f0d58760>],\n",
       " 'means': []}"
      ]
     },
     "execution_count": 126,
     "metadata": {},
     "output_type": "execute_result"
    },
    {
     "data": {
      "image/png": "[encoded data removed]",
      "text/plain": [
       "<Figure size 432x288 with 1 Axes>"
      ]
     },
     "metadata": {
      "needs_background": "light"
     },
     "output_type": "display_data"
    }
   ],
   "source": [
    "plt.boxplot(df_truncado['selling_price'],autorange=True)"
   ]
  },
  {
   "cell_type": "markdown",
   "metadata": {},
   "source": [
    "<h1>Feature Selection</h1>"
   ]
  },
  {
   "cell_type": "code",
   "execution_count": 127,
   "metadata": {},
   "outputs": [],
   "source": [
    "y = df_truncado['selling_price']\n",
    "x = pd.DataFrame(df_truncado.drop(columns=['selling_price'],axis=1))"
   ]
  },
  {
   "cell_type": "markdown",
   "metadata": {},
   "source": [
    "<h3>Escalado/Normalizacion con mixmax, Feature Scaling</h3>"
   ]
  },
  {
   "cell_type": "code",
   "execution_count": 130,
   "metadata": {},
   "outputs": [],
   "source": [
    "y = pd.DataFrame(pd_carData['selling_price'])\n",
    "x = pd.DataFrame(pd_carData.drop(columns=['selling_price','name','mileage']))"
   ]
  },
  {
   "cell_type": "code",
   "execution_count": 131,
   "metadata": {},
   "outputs": [
    {
     "ename": "ValueError",
     "evalue": "could not convert string to float: 'Individual'",
     "output_type": "error",
     "traceback": [
      "\u001b[1;31m---------------------------------------------------------------------------\u001b[0m",
      "\u001b[1;31mValueError\u001b[0m                                Traceback (most recent call last)",
      "\u001b[1;32mc:\\Users\\Franco Romano\\Desktop\\Data - Parical 1 b\\ParcialDM\\parcialCarDetailsV3.ipynb Celda 32\u001b[0m in \u001b[0;36m<cell line: 3>\u001b[1;34m()\u001b[0m\n\u001b[0;32m      <a href='vscode-notebook-cell:/c%3A/Users/Franco%20Romano/Desktop/Data%20-%20Parical%201%20b/ParcialDM/parcialCarDetailsV3.ipynb#X43sZmlsZQ%3D%3D?line=0'>1</a>\u001b[0m \u001b[39mfrom\u001b[39;00m \u001b[39msklearn\u001b[39;00m\u001b[39m.\u001b[39;00m\u001b[39mpreprocessing\u001b[39;00m \u001b[39mimport\u001b[39;00m MinMaxScaler\n\u001b[0;32m      <a href='vscode-notebook-cell:/c%3A/Users/Franco%20Romano/Desktop/Data%20-%20Parical%201%20b/ParcialDM/parcialCarDetailsV3.ipynb#X43sZmlsZQ%3D%3D?line=1'>2</a>\u001b[0m scaler \u001b[39m=\u001b[39m MinMaxScaler()\n\u001b[1;32m----> <a href='vscode-notebook-cell:/c%3A/Users/Franco%20Romano/Desktop/Data%20-%20Parical%201%20b/ParcialDM/parcialCarDetailsV3.ipynb#X43sZmlsZQ%3D%3D?line=2'>3</a>\u001b[0m x_MinMax \u001b[39m=\u001b[39m scaler\u001b[39m.\u001b[39;49mfit_transform(x)\n",
      "File \u001b[1;32mc:\\ProgramData\\Anaconda3\\lib\\site-packages\\sklearn\\base.py:852\u001b[0m, in \u001b[0;36mTransformerMixin.fit_transform\u001b[1;34m(self, X, y, **fit_params)\u001b[0m\n\u001b[0;32m    848\u001b[0m \u001b[39m# non-optimized default implementation; override when a better\u001b[39;00m\n\u001b[0;32m    849\u001b[0m \u001b[39m# method is possible for a given clustering algorithm\u001b[39;00m\n\u001b[0;32m    850\u001b[0m \u001b[39mif\u001b[39;00m y \u001b[39mis\u001b[39;00m \u001b[39mNone\u001b[39;00m:\n\u001b[0;32m    851\u001b[0m     \u001b[39m# fit method of arity 1 (unsupervised transformation)\u001b[39;00m\n\u001b[1;32m--> 852\u001b[0m     \u001b[39mreturn\u001b[39;00m \u001b[39mself\u001b[39m\u001b[39m.\u001b[39mfit(X, \u001b[39m*\u001b[39m\u001b[39m*\u001b[39mfit_params)\u001b[39m.\u001b[39mtransform(X)\n\u001b[0;32m    853\u001b[0m \u001b[39melse\u001b[39;00m:\n\u001b[0;32m    854\u001b[0m     \u001b[39m# fit method of arity 2 (supervised transformation)\u001b[39;00m\n\u001b[0;32m    855\u001b[0m     \u001b[39mreturn\u001b[39;00m \u001b[39mself\u001b[39m\u001b[39m.\u001b[39mfit(X, y, \u001b[39m*\u001b[39m\u001b[39m*\u001b[39mfit_params)\u001b[39m.\u001b[39mtransform(X)\n",
      "File \u001b[1;32mc:\\ProgramData\\Anaconda3\\lib\\site-packages\\sklearn\\preprocessing\\_data.py:416\u001b[0m, in \u001b[0;36mMinMaxScaler.fit\u001b[1;34m(self, X, y)\u001b[0m\n\u001b[0;32m    414\u001b[0m \u001b[39m# Reset internal state before fitting\u001b[39;00m\n\u001b[0;32m    415\u001b[0m \u001b[39mself\u001b[39m\u001b[39m.\u001b[39m_reset()\n\u001b[1;32m--> 416\u001b[0m \u001b[39mreturn\u001b[39;00m \u001b[39mself\u001b[39;49m\u001b[39m.\u001b[39;49mpartial_fit(X, y)\n",
      "File \u001b[1;32mc:\\ProgramData\\Anaconda3\\lib\\site-packages\\sklearn\\preprocessing\\_data.py:453\u001b[0m, in \u001b[0;36mMinMaxScaler.partial_fit\u001b[1;34m(self, X, y)\u001b[0m\n\u001b[0;32m    447\u001b[0m     \u001b[39mraise\u001b[39;00m \u001b[39mTypeError\u001b[39;00m(\n\u001b[0;32m    448\u001b[0m         \u001b[39m\"\u001b[39m\u001b[39mMinMaxScaler does not support sparse input. \u001b[39m\u001b[39m\"\u001b[39m\n\u001b[0;32m    449\u001b[0m         \u001b[39m\"\u001b[39m\u001b[39mConsider using MaxAbsScaler instead.\u001b[39m\u001b[39m\"\u001b[39m\n\u001b[0;32m    450\u001b[0m     )\n\u001b[0;32m    452\u001b[0m first_pass \u001b[39m=\u001b[39m \u001b[39mnot\u001b[39;00m \u001b[39mhasattr\u001b[39m(\u001b[39mself\u001b[39m, \u001b[39m\"\u001b[39m\u001b[39mn_samples_seen_\u001b[39m\u001b[39m\"\u001b[39m)\n\u001b[1;32m--> 453\u001b[0m X \u001b[39m=\u001b[39m \u001b[39mself\u001b[39;49m\u001b[39m.\u001b[39;49m_validate_data(\n\u001b[0;32m    454\u001b[0m     X,\n\u001b[0;32m    455\u001b[0m     reset\u001b[39m=\u001b[39;49mfirst_pass,\n\u001b[0;32m    456\u001b[0m     estimator\u001b[39m=\u001b[39;49m\u001b[39mself\u001b[39;49m,\n\u001b[0;32m    457\u001b[0m     dtype\u001b[39m=\u001b[39;49mFLOAT_DTYPES,\n\u001b[0;32m    458\u001b[0m     force_all_finite\u001b[39m=\u001b[39;49m\u001b[39m\"\u001b[39;49m\u001b[39mallow-nan\u001b[39;49m\u001b[39m\"\u001b[39;49m,\n\u001b[0;32m    459\u001b[0m )\n\u001b[0;32m    461\u001b[0m data_min \u001b[39m=\u001b[39m np\u001b[39m.\u001b[39mnanmin(X, axis\u001b[39m=\u001b[39m\u001b[39m0\u001b[39m)\n\u001b[0;32m    462\u001b[0m data_max \u001b[39m=\u001b[39m np\u001b[39m.\u001b[39mnanmax(X, axis\u001b[39m=\u001b[39m\u001b[39m0\u001b[39m)\n",
      "File \u001b[1;32mc:\\ProgramData\\Anaconda3\\lib\\site-packages\\sklearn\\base.py:566\u001b[0m, in \u001b[0;36mBaseEstimator._validate_data\u001b[1;34m(self, X, y, reset, validate_separately, **check_params)\u001b[0m\n\u001b[0;32m    564\u001b[0m     \u001b[39mraise\u001b[39;00m \u001b[39mValueError\u001b[39;00m(\u001b[39m\"\u001b[39m\u001b[39mValidation should be done on X, y or both.\u001b[39m\u001b[39m\"\u001b[39m)\n\u001b[0;32m    565\u001b[0m \u001b[39melif\u001b[39;00m \u001b[39mnot\u001b[39;00m no_val_X \u001b[39mand\u001b[39;00m no_val_y:\n\u001b[1;32m--> 566\u001b[0m     X \u001b[39m=\u001b[39m check_array(X, \u001b[39m*\u001b[39m\u001b[39m*\u001b[39mcheck_params)\n\u001b[0;32m    567\u001b[0m     out \u001b[39m=\u001b[39m X\n\u001b[0;32m    568\u001b[0m \u001b[39melif\u001b[39;00m no_val_X \u001b[39mand\u001b[39;00m \u001b[39mnot\u001b[39;00m no_val_y:\n",
      "File \u001b[1;32mc:\\ProgramData\\Anaconda3\\lib\\site-packages\\sklearn\\utils\\validation.py:746\u001b[0m, in \u001b[0;36mcheck_array\u001b[1;34m(array, accept_sparse, accept_large_sparse, dtype, order, copy, force_all_finite, ensure_2d, allow_nd, ensure_min_samples, ensure_min_features, estimator)\u001b[0m\n\u001b[0;32m    744\u001b[0m         array \u001b[39m=\u001b[39m array\u001b[39m.\u001b[39mastype(dtype, casting\u001b[39m=\u001b[39m\u001b[39m\"\u001b[39m\u001b[39munsafe\u001b[39m\u001b[39m\"\u001b[39m, copy\u001b[39m=\u001b[39m\u001b[39mFalse\u001b[39;00m)\n\u001b[0;32m    745\u001b[0m     \u001b[39melse\u001b[39;00m:\n\u001b[1;32m--> 746\u001b[0m         array \u001b[39m=\u001b[39m np\u001b[39m.\u001b[39;49masarray(array, order\u001b[39m=\u001b[39;49morder, dtype\u001b[39m=\u001b[39;49mdtype)\n\u001b[0;32m    747\u001b[0m \u001b[39mexcept\u001b[39;00m ComplexWarning \u001b[39mas\u001b[39;00m complex_warning:\n\u001b[0;32m    748\u001b[0m     \u001b[39mraise\u001b[39;00m \u001b[39mValueError\u001b[39;00m(\n\u001b[0;32m    749\u001b[0m         \u001b[39m\"\u001b[39m\u001b[39mComplex data not supported\u001b[39m\u001b[39m\\n\u001b[39;00m\u001b[39m{}\u001b[39;00m\u001b[39m\\n\u001b[39;00m\u001b[39m\"\u001b[39m\u001b[39m.\u001b[39mformat(array)\n\u001b[0;32m    750\u001b[0m     ) \u001b[39mfrom\u001b[39;00m \u001b[39mcomplex_warning\u001b[39;00m\n",
      "File \u001b[1;32mc:\\ProgramData\\Anaconda3\\lib\\site-packages\\pandas\\core\\generic.py:2064\u001b[0m, in \u001b[0;36mNDFrame.__array__\u001b[1;34m(self, dtype)\u001b[0m\n\u001b[0;32m   2063\u001b[0m \u001b[39mdef\u001b[39;00m \u001b[39m__array__\u001b[39m(\u001b[39mself\u001b[39m, dtype: npt\u001b[39m.\u001b[39mDTypeLike \u001b[39m|\u001b[39m \u001b[39mNone\u001b[39;00m \u001b[39m=\u001b[39m \u001b[39mNone\u001b[39;00m) \u001b[39m-\u001b[39m\u001b[39m>\u001b[39m np\u001b[39m.\u001b[39mndarray:\n\u001b[1;32m-> 2064\u001b[0m     \u001b[39mreturn\u001b[39;00m np\u001b[39m.\u001b[39;49masarray(\u001b[39mself\u001b[39;49m\u001b[39m.\u001b[39;49m_values, dtype\u001b[39m=\u001b[39;49mdtype)\n",
      "\u001b[1;31mValueError\u001b[0m: could not convert string to float: 'Individual'"
     ]
    }
   ],
   "source": [
    "from sklearn.preprocessing import MinMaxScaler\n",
    "scaler = MinMaxScaler()\n",
    "x_MinMax = scaler.fit_transform(x)"
   ]
  }
 ],
 "metadata": {
  "kernelspec": {
   "display_name": "Python 3.9.12 ('base')",
   "language": "python",
   "name": "python3"
  },
  "language_info": {
   "codemirror_mode": {
    "name": "ipython",
    "version": 3
   },
   "file_extension": ".py",
   "mimetype": "text/x-python",
   "name": "python",
   "nbconvert_exporter": "python",
   "pygments_lexer": "ipython3",
   "version": "3.9.12"
  },
  "orig_nbformat": 4,
  "vscode": {
   "interpreter": {
    "hash": "ad2bdc8ecc057115af97d19610ffacc2b4e99fae6737bb82f5d7fb13d2f2c186"
   }
  }
 },
 "nbformat": 4,
 "nbformat_minor": 2
}
