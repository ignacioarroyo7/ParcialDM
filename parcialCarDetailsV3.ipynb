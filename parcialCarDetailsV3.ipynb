{
 "cells": [
  {
   "cell_type": "code",
   "execution_count": 1090,
   "metadata": {},
   "outputs": [],
   "source": [
    "import pandas as pd\n",
    "import numpy as np\n",
    "from sklearn import  linear_model\n",
    "import matplotlib.pyplot as plt\n",
    "import seaborn as sns\n",
    "import warnings\n",
    "import math\n",
    "warnings.filterwarnings(\"ignore\")"
   ]
  },
  {
   "cell_type": "code",
   "execution_count": 1091,
   "metadata": {},
   "outputs": [],
   "source": [
    "pd_carData = pd.read_csv(\"Car details v3.csv\")"
   ]
  },
  {
   "cell_type": "code",
   "execution_count": 1092,
   "metadata": {},
   "outputs": [
    {
     "data": {
      "text/html": [
       "<div>\n",
       "<style scoped>\n",
       "    .dataframe tbody tr th:only-of-type {\n",
       "        vertical-align: middle;\n",
       "    }\n",
       "\n",
       "    .dataframe tbody tr th {\n",
       "        vertical-align: top;\n",
       "    }\n",
       "\n",
       "    .dataframe thead th {\n",
       "        text-align: right;\n",
       "    }\n",
       "</style>\n",
       "<table border=\"1\" class=\"dataframe\">\n",
       "  <thead>\n",
       "    <tr style=\"text-align: right;\">\n",
       "      <th></th>\n",
       "      <th>0</th>\n",
       "      <th>1</th>\n",
       "      <th>2</th>\n",
       "      <th>3</th>\n",
       "      <th>4</th>\n",
       "      <th>5</th>\n",
       "      <th>6</th>\n",
       "      <th>7</th>\n",
       "      <th>8</th>\n",
       "      <th>9</th>\n",
       "      <th>...</th>\n",
       "      <th>8118</th>\n",
       "      <th>8119</th>\n",
       "      <th>8120</th>\n",
       "      <th>8121</th>\n",
       "      <th>8122</th>\n",
       "      <th>8123</th>\n",
       "      <th>8124</th>\n",
       "      <th>8125</th>\n",
       "      <th>8126</th>\n",
       "      <th>8127</th>\n",
       "    </tr>\n",
       "  </thead>\n",
       "  <tbody>\n",
       "    <tr>\n",
       "      <th>name</th>\n",
       "      <td>Maruti Swift Dzire VDI</td>\n",
       "      <td>Skoda Rapid 1.5 TDI Ambition</td>\n",
       "      <td>Honda City 2017-2020 EXi</td>\n",
       "      <td>Hyundai i20 Sportz Diesel</td>\n",
       "      <td>Maruti Swift VXI BSIII</td>\n",
       "      <td>Hyundai Xcent 1.2 VTVT E Plus</td>\n",
       "      <td>Maruti Wagon R LXI DUO BSIII</td>\n",
       "      <td>Maruti 800 DX BSII</td>\n",
       "      <td>Toyota Etios VXD</td>\n",
       "      <td>Ford Figo Diesel Celebration Edition</td>\n",
       "      <td>...</td>\n",
       "      <td>Hyundai i20 Magna</td>\n",
       "      <td>Maruti Wagon R LXI Optional</td>\n",
       "      <td>Hyundai Santro Xing GLS</td>\n",
       "      <td>Maruti Wagon R VXI BS IV with ABS</td>\n",
       "      <td>Hyundai i20 Magna 1.4 CRDi</td>\n",
       "      <td>Hyundai i20 Magna</td>\n",
       "      <td>Hyundai Verna CRDi SX</td>\n",
       "      <td>Maruti Swift Dzire ZDi</td>\n",
       "      <td>Tata Indigo CR4</td>\n",
       "      <td>Tata Indigo CR4</td>\n",
       "    </tr>\n",
       "    <tr>\n",
       "      <th>year</th>\n",
       "      <td>2014</td>\n",
       "      <td>2014</td>\n",
       "      <td>2006</td>\n",
       "      <td>2010</td>\n",
       "      <td>2007</td>\n",
       "      <td>2017</td>\n",
       "      <td>2007</td>\n",
       "      <td>2001</td>\n",
       "      <td>2011</td>\n",
       "      <td>2013</td>\n",
       "      <td>...</td>\n",
       "      <td>2013</td>\n",
       "      <td>2017</td>\n",
       "      <td>2008</td>\n",
       "      <td>2013</td>\n",
       "      <td>2014</td>\n",
       "      <td>2013</td>\n",
       "      <td>2007</td>\n",
       "      <td>2009</td>\n",
       "      <td>2013</td>\n",
       "      <td>2013</td>\n",
       "    </tr>\n",
       "    <tr>\n",
       "      <th>selling_price</th>\n",
       "      <td>450000</td>\n",
       "      <td>370000</td>\n",
       "      <td>158000</td>\n",
       "      <td>225000</td>\n",
       "      <td>130000</td>\n",
       "      <td>440000</td>\n",
       "      <td>96000</td>\n",
       "      <td>45000</td>\n",
       "      <td>350000</td>\n",
       "      <td>200000</td>\n",
       "      <td>...</td>\n",
       "      <td>380000</td>\n",
       "      <td>360000</td>\n",
       "      <td>120000</td>\n",
       "      <td>260000</td>\n",
       "      <td>475000</td>\n",
       "      <td>320000</td>\n",
       "      <td>135000</td>\n",
       "      <td>382000</td>\n",
       "      <td>290000</td>\n",
       "      <td>290000</td>\n",
       "    </tr>\n",
       "    <tr>\n",
       "      <th>km_driven</th>\n",
       "      <td>145500</td>\n",
       "      <td>120000</td>\n",
       "      <td>140000</td>\n",
       "      <td>127000</td>\n",
       "      <td>120000</td>\n",
       "      <td>45000</td>\n",
       "      <td>175000</td>\n",
       "      <td>5000</td>\n",
       "      <td>90000</td>\n",
       "      <td>169000</td>\n",
       "      <td>...</td>\n",
       "      <td>25000</td>\n",
       "      <td>80000</td>\n",
       "      <td>191000</td>\n",
       "      <td>50000</td>\n",
       "      <td>80000</td>\n",
       "      <td>110000</td>\n",
       "      <td>119000</td>\n",
       "      <td>120000</td>\n",
       "      <td>25000</td>\n",
       "      <td>25000</td>\n",
       "    </tr>\n",
       "    <tr>\n",
       "      <th>fuel</th>\n",
       "      <td>Diesel</td>\n",
       "      <td>Diesel</td>\n",
       "      <td>Petrol</td>\n",
       "      <td>Diesel</td>\n",
       "      <td>Petrol</td>\n",
       "      <td>Petrol</td>\n",
       "      <td>LPG</td>\n",
       "      <td>Petrol</td>\n",
       "      <td>Diesel</td>\n",
       "      <td>Diesel</td>\n",
       "      <td>...</td>\n",
       "      <td>Petrol</td>\n",
       "      <td>Petrol</td>\n",
       "      <td>Petrol</td>\n",
       "      <td>Petrol</td>\n",
       "      <td>Diesel</td>\n",
       "      <td>Petrol</td>\n",
       "      <td>Diesel</td>\n",
       "      <td>Diesel</td>\n",
       "      <td>Diesel</td>\n",
       "      <td>Diesel</td>\n",
       "    </tr>\n",
       "    <tr>\n",
       "      <th>seller_type</th>\n",
       "      <td>Individual</td>\n",
       "      <td>Individual</td>\n",
       "      <td>Individual</td>\n",
       "      <td>Individual</td>\n",
       "      <td>Individual</td>\n",
       "      <td>Individual</td>\n",
       "      <td>Individual</td>\n",
       "      <td>Individual</td>\n",
       "      <td>Individual</td>\n",
       "      <td>Individual</td>\n",
       "      <td>...</td>\n",
       "      <td>Individual</td>\n",
       "      <td>Individual</td>\n",
       "      <td>Individual</td>\n",
       "      <td>Individual</td>\n",
       "      <td>Individual</td>\n",
       "      <td>Individual</td>\n",
       "      <td>Individual</td>\n",
       "      <td>Individual</td>\n",
       "      <td>Individual</td>\n",
       "      <td>Individual</td>\n",
       "    </tr>\n",
       "    <tr>\n",
       "      <th>transmission</th>\n",
       "      <td>Manual</td>\n",
       "      <td>Manual</td>\n",
       "      <td>Manual</td>\n",
       "      <td>Manual</td>\n",
       "      <td>Manual</td>\n",
       "      <td>Manual</td>\n",
       "      <td>Manual</td>\n",
       "      <td>Manual</td>\n",
       "      <td>Manual</td>\n",
       "      <td>Manual</td>\n",
       "      <td>...</td>\n",
       "      <td>Manual</td>\n",
       "      <td>Manual</td>\n",
       "      <td>Manual</td>\n",
       "      <td>Manual</td>\n",
       "      <td>Manual</td>\n",
       "      <td>Manual</td>\n",
       "      <td>Manual</td>\n",
       "      <td>Manual</td>\n",
       "      <td>Manual</td>\n",
       "      <td>Manual</td>\n",
       "    </tr>\n",
       "    <tr>\n",
       "      <th>owner</th>\n",
       "      <td>First Owner</td>\n",
       "      <td>Second Owner</td>\n",
       "      <td>Third Owner</td>\n",
       "      <td>First Owner</td>\n",
       "      <td>First Owner</td>\n",
       "      <td>First Owner</td>\n",
       "      <td>First Owner</td>\n",
       "      <td>Second Owner</td>\n",
       "      <td>First Owner</td>\n",
       "      <td>First Owner</td>\n",
       "      <td>...</td>\n",
       "      <td>First Owner</td>\n",
       "      <td>First Owner</td>\n",
       "      <td>First Owner</td>\n",
       "      <td>Second Owner</td>\n",
       "      <td>Second Owner</td>\n",
       "      <td>First Owner</td>\n",
       "      <td>Fourth &amp; Above Owner</td>\n",
       "      <td>First Owner</td>\n",
       "      <td>First Owner</td>\n",
       "      <td>First Owner</td>\n",
       "    </tr>\n",
       "    <tr>\n",
       "      <th>mileage</th>\n",
       "      <td>23.4 kmpl</td>\n",
       "      <td>21.14 kmpl</td>\n",
       "      <td>17.7 kmpl</td>\n",
       "      <td>23.0 kmpl</td>\n",
       "      <td>16.1 kmpl</td>\n",
       "      <td>20.14 kmpl</td>\n",
       "      <td>17.3 km/kg</td>\n",
       "      <td>16.1 kmpl</td>\n",
       "      <td>23.59 kmpl</td>\n",
       "      <td>20.0 kmpl</td>\n",
       "      <td>...</td>\n",
       "      <td>18.5 kmpl</td>\n",
       "      <td>20.51 kmpl</td>\n",
       "      <td>17.92 kmpl</td>\n",
       "      <td>18.9 kmpl</td>\n",
       "      <td>22.54 kmpl</td>\n",
       "      <td>18.5 kmpl</td>\n",
       "      <td>16.8 kmpl</td>\n",
       "      <td>19.3 kmpl</td>\n",
       "      <td>23.57 kmpl</td>\n",
       "      <td>23.57 kmpl</td>\n",
       "    </tr>\n",
       "    <tr>\n",
       "      <th>engine</th>\n",
       "      <td>1248 CC</td>\n",
       "      <td>1498 CC</td>\n",
       "      <td>1497 CC</td>\n",
       "      <td>1396 CC</td>\n",
       "      <td>1298 CC</td>\n",
       "      <td>1197 CC</td>\n",
       "      <td>1061 CC</td>\n",
       "      <td>796 CC</td>\n",
       "      <td>1364 CC</td>\n",
       "      <td>1399 CC</td>\n",
       "      <td>...</td>\n",
       "      <td>1197 CC</td>\n",
       "      <td>998 CC</td>\n",
       "      <td>1086 CC</td>\n",
       "      <td>998 CC</td>\n",
       "      <td>1396 CC</td>\n",
       "      <td>1197 CC</td>\n",
       "      <td>1493 CC</td>\n",
       "      <td>1248 CC</td>\n",
       "      <td>1396 CC</td>\n",
       "      <td>1396 CC</td>\n",
       "    </tr>\n",
       "    <tr>\n",
       "      <th>max_power</th>\n",
       "      <td>74 bhp</td>\n",
       "      <td>103.52 bhp</td>\n",
       "      <td>78 bhp</td>\n",
       "      <td>90 bhp</td>\n",
       "      <td>88.2 bhp</td>\n",
       "      <td>81.86 bhp</td>\n",
       "      <td>57.5 bhp</td>\n",
       "      <td>37 bhp</td>\n",
       "      <td>67.1 bhp</td>\n",
       "      <td>68.1 bhp</td>\n",
       "      <td>...</td>\n",
       "      <td>82.85 bhp</td>\n",
       "      <td>67.04 bhp</td>\n",
       "      <td>62.1 bhp</td>\n",
       "      <td>67.1 bhp</td>\n",
       "      <td>88.73 bhp</td>\n",
       "      <td>82.85 bhp</td>\n",
       "      <td>110 bhp</td>\n",
       "      <td>73.9 bhp</td>\n",
       "      <td>70 bhp</td>\n",
       "      <td>70 bhp</td>\n",
       "    </tr>\n",
       "    <tr>\n",
       "      <th>torque</th>\n",
       "      <td>190Nm@ 2000rpm</td>\n",
       "      <td>250Nm@ 1500-2500rpm</td>\n",
       "      <td>12.7@ 2,700(kgm@ rpm)</td>\n",
       "      <td>22.4 kgm at 1750-2750rpm</td>\n",
       "      <td>11.5@ 4,500(kgm@ rpm)</td>\n",
       "      <td>113.75nm@ 4000rpm</td>\n",
       "      <td>7.8@ 4,500(kgm@ rpm)</td>\n",
       "      <td>59Nm@ 2500rpm</td>\n",
       "      <td>170Nm@ 1800-2400rpm</td>\n",
       "      <td>160Nm@ 2000rpm</td>\n",
       "      <td>...</td>\n",
       "      <td>113.7Nm@ 4000rpm</td>\n",
       "      <td>90Nm@ 3500rpm</td>\n",
       "      <td>96.1Nm@ 3000rpm</td>\n",
       "      <td>90Nm@ 3500rpm</td>\n",
       "      <td>219.7Nm@ 1500-2750rpm</td>\n",
       "      <td>113.7Nm@ 4000rpm</td>\n",
       "      <td>24@ 1,900-2,750(kgm@ rpm)</td>\n",
       "      <td>190Nm@ 2000rpm</td>\n",
       "      <td>140Nm@ 1800-3000rpm</td>\n",
       "      <td>140Nm@ 1800-3000rpm</td>\n",
       "    </tr>\n",
       "    <tr>\n",
       "      <th>seats</th>\n",
       "      <td>5.0</td>\n",
       "      <td>5.0</td>\n",
       "      <td>5.0</td>\n",
       "      <td>5.0</td>\n",
       "      <td>5.0</td>\n",
       "      <td>5.0</td>\n",
       "      <td>5.0</td>\n",
       "      <td>4.0</td>\n",
       "      <td>5.0</td>\n",
       "      <td>5.0</td>\n",
       "      <td>...</td>\n",
       "      <td>5.0</td>\n",
       "      <td>5.0</td>\n",
       "      <td>5.0</td>\n",
       "      <td>5.0</td>\n",
       "      <td>5.0</td>\n",
       "      <td>5.0</td>\n",
       "      <td>5.0</td>\n",
       "      <td>5.0</td>\n",
       "      <td>5.0</td>\n",
       "      <td>5.0</td>\n",
       "    </tr>\n",
       "  </tbody>\n",
       "</table>\n",
       "<p>13 rows × 8128 columns</p>\n",
       "</div>"
      ],
      "text/plain": [
       "                                 0                             1     \\\n",
       "name           Maruti Swift Dzire VDI  Skoda Rapid 1.5 TDI Ambition   \n",
       "year                             2014                          2014   \n",
       "selling_price                  450000                        370000   \n",
       "km_driven                      145500                        120000   \n",
       "fuel                           Diesel                        Diesel   \n",
       "seller_type                Individual                    Individual   \n",
       "transmission                   Manual                        Manual   \n",
       "owner                     First Owner                  Second Owner   \n",
       "mileage                     23.4 kmpl                    21.14 kmpl   \n",
       "engine                        1248 CC                       1498 CC   \n",
       "max_power                      74 bhp                    103.52 bhp   \n",
       "torque                 190Nm@ 2000rpm           250Nm@ 1500-2500rpm   \n",
       "seats                             5.0                           5.0   \n",
       "\n",
       "                                   2                          3     \\\n",
       "name           Honda City 2017-2020 EXi  Hyundai i20 Sportz Diesel   \n",
       "year                               2006                       2010   \n",
       "selling_price                    158000                     225000   \n",
       "km_driven                        140000                     127000   \n",
       "fuel                             Petrol                     Diesel   \n",
       "seller_type                  Individual                 Individual   \n",
       "transmission                     Manual                     Manual   \n",
       "owner                       Third Owner                First Owner   \n",
       "mileage                       17.7 kmpl                  23.0 kmpl   \n",
       "engine                          1497 CC                    1396 CC   \n",
       "max_power                        78 bhp                     90 bhp   \n",
       "torque            12.7@ 2,700(kgm@ rpm)   22.4 kgm at 1750-2750rpm   \n",
       "seats                               5.0                        5.0   \n",
       "\n",
       "                                 4                              5     \\\n",
       "name           Maruti Swift VXI BSIII  Hyundai Xcent 1.2 VTVT E Plus   \n",
       "year                             2007                           2017   \n",
       "selling_price                  130000                         440000   \n",
       "km_driven                      120000                          45000   \n",
       "fuel                           Petrol                         Petrol   \n",
       "seller_type                Individual                     Individual   \n",
       "transmission                   Manual                         Manual   \n",
       "owner                     First Owner                    First Owner   \n",
       "mileage                     16.1 kmpl                     20.14 kmpl   \n",
       "engine                        1298 CC                        1197 CC   \n",
       "max_power                    88.2 bhp                      81.86 bhp   \n",
       "torque          11.5@ 4,500(kgm@ rpm)              113.75nm@ 4000rpm   \n",
       "seats                             5.0                            5.0   \n",
       "\n",
       "                                       6                   7     \\\n",
       "name           Maruti Wagon R LXI DUO BSIII  Maruti 800 DX BSII   \n",
       "year                                   2007                2001   \n",
       "selling_price                         96000               45000   \n",
       "km_driven                            175000                5000   \n",
       "fuel                                    LPG              Petrol   \n",
       "seller_type                      Individual          Individual   \n",
       "transmission                         Manual              Manual   \n",
       "owner                           First Owner        Second Owner   \n",
       "mileage                          17.3 km/kg           16.1 kmpl   \n",
       "engine                              1061 CC              796 CC   \n",
       "max_power                          57.5 bhp              37 bhp   \n",
       "torque                 7.8@ 4,500(kgm@ rpm)       59Nm@ 2500rpm   \n",
       "seats                                   5.0                 4.0   \n",
       "\n",
       "                              8                                     9     ...  \\\n",
       "name              Toyota Etios VXD  Ford Figo Diesel Celebration Edition  ...   \n",
       "year                          2011                                  2013  ...   \n",
       "selling_price               350000                                200000  ...   \n",
       "km_driven                    90000                                169000  ...   \n",
       "fuel                        Diesel                                Diesel  ...   \n",
       "seller_type             Individual                            Individual  ...   \n",
       "transmission                Manual                                Manual  ...   \n",
       "owner                  First Owner                           First Owner  ...   \n",
       "mileage                 23.59 kmpl                             20.0 kmpl  ...   \n",
       "engine                     1364 CC                               1399 CC  ...   \n",
       "max_power                 67.1 bhp                              68.1 bhp  ...   \n",
       "torque         170Nm@ 1800-2400rpm                        160Nm@ 2000rpm  ...   \n",
       "seats                          5.0                                   5.0  ...   \n",
       "\n",
       "                            8118                         8119  \\\n",
       "name           Hyundai i20 Magna  Maruti Wagon R LXI Optional   \n",
       "year                        2013                         2017   \n",
       "selling_price             380000                       360000   \n",
       "km_driven                  25000                        80000   \n",
       "fuel                      Petrol                       Petrol   \n",
       "seller_type           Individual                   Individual   \n",
       "transmission              Manual                       Manual   \n",
       "owner                First Owner                  First Owner   \n",
       "mileage                18.5 kmpl                   20.51 kmpl   \n",
       "engine                   1197 CC                       998 CC   \n",
       "max_power              82.85 bhp                    67.04 bhp   \n",
       "torque          113.7Nm@ 4000rpm                90Nm@ 3500rpm   \n",
       "seats                        5.0                          5.0   \n",
       "\n",
       "                                  8120                               8121  \\\n",
       "name           Hyundai Santro Xing GLS  Maruti Wagon R VXI BS IV with ABS   \n",
       "year                              2008                               2013   \n",
       "selling_price                   120000                             260000   \n",
       "km_driven                       191000                              50000   \n",
       "fuel                            Petrol                             Petrol   \n",
       "seller_type                 Individual                         Individual   \n",
       "transmission                    Manual                             Manual   \n",
       "owner                      First Owner                       Second Owner   \n",
       "mileage                     17.92 kmpl                          18.9 kmpl   \n",
       "engine                         1086 CC                             998 CC   \n",
       "max_power                     62.1 bhp                           67.1 bhp   \n",
       "torque                 96.1Nm@ 3000rpm                      90Nm@ 3500rpm   \n",
       "seats                              5.0                                5.0   \n",
       "\n",
       "                                     8122               8123  \\\n",
       "name           Hyundai i20 Magna 1.4 CRDi  Hyundai i20 Magna   \n",
       "year                                 2014               2013   \n",
       "selling_price                      475000             320000   \n",
       "km_driven                           80000             110000   \n",
       "fuel                               Diesel             Petrol   \n",
       "seller_type                    Individual         Individual   \n",
       "transmission                       Manual             Manual   \n",
       "owner                        Second Owner        First Owner   \n",
       "mileage                        22.54 kmpl          18.5 kmpl   \n",
       "engine                            1396 CC            1197 CC   \n",
       "max_power                       88.73 bhp          82.85 bhp   \n",
       "torque              219.7Nm@ 1500-2750rpm   113.7Nm@ 4000rpm   \n",
       "seats                                 5.0                5.0   \n",
       "\n",
       "                                    8124                    8125  \\\n",
       "name               Hyundai Verna CRDi SX  Maruti Swift Dzire ZDi   \n",
       "year                                2007                    2009   \n",
       "selling_price                     135000                  382000   \n",
       "km_driven                         119000                  120000   \n",
       "fuel                              Diesel                  Diesel   \n",
       "seller_type                   Individual              Individual   \n",
       "transmission                      Manual                  Manual   \n",
       "owner               Fourth & Above Owner             First Owner   \n",
       "mileage                        16.8 kmpl               19.3 kmpl   \n",
       "engine                           1493 CC                 1248 CC   \n",
       "max_power                        110 bhp                73.9 bhp   \n",
       "torque         24@ 1,900-2,750(kgm@ rpm)          190Nm@ 2000rpm   \n",
       "seats                                5.0                     5.0   \n",
       "\n",
       "                              8126                 8127  \n",
       "name               Tata Indigo CR4      Tata Indigo CR4  \n",
       "year                          2013                 2013  \n",
       "selling_price               290000               290000  \n",
       "km_driven                    25000                25000  \n",
       "fuel                        Diesel               Diesel  \n",
       "seller_type             Individual           Individual  \n",
       "transmission                Manual               Manual  \n",
       "owner                  First Owner          First Owner  \n",
       "mileage                 23.57 kmpl           23.57 kmpl  \n",
       "engine                     1396 CC              1396 CC  \n",
       "max_power                   70 bhp               70 bhp  \n",
       "torque         140Nm@ 1800-3000rpm  140Nm@ 1800-3000rpm  \n",
       "seats                          5.0                  5.0  \n",
       "\n",
       "[13 rows x 8128 columns]"
      ]
     },
     "execution_count": 1092,
     "metadata": {},
     "output_type": "execute_result"
    }
   ],
   "source": [
    "pd_carData.T"
   ]
  },
  {
   "cell_type": "code",
   "execution_count": 1093,
   "metadata": {},
   "outputs": [
    {
     "data": {
      "text/html": [
       "<div>\n",
       "<style scoped>\n",
       "    .dataframe tbody tr th:only-of-type {\n",
       "        vertical-align: middle;\n",
       "    }\n",
       "\n",
       "    .dataframe tbody tr th {\n",
       "        vertical-align: top;\n",
       "    }\n",
       "\n",
       "    .dataframe thead th {\n",
       "        text-align: right;\n",
       "    }\n",
       "</style>\n",
       "<table border=\"1\" class=\"dataframe\">\n",
       "  <thead>\n",
       "    <tr style=\"text-align: right;\">\n",
       "      <th></th>\n",
       "      <th>count</th>\n",
       "      <th>unique</th>\n",
       "      <th>top</th>\n",
       "      <th>freq</th>\n",
       "      <th>mean</th>\n",
       "      <th>std</th>\n",
       "      <th>min</th>\n",
       "      <th>25%</th>\n",
       "      <th>50%</th>\n",
       "      <th>75%</th>\n",
       "      <th>max</th>\n",
       "    </tr>\n",
       "  </thead>\n",
       "  <tbody>\n",
       "    <tr>\n",
       "      <th>name</th>\n",
       "      <td>8128</td>\n",
       "      <td>2058</td>\n",
       "      <td>Maruti Swift Dzire VDI</td>\n",
       "      <td>129</td>\n",
       "      <td>NaN</td>\n",
       "      <td>NaN</td>\n",
       "      <td>NaN</td>\n",
       "      <td>NaN</td>\n",
       "      <td>NaN</td>\n",
       "      <td>NaN</td>\n",
       "      <td>NaN</td>\n",
       "    </tr>\n",
       "    <tr>\n",
       "      <th>year</th>\n",
       "      <td>8128.0</td>\n",
       "      <td>NaN</td>\n",
       "      <td>NaN</td>\n",
       "      <td>NaN</td>\n",
       "      <td>2013.804011</td>\n",
       "      <td>4.044249</td>\n",
       "      <td>1983.0</td>\n",
       "      <td>2011.0</td>\n",
       "      <td>2015.0</td>\n",
       "      <td>2017.0</td>\n",
       "      <td>2020.0</td>\n",
       "    </tr>\n",
       "    <tr>\n",
       "      <th>selling_price</th>\n",
       "      <td>8128.0</td>\n",
       "      <td>NaN</td>\n",
       "      <td>NaN</td>\n",
       "      <td>NaN</td>\n",
       "      <td>638271.807702</td>\n",
       "      <td>806253.403508</td>\n",
       "      <td>29999.0</td>\n",
       "      <td>254999.0</td>\n",
       "      <td>450000.0</td>\n",
       "      <td>675000.0</td>\n",
       "      <td>10000000.0</td>\n",
       "    </tr>\n",
       "    <tr>\n",
       "      <th>km_driven</th>\n",
       "      <td>8128.0</td>\n",
       "      <td>NaN</td>\n",
       "      <td>NaN</td>\n",
       "      <td>NaN</td>\n",
       "      <td>69819.510827</td>\n",
       "      <td>56550.554958</td>\n",
       "      <td>1.0</td>\n",
       "      <td>35000.0</td>\n",
       "      <td>60000.0</td>\n",
       "      <td>98000.0</td>\n",
       "      <td>2360457.0</td>\n",
       "    </tr>\n",
       "    <tr>\n",
       "      <th>fuel</th>\n",
       "      <td>8128</td>\n",
       "      <td>4</td>\n",
       "      <td>Diesel</td>\n",
       "      <td>4402</td>\n",
       "      <td>NaN</td>\n",
       "      <td>NaN</td>\n",
       "      <td>NaN</td>\n",
       "      <td>NaN</td>\n",
       "      <td>NaN</td>\n",
       "      <td>NaN</td>\n",
       "      <td>NaN</td>\n",
       "    </tr>\n",
       "    <tr>\n",
       "      <th>seller_type</th>\n",
       "      <td>8128</td>\n",
       "      <td>3</td>\n",
       "      <td>Individual</td>\n",
       "      <td>6766</td>\n",
       "      <td>NaN</td>\n",
       "      <td>NaN</td>\n",
       "      <td>NaN</td>\n",
       "      <td>NaN</td>\n",
       "      <td>NaN</td>\n",
       "      <td>NaN</td>\n",
       "      <td>NaN</td>\n",
       "    </tr>\n",
       "    <tr>\n",
       "      <th>transmission</th>\n",
       "      <td>8128</td>\n",
       "      <td>2</td>\n",
       "      <td>Manual</td>\n",
       "      <td>7078</td>\n",
       "      <td>NaN</td>\n",
       "      <td>NaN</td>\n",
       "      <td>NaN</td>\n",
       "      <td>NaN</td>\n",
       "      <td>NaN</td>\n",
       "      <td>NaN</td>\n",
       "      <td>NaN</td>\n",
       "    </tr>\n",
       "    <tr>\n",
       "      <th>owner</th>\n",
       "      <td>8128</td>\n",
       "      <td>5</td>\n",
       "      <td>First Owner</td>\n",
       "      <td>5289</td>\n",
       "      <td>NaN</td>\n",
       "      <td>NaN</td>\n",
       "      <td>NaN</td>\n",
       "      <td>NaN</td>\n",
       "      <td>NaN</td>\n",
       "      <td>NaN</td>\n",
       "      <td>NaN</td>\n",
       "    </tr>\n",
       "    <tr>\n",
       "      <th>mileage</th>\n",
       "      <td>7907</td>\n",
       "      <td>393</td>\n",
       "      <td>18.9 kmpl</td>\n",
       "      <td>225</td>\n",
       "      <td>NaN</td>\n",
       "      <td>NaN</td>\n",
       "      <td>NaN</td>\n",
       "      <td>NaN</td>\n",
       "      <td>NaN</td>\n",
       "      <td>NaN</td>\n",
       "      <td>NaN</td>\n",
       "    </tr>\n",
       "    <tr>\n",
       "      <th>engine</th>\n",
       "      <td>7907</td>\n",
       "      <td>121</td>\n",
       "      <td>1248 CC</td>\n",
       "      <td>1017</td>\n",
       "      <td>NaN</td>\n",
       "      <td>NaN</td>\n",
       "      <td>NaN</td>\n",
       "      <td>NaN</td>\n",
       "      <td>NaN</td>\n",
       "      <td>NaN</td>\n",
       "      <td>NaN</td>\n",
       "    </tr>\n",
       "    <tr>\n",
       "      <th>max_power</th>\n",
       "      <td>7913</td>\n",
       "      <td>322</td>\n",
       "      <td>74 bhp</td>\n",
       "      <td>377</td>\n",
       "      <td>NaN</td>\n",
       "      <td>NaN</td>\n",
       "      <td>NaN</td>\n",
       "      <td>NaN</td>\n",
       "      <td>NaN</td>\n",
       "      <td>NaN</td>\n",
       "      <td>NaN</td>\n",
       "    </tr>\n",
       "    <tr>\n",
       "      <th>torque</th>\n",
       "      <td>7906</td>\n",
       "      <td>441</td>\n",
       "      <td>190Nm@ 2000rpm</td>\n",
       "      <td>530</td>\n",
       "      <td>NaN</td>\n",
       "      <td>NaN</td>\n",
       "      <td>NaN</td>\n",
       "      <td>NaN</td>\n",
       "      <td>NaN</td>\n",
       "      <td>NaN</td>\n",
       "      <td>NaN</td>\n",
       "    </tr>\n",
       "    <tr>\n",
       "      <th>seats</th>\n",
       "      <td>7907.0</td>\n",
       "      <td>NaN</td>\n",
       "      <td>NaN</td>\n",
       "      <td>NaN</td>\n",
       "      <td>5.416719</td>\n",
       "      <td>0.959588</td>\n",
       "      <td>2.0</td>\n",
       "      <td>5.0</td>\n",
       "      <td>5.0</td>\n",
       "      <td>5.0</td>\n",
       "      <td>14.0</td>\n",
       "    </tr>\n",
       "  </tbody>\n",
       "</table>\n",
       "</div>"
      ],
      "text/plain": [
       "                count unique                     top  freq           mean  \\\n",
       "name             8128   2058  Maruti Swift Dzire VDI   129            NaN   \n",
       "year           8128.0    NaN                     NaN   NaN    2013.804011   \n",
       "selling_price  8128.0    NaN                     NaN   NaN  638271.807702   \n",
       "km_driven      8128.0    NaN                     NaN   NaN   69819.510827   \n",
       "fuel             8128      4                  Diesel  4402            NaN   \n",
       "seller_type      8128      3              Individual  6766            NaN   \n",
       "transmission     8128      2                  Manual  7078            NaN   \n",
       "owner            8128      5             First Owner  5289            NaN   \n",
       "mileage          7907    393               18.9 kmpl   225            NaN   \n",
       "engine           7907    121                 1248 CC  1017            NaN   \n",
       "max_power        7913    322                  74 bhp   377            NaN   \n",
       "torque           7906    441          190Nm@ 2000rpm   530            NaN   \n",
       "seats          7907.0    NaN                     NaN   NaN       5.416719   \n",
       "\n",
       "                         std      min       25%       50%       75%  \\\n",
       "name                     NaN      NaN       NaN       NaN       NaN   \n",
       "year                4.044249   1983.0    2011.0    2015.0    2017.0   \n",
       "selling_price  806253.403508  29999.0  254999.0  450000.0  675000.0   \n",
       "km_driven       56550.554958      1.0   35000.0   60000.0   98000.0   \n",
       "fuel                     NaN      NaN       NaN       NaN       NaN   \n",
       "seller_type              NaN      NaN       NaN       NaN       NaN   \n",
       "transmission             NaN      NaN       NaN       NaN       NaN   \n",
       "owner                    NaN      NaN       NaN       NaN       NaN   \n",
       "mileage                  NaN      NaN       NaN       NaN       NaN   \n",
       "engine                   NaN      NaN       NaN       NaN       NaN   \n",
       "max_power                NaN      NaN       NaN       NaN       NaN   \n",
       "torque                   NaN      NaN       NaN       NaN       NaN   \n",
       "seats               0.959588      2.0       5.0       5.0       5.0   \n",
       "\n",
       "                      max  \n",
       "name                  NaN  \n",
       "year               2020.0  \n",
       "selling_price  10000000.0  \n",
       "km_driven       2360457.0  \n",
       "fuel                  NaN  \n",
       "seller_type           NaN  \n",
       "transmission          NaN  \n",
       "owner                 NaN  \n",
       "mileage               NaN  \n",
       "engine                NaN  \n",
       "max_power             NaN  \n",
       "torque                NaN  \n",
       "seats                14.0  "
      ]
     },
     "execution_count": 1093,
     "metadata": {},
     "output_type": "execute_result"
    }
   ],
   "source": [
    "pd_carData.describe(include='all').T"
   ]
  },
  {
   "cell_type": "code",
   "execution_count": 1094,
   "metadata": {},
   "outputs": [
    {
     "name": "stdout",
     "output_type": "stream",
     "text": [
      "<class 'pandas.core.frame.DataFrame'>\n",
      "RangeIndex: 8128 entries, 0 to 8127\n",
      "Data columns (total 13 columns):\n",
      " #   Column         Non-Null Count  Dtype  \n",
      "---  ------         --------------  -----  \n",
      " 0   name           8128 non-null   object \n",
      " 1   year           8128 non-null   int64  \n",
      " 2   selling_price  8128 non-null   int64  \n",
      " 3   km_driven      8128 non-null   int64  \n",
      " 4   fuel           8128 non-null   object \n",
      " 5   seller_type    8128 non-null   object \n",
      " 6   transmission   8128 non-null   object \n",
      " 7   owner          8128 non-null   object \n",
      " 8   mileage        7907 non-null   object \n",
      " 9   engine         7907 non-null   object \n",
      " 10  max_power      7913 non-null   object \n",
      " 11  torque         7906 non-null   object \n",
      " 12  seats          7907 non-null   float64\n",
      "dtypes: float64(1), int64(3), object(9)\n",
      "memory usage: 825.6+ KB\n"
     ]
    }
   ],
   "source": [
    "pd_carData.info()"
   ]
  },
  {
   "cell_type": "code",
   "execution_count": 1095,
   "metadata": {},
   "outputs": [],
   "source": [
    "pd_carData.dropna(inplace=True, axis=0, how='any')\n",
    "pd_carData.duplicated().sum()\n",
    "pd_carData.drop_duplicates(inplace=True)"
   ]
  },
  {
   "cell_type": "code",
   "execution_count": 1096,
   "metadata": {},
   "outputs": [],
   "source": [
    "pd_carData['mileage']=pd_carData['mileage'].replace(' kmpl','',regex=True).str.replace(',', '')\n",
    "pd_carData['mileage']=pd_carData['mileage'].replace(' km/kg','',regex=True).str.replace(',', '')\n",
    "pd_carData['engine']=pd_carData['engine'].replace(' CC','',regex=True).str.replace(',', '')\n",
    "pd_carData['max_power']=pd_carData['max_power'].replace(' bhp','',regex=True).str.replace(',', '')"
   ]
  },
  {
   "cell_type": "code",
   "execution_count": 1097,
   "metadata": {},
   "outputs": [
    {
     "name": "stdout",
     "output_type": "stream",
     "text": [
      "<class 'pandas.core.frame.DataFrame'>\n",
      "Int64Index: 6717 entries, 0 to 8125\n",
      "Data columns (total 13 columns):\n",
      " #   Column         Non-Null Count  Dtype  \n",
      "---  ------         --------------  -----  \n",
      " 0   name           6717 non-null   object \n",
      " 1   year           6717 non-null   int64  \n",
      " 2   selling_price  6717 non-null   int64  \n",
      " 3   km_driven      6717 non-null   int64  \n",
      " 4   fuel           6717 non-null   object \n",
      " 5   seller_type    6717 non-null   object \n",
      " 6   transmission   6717 non-null   object \n",
      " 7   owner          6717 non-null   object \n",
      " 8   mileage        6717 non-null   float64\n",
      " 9   engine         6717 non-null   int64  \n",
      " 10  max_power      6717 non-null   float64\n",
      " 11  torque         6717 non-null   object \n",
      " 12  seats          6717 non-null   float64\n",
      "dtypes: float64(3), int64(4), object(6)\n",
      "memory usage: 734.7+ KB\n"
     ]
    }
   ],
   "source": [
    "pd_carData['mileage'] = pd.to_numeric(pd_carData['mileage'])\n",
    "pd_carData['engine'] = pd.to_numeric(pd_carData['engine'])\n",
    "pd_carData['max_power'] = pd.to_numeric(pd_carData['max_power'])\n",
    "pd_carData.info()"
   ]
  },
  {
   "cell_type": "markdown",
   "metadata": {},
   "source": [
    "<h2>Analisis univariado</h2>"
   ]
  },
  {
   "cell_type": "markdown",
   "metadata": {},
   "source": [
    "<p>name se elimina por ser string</p>"
   ]
  },
  {
   "cell_type": "markdown",
   "metadata": {},
   "source": [
    "Analisis variable objetivo Selling_Price"
   ]
  },
  {
   "cell_type": "markdown",
   "metadata": {},
   "source": [
    "boxplot es un tipo de grafico que facilmente nos permite identificar los outlayers, y la idea es eliminarlos"
   ]
  },
  {
   "cell_type": "markdown",
   "metadata": {},
   "source": [
    "Engine"
   ]
  },
  {
   "cell_type": "code",
   "execution_count": 1098,
   "metadata": {},
   "outputs": [
    {
     "data": {
      "text/plain": [
       "Text(0.5, 0, 'selling_price')"
      ]
     },
     "execution_count": 1098,
     "metadata": {},
     "output_type": "execute_result"
    },
    {
     "data": {
      "image/png": "[encoded data removed]",
      "text/plain": [
       "<Figure size 640x480 with 1 Axes>"
      ]
     },
     "metadata": {},
     "output_type": "display_data"
    }
   ],
   "source": [
    "sns.boxplot(pd_carData['engine'])\n",
    "plt.xlabel('selling_price')"
   ]
  },
  {
   "cell_type": "markdown",
   "metadata": {},
   "source": [
    "Truncado de engine"
   ]
  },
  {
   "cell_type": "code",
   "execution_count": 1099,
   "metadata": {},
   "outputs": [
    {
     "data": {
      "text/plain": [
       "(5535, 13)"
      ]
     },
     "execution_count": 1099,
     "metadata": {},
     "output_type": "execute_result"
    }
   ],
   "source": [
    "Q1 = pd_carData['engine'].quantile(0.25)\n",
    "Q3 = pd_carData['engine'].quantile(0.75)\n",
    "IQR = Q3 - Q1\n",
    "\n",
    "upper_limit = Q3 + 1.5 * IQR\n",
    "lower_limit = Q1 - 1.5 * IQR\n",
    "\n",
    "pd_carData[pd_carData['engine']> upper_limit]\n",
    "pd_carData[pd_carData['engine']< lower_limit]\n",
    "\n",
    "pd_carData = pd_carData[pd_carData['engine'] < upper_limit]\n",
    "pd_carData.shape"
   ]
  },
  {
   "cell_type": "code",
   "execution_count": 1100,
   "metadata": {},
   "outputs": [
    {
     "data": {
      "text/plain": [
       "Text(0.5, 0, 'selling_price')"
      ]
     },
     "execution_count": 1100,
     "metadata": {},
     "output_type": "execute_result"
    },
    {
     "data": {
      "image/png": "[encoded data removed]",
      "text/plain": [
       "<Figure size 640x480 with 1 Axes>"
      ]
     },
     "metadata": {},
     "output_type": "display_data"
    }
   ],
   "source": [
    "sns.boxplot(pd_carData['engine'])\n",
    "plt.xlabel('selling_price')"
   ]
  },
  {
   "cell_type": "markdown",
   "metadata": {},
   "source": [
    "mileage"
   ]
  },
  {
   "cell_type": "code",
   "execution_count": 1101,
   "metadata": {},
   "outputs": [
    {
     "data": {
      "text/plain": [
       "Text(0.5, 0, 'selling_price')"
      ]
     },
     "execution_count": 1101,
     "metadata": {},
     "output_type": "execute_result"
    },
    {
     "data": {
      "image/png": "[encoded data removed]",
      "text/plain": [
       "<Figure size 640x480 with 1 Axes>"
      ]
     },
     "metadata": {},
     "output_type": "display_data"
    }
   ],
   "source": [
    "sns.boxplot(pd_carData['mileage'])\n",
    "plt.xlabel('selling_price')"
   ]
  },
  {
   "cell_type": "markdown",
   "metadata": {},
   "source": [
    "truncado de mileage"
   ]
  },
  {
   "cell_type": "code",
   "execution_count": 1102,
   "metadata": {},
   "outputs": [
    {
     "data": {
      "text/plain": [
       "(5528, 13)"
      ]
     },
     "execution_count": 1102,
     "metadata": {},
     "output_type": "execute_result"
    }
   ],
   "source": [
    "Q1 = pd_carData['mileage'].quantile(0.25)\n",
    "Q3 = pd_carData['mileage'].quantile(0.75)\n",
    "IQR = Q3 - Q1\n",
    "\n",
    "upper_limit = Q3 + 1.5 * IQR\n",
    "lower_limit = Q1 - 1.5 * IQR\n",
    "\n",
    "pd_carData[pd_carData['mileage']> upper_limit]\n",
    "pd_carData[pd_carData['mileage']< lower_limit]\n",
    "\n",
    "pd_carData = pd_carData[pd_carData['mileage'] < upper_limit]\n",
    "pd_carData.shape"
   ]
  },
  {
   "cell_type": "code",
   "execution_count": 1103,
   "metadata": {},
   "outputs": [
    {
     "data": {
      "text/plain": [
       "Text(0.5, 0, 'selling_price')"
      ]
     },
     "execution_count": 1103,
     "metadata": {},
     "output_type": "execute_result"
    },
    {
     "data": {
      "image/png": "[encoded data removed]",
      "text/plain": [
       "<Figure size 640x480 with 1 Axes>"
      ]
     },
     "metadata": {},
     "output_type": "display_data"
    }
   ],
   "source": [
    "sns.boxplot(pd_carData['mileage'])\n",
    "plt.xlabel('selling_price')"
   ]
  },
  {
   "cell_type": "markdown",
   "metadata": {},
   "source": [
    "max_power"
   ]
  },
  {
   "cell_type": "code",
   "execution_count": 1104,
   "metadata": {},
   "outputs": [
    {
     "data": {
      "text/plain": [
       "Text(0.5, 0, 'selling_price')"
      ]
     },
     "execution_count": 1104,
     "metadata": {},
     "output_type": "execute_result"
    },
    {
     "data": {
      "image/png": "[encoded data removed]",
      "text/plain": [
       "<Figure size 640x480 with 1 Axes>"
      ]
     },
     "metadata": {},
     "output_type": "display_data"
    }
   ],
   "source": [
    "sns.boxplot(pd_carData['max_power'])\n",
    "plt.xlabel('selling_price')"
   ]
  },
  {
   "cell_type": "markdown",
   "metadata": {},
   "source": [
    "truncado de max_power"
   ]
  },
  {
   "cell_type": "code",
   "execution_count": 1105,
   "metadata": {},
   "outputs": [
    {
     "data": {
      "text/plain": [
       "(5275, 13)"
      ]
     },
     "execution_count": 1105,
     "metadata": {},
     "output_type": "execute_result"
    }
   ],
   "source": [
    "Q1 = pd_carData['max_power'].quantile(0.25)\n",
    "Q3 = pd_carData['max_power'].quantile(0.75)\n",
    "IQR = Q3 - Q1\n",
    "\n",
    "upper_limit = Q3 + 1.5 * IQR\n",
    "lower_limit = Q1 - 1.5 * IQR\n",
    "\n",
    "pd_carData[pd_carData['max_power']> upper_limit]\n",
    "pd_carData[pd_carData['max_power']< lower_limit]\n",
    "\n",
    "pd_carData = pd_carData[pd_carData['max_power'] < upper_limit]\n",
    "pd_carData.shape"
   ]
  },
  {
   "cell_type": "code",
   "execution_count": 1106,
   "metadata": {},
   "outputs": [
    {
     "data": {
      "text/plain": [
       "Text(0.5, 0, 'selling_price')"
      ]
     },
     "execution_count": 1106,
     "metadata": {},
     "output_type": "execute_result"
    },
    {
     "data": {
      "image/png": "[encoded data removed]",
      "text/plain": [
       "<Figure size 640x480 with 1 Axes>"
      ]
     },
     "metadata": {},
     "output_type": "display_data"
    }
   ],
   "source": [
    "sns.boxplot(pd_carData['max_power'])\n",
    "plt.xlabel('selling_price')"
   ]
  },
  {
   "cell_type": "markdown",
   "metadata": {},
   "source": [
    "km_driven"
   ]
  },
  {
   "cell_type": "code",
   "execution_count": 1107,
   "metadata": {},
   "outputs": [
    {
     "data": {
      "text/plain": [
       "Text(0.5, 0, 'selling_price')"
      ]
     },
     "execution_count": 1107,
     "metadata": {},
     "output_type": "execute_result"
    },
    {
     "data": {
      "image/png": "[encoded data removed]",
      "text/plain": [
       "<Figure size 640x480 with 1 Axes>"
      ]
     },
     "metadata": {},
     "output_type": "display_data"
    }
   ],
   "source": [
    "sns.boxplot(pd_carData['km_driven'])\n",
    "plt.xlabel('selling_price')"
   ]
  },
  {
   "cell_type": "markdown",
   "metadata": {},
   "source": [
    "truncado km_driven"
   ]
  },
  {
   "cell_type": "code",
   "execution_count": 1108,
   "metadata": {},
   "outputs": [
    {
     "data": {
      "text/plain": [
       "(5155, 13)"
      ]
     },
     "execution_count": 1108,
     "metadata": {},
     "output_type": "execute_result"
    }
   ],
   "source": [
    "Q1 = pd_carData['km_driven'].quantile(0.25)\n",
    "Q3 = pd_carData['km_driven'].quantile(0.75)\n",
    "IQR = Q3 - Q1\n",
    "\n",
    "upper_limit = Q3 + 1.5 * IQR\n",
    "lower_limit = Q1 - 1.5 * IQR\n",
    "\n",
    "pd_carData[pd_carData['km_driven']> upper_limit]\n",
    "pd_carData[pd_carData['km_driven']< lower_limit]\n",
    "\n",
    "pd_carData = pd_carData[pd_carData['km_driven'] < upper_limit]\n",
    "pd_carData.shape"
   ]
  },
  {
   "cell_type": "code",
   "execution_count": 1109,
   "metadata": {},
   "outputs": [
    {
     "data": {
      "text/plain": [
       "Text(0.5, 0, 'selling_price')"
      ]
     },
     "execution_count": 1109,
     "metadata": {},
     "output_type": "execute_result"
    },
    {
     "data": {
      "image/png": "[encoded data removed]",
      "text/plain": [
       "<Figure size 640x480 with 1 Axes>"
      ]
     },
     "metadata": {},
     "output_type": "display_data"
    }
   ],
   "source": [
    "sns.boxplot(pd_carData['km_driven'])\n",
    "plt.xlabel('selling_price')"
   ]
  },
  {
   "cell_type": "markdown",
   "metadata": {},
   "source": [
    "Variable objetivo - Selling_price"
   ]
  },
  {
   "cell_type": "code",
   "execution_count": 1110,
   "metadata": {},
   "outputs": [
    {
     "data": {
      "text/plain": [
       "Text(0.5, 0, 'Selling_Price')"
      ]
     },
     "execution_count": 1110,
     "metadata": {},
     "output_type": "execute_result"
    },
    {
     "data": {
      "image/png": "[encoded data removed]",
      "text/plain": [
       "<Figure size 640x480 with 1 Axes>"
      ]
     },
     "metadata": {},
     "output_type": "display_data"
    }
   ],
   "source": [
    "sns.boxplot(pd_carData['selling_price'])\n",
    "plt.xlabel('Selling_Price')"
   ]
  },
  {
   "cell_type": "markdown",
   "metadata": {},
   "source": [
    "truncamos selling price"
   ]
  },
  {
   "cell_type": "code",
   "execution_count": 1111,
   "metadata": {},
   "outputs": [
    {
     "data": {
      "text/plain": [
       "(5116, 13)"
      ]
     },
     "execution_count": 1111,
     "metadata": {},
     "output_type": "execute_result"
    }
   ],
   "source": [
    "Q1 = pd_carData['selling_price'].quantile(0.25)\n",
    "Q3 = pd_carData['selling_price'].quantile(0.75)\n",
    "IQR = Q3 - Q1\n",
    "\n",
    "upper_limit = Q3 + 1.5 * IQR\n",
    "lower_limit = Q1 - 1.5 * IQR\n",
    "\n",
    "pd_carData[pd_carData['selling_price']> upper_limit]\n",
    "pd_carData[pd_carData['selling_price']< lower_limit]\n",
    "\n",
    "pd_carData = pd_carData[pd_carData['selling_price'] < upper_limit]\n",
    "pd_carData.shape"
   ]
  },
  {
   "cell_type": "code",
   "execution_count": 1112,
   "metadata": {},
   "outputs": [
    {
     "data": {
      "text/plain": [
       "Text(0.5, 0, 'Selling_Price')"
      ]
     },
     "execution_count": 1112,
     "metadata": {},
     "output_type": "execute_result"
    },
    {
     "data": {
      "image/png": "[encoded data removed]",
      "text/plain": [
       "<Figure size 640x480 with 1 Axes>"
      ]
     },
     "metadata": {},
     "output_type": "display_data"
    }
   ],
   "source": [
    "sns.boxplot(pd_carData['selling_price'])\n",
    "plt.xlabel('Selling_Price')"
   ]
  },
  {
   "cell_type": "markdown",
   "metadata": {},
   "source": [
    "year"
   ]
  },
  {
   "cell_type": "code",
   "execution_count": 1113,
   "metadata": {},
   "outputs": [
    {
     "data": {
      "text/plain": [
       "{'whiskers': [<matplotlib.lines.Line2D at 0x1c2da82d730>,\n",
       "  <matplotlib.lines.Line2D at 0x1c2da82da00>],\n",
       " 'caps': [<matplotlib.lines.Line2D at 0x1c2da82dcd0>,\n",
       "  <matplotlib.lines.Line2D at 0x1c2da82dfa0>],\n",
       " 'boxes': [<matplotlib.lines.Line2D at 0x1c2da82d460>],\n",
       " 'medians': [<matplotlib.lines.Line2D at 0x1c2da83b2b0>],\n",
       " 'fliers': [<matplotlib.lines.Line2D at 0x1c2da83b580>],\n",
       " 'means': []}"
      ]
     },
     "execution_count": 1113,
     "metadata": {},
     "output_type": "execute_result"
    },
    {
     "data": {
      "image/png": "[encoded data removed]",
      "text/plain": [
       "<Figure size 640x480 with 1 Axes>"
      ]
     },
     "metadata": {},
     "output_type": "display_data"
    }
   ],
   "source": [
    "plt.boxplot(pd_carData['year'],autorange=True)"
   ]
  },
  {
   "cell_type": "code",
   "execution_count": 1114,
   "metadata": {},
   "outputs": [
    {
     "data": {
      "text/plain": [
       "(array([  1.,   1.,   0.,   2.,   8.,   0.,   9.,  11.,   0.,  11.,   6.,\n",
       "          0.,  17.,  28.,   0.,  38.,  54.,   0.,  71.,   0., 124., 141.,\n",
       "          0., 171., 274.,   0., 367., 417.,   0., 396., 414.,   0., 525.,\n",
       "        551.,   0., 661., 498.,   0., 271.,  49.]),\n",
       " array([1994.  , 1994.65, 1995.3 , 1995.95, 1996.6 , 1997.25, 1997.9 ,\n",
       "        1998.55, 1999.2 , 1999.85, 2000.5 , 2001.15, 2001.8 , 2002.45,\n",
       "        2003.1 , 2003.75, 2004.4 , 2005.05, 2005.7 , 2006.35, 2007.  ,\n",
       "        2007.65, 2008.3 , 2008.95, 2009.6 , 2010.25, 2010.9 , 2011.55,\n",
       "        2012.2 , 2012.85, 2013.5 , 2014.15, 2014.8 , 2015.45, 2016.1 ,\n",
       "        2016.75, 2017.4 , 2018.05, 2018.7 , 2019.35, 2020.  ]),\n",
       " <BarContainer object of 40 artists>)"
      ]
     },
     "execution_count": 1114,
     "metadata": {},
     "output_type": "execute_result"
    },
    {
     "data": {
      "image/png": "[encoded data removed]",
      "text/plain": [
       "<Figure size 640x480 with 1 Axes>"
      ]
     },
     "metadata": {},
     "output_type": "display_data"
    }
   ],
   "source": [
    "plt.hist(pd_carData['year'],bins=40)"
   ]
  },
  {
   "cell_type": "markdown",
   "metadata": {},
   "source": [
    "fuel , seller_type, transmission, owner"
   ]
  },
  {
   "cell_type": "code",
   "execution_count": 1115,
   "metadata": {},
   "outputs": [
    {
     "data": {
      "image/png": "[encoded data removed]",
      "text/plain": [
       "<Figure size 1900x400 with 2 Axes>"
      ]
     },
     "metadata": {},
     "output_type": "display_data"
    },
    {
     "data": {
      "image/png": "[encoded data removed]",
      "text/plain": [
       "<Figure size 1900x400 with 2 Axes>"
      ]
     },
     "metadata": {},
     "output_type": "display_data"
    }
   ],
   "source": [
    "cat_cols = ['fuel','seller_type','transmission','owner']\n",
    "i=0\n",
    "while i < 4:\n",
    "    fig = plt.figure(figsize=[19,4])\n",
    "    #ax1 = fig.add_subplot(121)\n",
    "    #ax2 = fig.add_subplot(122)\n",
    "    \n",
    "    #ax1.title.set_text(cat_cols[i])\n",
    "    plt.subplot(1,2,1)\n",
    "    sns.countplot(x=cat_cols[i], data=pd_carData)\n",
    "    i += 1\n",
    "    \n",
    "    #ax2.title.set_text(cat_cols[i])\n",
    "    plt.subplot(1,2,2)\n",
    "    sns.countplot(x=cat_cols[i], data=pd_carData)\n",
    "    i += 1\n",
    "    \n",
    "    \n",
    "    plt.show()"
   ]
  },
  {
   "cell_type": "markdown",
   "metadata": {},
   "source": [
    "seller_type"
   ]
  },
  {
   "cell_type": "code",
   "execution_count": 1116,
   "metadata": {},
   "outputs": [
    {
     "data": {
      "text/plain": [
       "Index(['Dealer', 'Individual', 'Trustmark Dealer'], dtype='object')"
      ]
     },
     "execution_count": 1116,
     "metadata": {},
     "output_type": "execute_result"
    }
   ],
   "source": [
    "var_dummies_ST = pd.get_dummies(pd_carData['seller_type'])\n",
    "pd_carData = pd_carData.drop(columns=['seller_type'])\n",
    "\n",
    "pd_carData[var_dummies_ST.columns]=var_dummies_ST\n",
    "\n",
    "var_dummies_ST.columns"
   ]
  },
  {
   "cell_type": "markdown",
   "metadata": {},
   "source": [
    "fuel"
   ]
  },
  {
   "cell_type": "code",
   "execution_count": 1117,
   "metadata": {},
   "outputs": [
    {
     "data": {
      "text/plain": [
       "Index(['CNG', 'Diesel', 'LPG', 'Petrol'], dtype='object')"
      ]
     },
     "execution_count": 1117,
     "metadata": {},
     "output_type": "execute_result"
    }
   ],
   "source": [
    "var_dummies_F = pd.get_dummies(pd_carData['fuel'])\n",
    "pd_carData = pd_carData.drop(columns=['fuel'])\n",
    "\n",
    "pd_carData[var_dummies_F.columns]=var_dummies_F\n",
    "\n",
    "var_dummies_F.columns"
   ]
  },
  {
   "cell_type": "markdown",
   "metadata": {},
   "source": [
    "transmission"
   ]
  },
  {
   "cell_type": "code",
   "execution_count": 1118,
   "metadata": {},
   "outputs": [
    {
     "data": {
      "text/plain": [
       "Index(['Automatic', 'Manual'], dtype='object')"
      ]
     },
     "execution_count": 1118,
     "metadata": {},
     "output_type": "execute_result"
    }
   ],
   "source": [
    "var_dummies_T = pd.get_dummies(pd_carData['transmission'])\n",
    "pd_carData = pd_carData.drop(columns=['transmission'])\n",
    "\n",
    "pd_carData[var_dummies_T.columns]=var_dummies_T\n",
    "\n",
    "var_dummies_T.columns"
   ]
  },
  {
   "cell_type": "markdown",
   "metadata": {},
   "source": [
    "owner"
   ]
  },
  {
   "cell_type": "code",
   "execution_count": 1119,
   "metadata": {},
   "outputs": [
    {
     "data": {
      "text/plain": [
       "Index(['First Owner', 'Fourth & Above Owner', 'Second Owner', 'Third Owner'], dtype='object')"
      ]
     },
     "execution_count": 1119,
     "metadata": {},
     "output_type": "execute_result"
    }
   ],
   "source": [
    "var_dummies_O = pd.get_dummies(pd_carData['owner'])\n",
    "pd_carData = pd_carData.drop(columns=['owner'])\n",
    "\n",
    "pd_carData[var_dummies_O.columns]=var_dummies_O\n",
    "\n",
    "var_dummies_O.columns"
   ]
  },
  {
   "cell_type": "code",
   "execution_count": 1120,
   "metadata": {},
   "outputs": [
    {
     "data": {
      "image/png": "[encoded data removed]",
      "text/plain": [
       "<Figure size 1900x400 with 2 Axes>"
      ]
     },
     "metadata": {},
     "output_type": "display_data"
    },
    {
     "data": {
      "image/png": "[encoded data removed]",
      "text/plain": [
       "<Figure size 1900x400 with 2 Axes>"
      ]
     },
     "metadata": {},
     "output_type": "display_data"
    }
   ],
   "source": [
    "cat_cols = ['mileage','engine','max_power','torque']\n",
    "i=0\n",
    "while i < 4:\n",
    "    fig = plt.figure(figsize=[19,4])\n",
    "    #ax1 = fig.add_subplot(121)\n",
    "    #ax2 = fig.add_subplot(122)\n",
    "    \n",
    "    #ax1.title.set_text(cat_cols[i])\n",
    "    plt.subplot(1,2,1)\n",
    "    sns.countplot(x=cat_cols[i], data=pd_carData)\n",
    "    i += 1\n",
    "    \n",
    "    #ax2.title.set_text(cat_cols[i])\n",
    "    plt.subplot(1,2,2)\n",
    "    sns.countplot(x=cat_cols[i], data=pd_carData)\n",
    "    i += 1\n",
    "    \n",
    "    \n",
    "    plt.show()"
   ]
  },
  {
   "cell_type": "markdown",
   "metadata": {},
   "source": [
    "<h1>Feature Selection</h1>"
   ]
  },
  {
   "cell_type": "markdown",
   "metadata": {},
   "source": [
    "<h3>Escalado/Normalizacion con mixmax, Feature Scaling</h3>"
   ]
  },
  {
   "cell_type": "code",
   "execution_count": 1121,
   "metadata": {},
   "outputs": [
    {
     "data": {
      "text/html": [
       "<div>\n",
       "<style scoped>\n",
       "    .dataframe tbody tr th:only-of-type {\n",
       "        vertical-align: middle;\n",
       "    }\n",
       "\n",
       "    .dataframe tbody tr th {\n",
       "        vertical-align: top;\n",
       "    }\n",
       "\n",
       "    .dataframe thead th {\n",
       "        text-align: right;\n",
       "    }\n",
       "</style>\n",
       "<table border=\"1\" class=\"dataframe\">\n",
       "  <thead>\n",
       "    <tr style=\"text-align: right;\">\n",
       "      <th></th>\n",
       "      <th>year</th>\n",
       "      <th>km_driven</th>\n",
       "      <th>mileage</th>\n",
       "      <th>engine</th>\n",
       "      <th>max_power</th>\n",
       "      <th>seats</th>\n",
       "      <th>Dealer</th>\n",
       "      <th>Individual</th>\n",
       "      <th>Trustmark Dealer</th>\n",
       "      <th>CNG</th>\n",
       "      <th>Diesel</th>\n",
       "      <th>LPG</th>\n",
       "      <th>Petrol</th>\n",
       "      <th>Automatic</th>\n",
       "      <th>Manual</th>\n",
       "      <th>First Owner</th>\n",
       "      <th>Fourth &amp; Above Owner</th>\n",
       "      <th>Second Owner</th>\n",
       "      <th>Third Owner</th>\n",
       "    </tr>\n",
       "  </thead>\n",
       "  <tbody>\n",
       "    <tr>\n",
       "      <th>0</th>\n",
       "      <td>False</td>\n",
       "      <td>False</td>\n",
       "      <td>False</td>\n",
       "      <td>False</td>\n",
       "      <td>False</td>\n",
       "      <td>False</td>\n",
       "      <td>False</td>\n",
       "      <td>False</td>\n",
       "      <td>False</td>\n",
       "      <td>False</td>\n",
       "      <td>False</td>\n",
       "      <td>False</td>\n",
       "      <td>False</td>\n",
       "      <td>False</td>\n",
       "      <td>False</td>\n",
       "      <td>False</td>\n",
       "      <td>False</td>\n",
       "      <td>False</td>\n",
       "      <td>False</td>\n",
       "    </tr>\n",
       "    <tr>\n",
       "      <th>1</th>\n",
       "      <td>False</td>\n",
       "      <td>False</td>\n",
       "      <td>False</td>\n",
       "      <td>False</td>\n",
       "      <td>False</td>\n",
       "      <td>False</td>\n",
       "      <td>False</td>\n",
       "      <td>False</td>\n",
       "      <td>False</td>\n",
       "      <td>False</td>\n",
       "      <td>False</td>\n",
       "      <td>False</td>\n",
       "      <td>False</td>\n",
       "      <td>False</td>\n",
       "      <td>False</td>\n",
       "      <td>False</td>\n",
       "      <td>False</td>\n",
       "      <td>False</td>\n",
       "      <td>False</td>\n",
       "    </tr>\n",
       "    <tr>\n",
       "      <th>2</th>\n",
       "      <td>False</td>\n",
       "      <td>False</td>\n",
       "      <td>False</td>\n",
       "      <td>False</td>\n",
       "      <td>False</td>\n",
       "      <td>False</td>\n",
       "      <td>False</td>\n",
       "      <td>False</td>\n",
       "      <td>False</td>\n",
       "      <td>False</td>\n",
       "      <td>False</td>\n",
       "      <td>False</td>\n",
       "      <td>False</td>\n",
       "      <td>False</td>\n",
       "      <td>False</td>\n",
       "      <td>False</td>\n",
       "      <td>False</td>\n",
       "      <td>False</td>\n",
       "      <td>False</td>\n",
       "    </tr>\n",
       "    <tr>\n",
       "      <th>3</th>\n",
       "      <td>False</td>\n",
       "      <td>False</td>\n",
       "      <td>False</td>\n",
       "      <td>False</td>\n",
       "      <td>False</td>\n",
       "      <td>False</td>\n",
       "      <td>False</td>\n",
       "      <td>False</td>\n",
       "      <td>False</td>\n",
       "      <td>False</td>\n",
       "      <td>False</td>\n",
       "      <td>False</td>\n",
       "      <td>False</td>\n",
       "      <td>False</td>\n",
       "      <td>False</td>\n",
       "      <td>False</td>\n",
       "      <td>False</td>\n",
       "      <td>False</td>\n",
       "      <td>False</td>\n",
       "    </tr>\n",
       "    <tr>\n",
       "      <th>4</th>\n",
       "      <td>False</td>\n",
       "      <td>False</td>\n",
       "      <td>False</td>\n",
       "      <td>False</td>\n",
       "      <td>False</td>\n",
       "      <td>False</td>\n",
       "      <td>False</td>\n",
       "      <td>False</td>\n",
       "      <td>False</td>\n",
       "      <td>False</td>\n",
       "      <td>False</td>\n",
       "      <td>False</td>\n",
       "      <td>False</td>\n",
       "      <td>False</td>\n",
       "      <td>False</td>\n",
       "      <td>False</td>\n",
       "      <td>False</td>\n",
       "      <td>False</td>\n",
       "      <td>False</td>\n",
       "    </tr>\n",
       "    <tr>\n",
       "      <th>...</th>\n",
       "      <td>...</td>\n",
       "      <td>...</td>\n",
       "      <td>...</td>\n",
       "      <td>...</td>\n",
       "      <td>...</td>\n",
       "      <td>...</td>\n",
       "      <td>...</td>\n",
       "      <td>...</td>\n",
       "      <td>...</td>\n",
       "      <td>...</td>\n",
       "      <td>...</td>\n",
       "      <td>...</td>\n",
       "      <td>...</td>\n",
       "      <td>...</td>\n",
       "      <td>...</td>\n",
       "      <td>...</td>\n",
       "      <td>...</td>\n",
       "      <td>...</td>\n",
       "      <td>...</td>\n",
       "    </tr>\n",
       "    <tr>\n",
       "      <th>8121</th>\n",
       "      <td>False</td>\n",
       "      <td>False</td>\n",
       "      <td>False</td>\n",
       "      <td>False</td>\n",
       "      <td>False</td>\n",
       "      <td>False</td>\n",
       "      <td>False</td>\n",
       "      <td>False</td>\n",
       "      <td>False</td>\n",
       "      <td>False</td>\n",
       "      <td>False</td>\n",
       "      <td>False</td>\n",
       "      <td>False</td>\n",
       "      <td>False</td>\n",
       "      <td>False</td>\n",
       "      <td>False</td>\n",
       "      <td>False</td>\n",
       "      <td>False</td>\n",
       "      <td>False</td>\n",
       "    </tr>\n",
       "    <tr>\n",
       "      <th>8122</th>\n",
       "      <td>False</td>\n",
       "      <td>False</td>\n",
       "      <td>False</td>\n",
       "      <td>False</td>\n",
       "      <td>False</td>\n",
       "      <td>False</td>\n",
       "      <td>False</td>\n",
       "      <td>False</td>\n",
       "      <td>False</td>\n",
       "      <td>False</td>\n",
       "      <td>False</td>\n",
       "      <td>False</td>\n",
       "      <td>False</td>\n",
       "      <td>False</td>\n",
       "      <td>False</td>\n",
       "      <td>False</td>\n",
       "      <td>False</td>\n",
       "      <td>False</td>\n",
       "      <td>False</td>\n",
       "    </tr>\n",
       "    <tr>\n",
       "      <th>8123</th>\n",
       "      <td>False</td>\n",
       "      <td>False</td>\n",
       "      <td>False</td>\n",
       "      <td>False</td>\n",
       "      <td>False</td>\n",
       "      <td>False</td>\n",
       "      <td>False</td>\n",
       "      <td>False</td>\n",
       "      <td>False</td>\n",
       "      <td>False</td>\n",
       "      <td>False</td>\n",
       "      <td>False</td>\n",
       "      <td>False</td>\n",
       "      <td>False</td>\n",
       "      <td>False</td>\n",
       "      <td>False</td>\n",
       "      <td>False</td>\n",
       "      <td>False</td>\n",
       "      <td>False</td>\n",
       "    </tr>\n",
       "    <tr>\n",
       "      <th>8124</th>\n",
       "      <td>False</td>\n",
       "      <td>False</td>\n",
       "      <td>False</td>\n",
       "      <td>False</td>\n",
       "      <td>False</td>\n",
       "      <td>False</td>\n",
       "      <td>False</td>\n",
       "      <td>False</td>\n",
       "      <td>False</td>\n",
       "      <td>False</td>\n",
       "      <td>False</td>\n",
       "      <td>False</td>\n",
       "      <td>False</td>\n",
       "      <td>False</td>\n",
       "      <td>False</td>\n",
       "      <td>False</td>\n",
       "      <td>False</td>\n",
       "      <td>False</td>\n",
       "      <td>False</td>\n",
       "    </tr>\n",
       "    <tr>\n",
       "      <th>8125</th>\n",
       "      <td>False</td>\n",
       "      <td>False</td>\n",
       "      <td>False</td>\n",
       "      <td>False</td>\n",
       "      <td>False</td>\n",
       "      <td>False</td>\n",
       "      <td>False</td>\n",
       "      <td>False</td>\n",
       "      <td>False</td>\n",
       "      <td>False</td>\n",
       "      <td>False</td>\n",
       "      <td>False</td>\n",
       "      <td>False</td>\n",
       "      <td>False</td>\n",
       "      <td>False</td>\n",
       "      <td>False</td>\n",
       "      <td>False</td>\n",
       "      <td>False</td>\n",
       "      <td>False</td>\n",
       "    </tr>\n",
       "  </tbody>\n",
       "</table>\n",
       "<p>5116 rows × 19 columns</p>\n",
       "</div>"
      ],
      "text/plain": [
       "       year  km_driven  mileage  engine  max_power  seats  Dealer  Individual  \\\n",
       "0     False      False    False   False      False  False   False       False   \n",
       "1     False      False    False   False      False  False   False       False   \n",
       "2     False      False    False   False      False  False   False       False   \n",
       "3     False      False    False   False      False  False   False       False   \n",
       "4     False      False    False   False      False  False   False       False   \n",
       "...     ...        ...      ...     ...        ...    ...     ...         ...   \n",
       "8121  False      False    False   False      False  False   False       False   \n",
       "8122  False      False    False   False      False  False   False       False   \n",
       "8123  False      False    False   False      False  False   False       False   \n",
       "8124  False      False    False   False      False  False   False       False   \n",
       "8125  False      False    False   False      False  False   False       False   \n",
       "\n",
       "      Trustmark Dealer    CNG  Diesel    LPG  Petrol  Automatic  Manual  \\\n",
       "0                False  False   False  False   False      False   False   \n",
       "1                False  False   False  False   False      False   False   \n",
       "2                False  False   False  False   False      False   False   \n",
       "3                False  False   False  False   False      False   False   \n",
       "4                False  False   False  False   False      False   False   \n",
       "...                ...    ...     ...    ...     ...        ...     ...   \n",
       "8121             False  False   False  False   False      False   False   \n",
       "8122             False  False   False  False   False      False   False   \n",
       "8123             False  False   False  False   False      False   False   \n",
       "8124             False  False   False  False   False      False   False   \n",
       "8125             False  False   False  False   False      False   False   \n",
       "\n",
       "      First Owner  Fourth & Above Owner  Second Owner  Third Owner  \n",
       "0           False                 False         False        False  \n",
       "1           False                 False         False        False  \n",
       "2           False                 False         False        False  \n",
       "3           False                 False         False        False  \n",
       "4           False                 False         False        False  \n",
       "...           ...                   ...           ...          ...  \n",
       "8121        False                 False         False        False  \n",
       "8122        False                 False         False        False  \n",
       "8123        False                 False         False        False  \n",
       "8124        False                 False         False        False  \n",
       "8125        False                 False         False        False  \n",
       "\n",
       "[5116 rows x 19 columns]"
      ]
     },
     "execution_count": 1121,
     "metadata": {},
     "output_type": "execute_result"
    }
   ],
   "source": [
    "y = pd_carData['selling_price']\n",
    "x = pd.DataFrame(pd_carData.drop(columns=['selling_price','name','torque'],axis=1))\n",
    "x.isnull()\n"
   ]
  },
  {
   "cell_type": "code",
   "execution_count": 1122,
   "metadata": {},
   "outputs": [
    {
     "data": {
      "text/html": [
       "<div>\n",
       "<style scoped>\n",
       "    .dataframe tbody tr th:only-of-type {\n",
       "        vertical-align: middle;\n",
       "    }\n",
       "\n",
       "    .dataframe tbody tr th {\n",
       "        vertical-align: top;\n",
       "    }\n",
       "\n",
       "    .dataframe thead th {\n",
       "        text-align: right;\n",
       "    }\n",
       "</style>\n",
       "<table border=\"1\" class=\"dataframe\">\n",
       "  <thead>\n",
       "    <tr style=\"text-align: right;\">\n",
       "      <th></th>\n",
       "      <th>count</th>\n",
       "      <th>mean</th>\n",
       "      <th>std</th>\n",
       "      <th>min</th>\n",
       "      <th>25%</th>\n",
       "      <th>50%</th>\n",
       "      <th>75%</th>\n",
       "      <th>max</th>\n",
       "    </tr>\n",
       "  </thead>\n",
       "  <tbody>\n",
       "    <tr>\n",
       "      <th>year</th>\n",
       "      <td>5116.0</td>\n",
       "      <td>2013.717944</td>\n",
       "      <td>3.959225</td>\n",
       "      <td>1994.0</td>\n",
       "      <td>2011.00</td>\n",
       "      <td>2014.0</td>\n",
       "      <td>2017.0</td>\n",
       "      <td>2020.0</td>\n",
       "    </tr>\n",
       "    <tr>\n",
       "      <th>km_driven</th>\n",
       "      <td>5116.0</td>\n",
       "      <td>64319.381939</td>\n",
       "      <td>36666.630555</td>\n",
       "      <td>1.0</td>\n",
       "      <td>35000.00</td>\n",
       "      <td>60000.0</td>\n",
       "      <td>90000.0</td>\n",
       "      <td>172000.0</td>\n",
       "    </tr>\n",
       "    <tr>\n",
       "      <th>mileage</th>\n",
       "      <td>5116.0</td>\n",
       "      <td>20.655735</td>\n",
       "      <td>3.400085</td>\n",
       "      <td>0.0</td>\n",
       "      <td>18.50</td>\n",
       "      <td>20.4</td>\n",
       "      <td>23.0</td>\n",
       "      <td>28.4</td>\n",
       "    </tr>\n",
       "    <tr>\n",
       "      <th>engine</th>\n",
       "      <td>5116.0</td>\n",
       "      <td>1210.277756</td>\n",
       "      <td>221.703578</td>\n",
       "      <td>624.0</td>\n",
       "      <td>1086.00</td>\n",
       "      <td>1199.0</td>\n",
       "      <td>1396.0</td>\n",
       "      <td>1948.0</td>\n",
       "    </tr>\n",
       "    <tr>\n",
       "      <th>max_power</th>\n",
       "      <td>5116.0</td>\n",
       "      <td>76.847296</td>\n",
       "      <td>17.199237</td>\n",
       "      <td>32.8</td>\n",
       "      <td>67.05</td>\n",
       "      <td>75.0</td>\n",
       "      <td>88.5</td>\n",
       "      <td>121.0</td>\n",
       "    </tr>\n",
       "    <tr>\n",
       "      <th>seats</th>\n",
       "      <td>5116.0</td>\n",
       "      <td>5.134285</td>\n",
       "      <td>0.600219</td>\n",
       "      <td>4.0</td>\n",
       "      <td>5.00</td>\n",
       "      <td>5.0</td>\n",
       "      <td>5.0</td>\n",
       "      <td>14.0</td>\n",
       "    </tr>\n",
       "    <tr>\n",
       "      <th>Dealer</th>\n",
       "      <td>5116.0</td>\n",
       "      <td>0.090696</td>\n",
       "      <td>0.287204</td>\n",
       "      <td>0.0</td>\n",
       "      <td>0.00</td>\n",
       "      <td>0.0</td>\n",
       "      <td>0.0</td>\n",
       "      <td>1.0</td>\n",
       "    </tr>\n",
       "    <tr>\n",
       "      <th>Individual</th>\n",
       "      <td>5116.0</td>\n",
       "      <td>0.904808</td>\n",
       "      <td>0.293508</td>\n",
       "      <td>0.0</td>\n",
       "      <td>1.00</td>\n",
       "      <td>1.0</td>\n",
       "      <td>1.0</td>\n",
       "      <td>1.0</td>\n",
       "    </tr>\n",
       "    <tr>\n",
       "      <th>Trustmark Dealer</th>\n",
       "      <td>5116.0</td>\n",
       "      <td>0.004496</td>\n",
       "      <td>0.066906</td>\n",
       "      <td>0.0</td>\n",
       "      <td>0.00</td>\n",
       "      <td>0.0</td>\n",
       "      <td>0.0</td>\n",
       "      <td>1.0</td>\n",
       "    </tr>\n",
       "    <tr>\n",
       "      <th>CNG</th>\n",
       "      <td>5116.0</td>\n",
       "      <td>0.008405</td>\n",
       "      <td>0.091302</td>\n",
       "      <td>0.0</td>\n",
       "      <td>0.00</td>\n",
       "      <td>0.0</td>\n",
       "      <td>0.0</td>\n",
       "      <td>1.0</td>\n",
       "    </tr>\n",
       "    <tr>\n",
       "      <th>Diesel</th>\n",
       "      <td>5116.0</td>\n",
       "      <td>0.440188</td>\n",
       "      <td>0.496458</td>\n",
       "      <td>0.0</td>\n",
       "      <td>0.00</td>\n",
       "      <td>0.0</td>\n",
       "      <td>1.0</td>\n",
       "      <td>1.0</td>\n",
       "    </tr>\n",
       "    <tr>\n",
       "      <th>LPG</th>\n",
       "      <td>5116.0</td>\n",
       "      <td>0.006450</td>\n",
       "      <td>0.080062</td>\n",
       "      <td>0.0</td>\n",
       "      <td>0.00</td>\n",
       "      <td>0.0</td>\n",
       "      <td>0.0</td>\n",
       "      <td>1.0</td>\n",
       "    </tr>\n",
       "    <tr>\n",
       "      <th>Petrol</th>\n",
       "      <td>5116.0</td>\n",
       "      <td>0.544957</td>\n",
       "      <td>0.498023</td>\n",
       "      <td>0.0</td>\n",
       "      <td>0.00</td>\n",
       "      <td>1.0</td>\n",
       "      <td>1.0</td>\n",
       "      <td>1.0</td>\n",
       "    </tr>\n",
       "    <tr>\n",
       "      <th>Automatic</th>\n",
       "      <td>5116.0</td>\n",
       "      <td>0.048671</td>\n",
       "      <td>0.215200</td>\n",
       "      <td>0.0</td>\n",
       "      <td>0.00</td>\n",
       "      <td>0.0</td>\n",
       "      <td>0.0</td>\n",
       "      <td>1.0</td>\n",
       "    </tr>\n",
       "    <tr>\n",
       "      <th>Manual</th>\n",
       "      <td>5116.0</td>\n",
       "      <td>0.951329</td>\n",
       "      <td>0.215200</td>\n",
       "      <td>0.0</td>\n",
       "      <td>1.00</td>\n",
       "      <td>1.0</td>\n",
       "      <td>1.0</td>\n",
       "      <td>1.0</td>\n",
       "    </tr>\n",
       "    <tr>\n",
       "      <th>First Owner</th>\n",
       "      <td>5116.0</td>\n",
       "      <td>0.634871</td>\n",
       "      <td>0.481513</td>\n",
       "      <td>0.0</td>\n",
       "      <td>0.00</td>\n",
       "      <td>1.0</td>\n",
       "      <td>1.0</td>\n",
       "      <td>1.0</td>\n",
       "    </tr>\n",
       "    <tr>\n",
       "      <th>Fourth &amp; Above Owner</th>\n",
       "      <td>5116.0</td>\n",
       "      <td>0.021892</td>\n",
       "      <td>0.146346</td>\n",
       "      <td>0.0</td>\n",
       "      <td>0.00</td>\n",
       "      <td>0.0</td>\n",
       "      <td>0.0</td>\n",
       "      <td>1.0</td>\n",
       "    </tr>\n",
       "    <tr>\n",
       "      <th>Second Owner</th>\n",
       "      <td>5116.0</td>\n",
       "      <td>0.270524</td>\n",
       "      <td>0.444274</td>\n",
       "      <td>0.0</td>\n",
       "      <td>0.00</td>\n",
       "      <td>0.0</td>\n",
       "      <td>1.0</td>\n",
       "      <td>1.0</td>\n",
       "    </tr>\n",
       "    <tr>\n",
       "      <th>Third Owner</th>\n",
       "      <td>5116.0</td>\n",
       "      <td>0.072713</td>\n",
       "      <td>0.259690</td>\n",
       "      <td>0.0</td>\n",
       "      <td>0.00</td>\n",
       "      <td>0.0</td>\n",
       "      <td>0.0</td>\n",
       "      <td>1.0</td>\n",
       "    </tr>\n",
       "  </tbody>\n",
       "</table>\n",
       "</div>"
      ],
      "text/plain": [
       "                       count          mean           std     min       25%  \\\n",
       "year                  5116.0   2013.717944      3.959225  1994.0   2011.00   \n",
       "km_driven             5116.0  64319.381939  36666.630555     1.0  35000.00   \n",
       "mileage               5116.0     20.655735      3.400085     0.0     18.50   \n",
       "engine                5116.0   1210.277756    221.703578   624.0   1086.00   \n",
       "max_power             5116.0     76.847296     17.199237    32.8     67.05   \n",
       "seats                 5116.0      5.134285      0.600219     4.0      5.00   \n",
       "Dealer                5116.0      0.090696      0.287204     0.0      0.00   \n",
       "Individual            5116.0      0.904808      0.293508     0.0      1.00   \n",
       "Trustmark Dealer      5116.0      0.004496      0.066906     0.0      0.00   \n",
       "CNG                   5116.0      0.008405      0.091302     0.0      0.00   \n",
       "Diesel                5116.0      0.440188      0.496458     0.0      0.00   \n",
       "LPG                   5116.0      0.006450      0.080062     0.0      0.00   \n",
       "Petrol                5116.0      0.544957      0.498023     0.0      0.00   \n",
       "Automatic             5116.0      0.048671      0.215200     0.0      0.00   \n",
       "Manual                5116.0      0.951329      0.215200     0.0      1.00   \n",
       "First Owner           5116.0      0.634871      0.481513     0.0      0.00   \n",
       "Fourth & Above Owner  5116.0      0.021892      0.146346     0.0      0.00   \n",
       "Second Owner          5116.0      0.270524      0.444274     0.0      0.00   \n",
       "Third Owner           5116.0      0.072713      0.259690     0.0      0.00   \n",
       "\n",
       "                          50%      75%       max  \n",
       "year                   2014.0   2017.0    2020.0  \n",
       "km_driven             60000.0  90000.0  172000.0  \n",
       "mileage                  20.4     23.0      28.4  \n",
       "engine                 1199.0   1396.0    1948.0  \n",
       "max_power                75.0     88.5     121.0  \n",
       "seats                     5.0      5.0      14.0  \n",
       "Dealer                    0.0      0.0       1.0  \n",
       "Individual                1.0      1.0       1.0  \n",
       "Trustmark Dealer          0.0      0.0       1.0  \n",
       "CNG                       0.0      0.0       1.0  \n",
       "Diesel                    0.0      1.0       1.0  \n",
       "LPG                       0.0      0.0       1.0  \n",
       "Petrol                    1.0      1.0       1.0  \n",
       "Automatic                 0.0      0.0       1.0  \n",
       "Manual                    1.0      1.0       1.0  \n",
       "First Owner               1.0      1.0       1.0  \n",
       "Fourth & Above Owner      0.0      0.0       1.0  \n",
       "Second Owner              0.0      1.0       1.0  \n",
       "Third Owner               0.0      0.0       1.0  "
      ]
     },
     "execution_count": 1122,
     "metadata": {},
     "output_type": "execute_result"
    }
   ],
   "source": [
    "x.describe().T"
   ]
  },
  {
   "cell_type": "code",
   "execution_count": 1123,
   "metadata": {},
   "outputs": [],
   "source": [
    "from sklearn.preprocessing import MinMaxScaler\n",
    "scaler = MinMaxScaler()\n",
    "x_MinMax = scaler.fit_transform(x)"
   ]
  },
  {
   "cell_type": "markdown",
   "metadata": {},
   "source": [
    "<h3>Feature selection </h3>\n",
    "<b>Metodos de Contraccion</b>\n",
    "<p> - Regresion de Lasso</p>"
   ]
  },
  {
   "cell_type": "code",
   "execution_count": 1124,
   "metadata": {},
   "outputs": [
    {
     "name": "stdout",
     "output_type": "stream",
     "text": [
      "[ 6.49498454e+05 -1.54608961e+05  8.41172984e+04 -1.40433993e+05\n",
      "  5.11428800e+05  2.12500921e+05  1.93383398e+04 -5.69946237e+03\n",
      "  8.21611833e+04 -4.28722556e+03  1.05426855e+05  4.59903511e+04\n",
      " -2.10958633e+03  6.28468738e+04 -8.33392311e-09  3.57602371e+04\n",
      "  1.69503190e+04 -3.02929103e+03  1.52208102e+03]\n"
     ]
    }
   ],
   "source": [
    "from sklearn.model_selection import train_test_split\n",
    "from sklearn import linear_model\n",
    "\n",
    "X_train_lasso, X_test_lasso, y_train_lasso, y_test_lasso = train_test_split(x_MinMax, y, test_size=0.3, random_state=42)\n",
    "\n",
    "clf = linear_model.Lasso(alpha=0.1)\n",
    "clf.fit(x_MinMax,y)\n",
    "\n",
    "print(clf.coef_)"
   ]
  },
  {
   "cell_type": "code",
   "execution_count": 1125,
   "metadata": {},
   "outputs": [
    {
     "name": "stdout",
     "output_type": "stream",
     "text": [
      "x train:  (6502, 16)\n",
      "x test:  (1626, 16)\n",
      "y train:  (6502,)\n",
      "y test:  (1626,)\n"
     ]
    }
   ],
   "source": [
    "print(\"x train: \",X_train.shape)\n",
    "print(\"x test: \",X_test.shape)\n",
    "print(\"y train: \",y_train.shape)\n",
    "print(\"y test: \",y_test.shape)"
   ]
  },
  {
   "cell_type": "code",
   "execution_count": 1126,
   "metadata": {},
   "outputs": [
    {
     "name": "stdout",
     "output_type": "stream",
     "text": [
      "                   Specs    Lasso Coef\n",
      "0                   year  6.494985e+05\n",
      "4              max_power  5.114288e+05\n",
      "5                  seats  2.125009e+05\n",
      "1              km_driven  1.546090e+05\n",
      "3                 engine  1.404340e+05\n",
      "10                Diesel  1.054269e+05\n",
      "2                mileage  8.411730e+04\n",
      "8       Trustmark Dealer  8.216118e+04\n",
      "13             Automatic  6.284687e+04\n",
      "11                   LPG  4.599035e+04\n",
      "15           First Owner  3.576024e+04\n",
      "6                 Dealer  1.933834e+04\n",
      "16  Fourth & Above Owner  1.695032e+04\n",
      "7             Individual  5.699462e+03\n",
      "9                    CNG  4.287226e+03\n",
      "17          Second Owner  3.029291e+03\n",
      "12                Petrol  2.109586e+03\n",
      "18           Third Owner  1.522081e+03\n",
      "14                Manual  8.333923e-09\n"
     ]
    }
   ],
   "source": [
    "df_coef = pd.DataFrame(clf.coef_)\n",
    "df_columns = pd.DataFrame(x_scaled.columns)\n",
    "df_lasso = pd.concat([df_columns,df_coef],axis=1)\n",
    "df_lasso.columns = ['Specs','Lasso Coef']\n",
    "df_lasso['Lasso Coef'] = np.abs(df_lasso['Lasso Coef'])\n",
    "print(df_lasso.sort_values(by='Lasso Coef',axis=0,ascending=False))\n",
    "df_lasso = df_lasso.sort_values(by='Lasso Coef',axis=0,ascending=False)"
   ]
  },
  {
   "cell_type": "code",
   "execution_count": 1127,
   "metadata": {},
   "outputs": [
    {
     "data": {
      "text/html": [
       "<div>\n",
       "<style scoped>\n",
       "    .dataframe tbody tr th:only-of-type {\n",
       "        vertical-align: middle;\n",
       "    }\n",
       "\n",
       "    .dataframe tbody tr th {\n",
       "        vertical-align: top;\n",
       "    }\n",
       "\n",
       "    .dataframe thead th {\n",
       "        text-align: right;\n",
       "    }\n",
       "</style>\n",
       "<table border=\"1\" class=\"dataframe\">\n",
       "  <thead>\n",
       "    <tr style=\"text-align: right;\">\n",
       "      <th></th>\n",
       "      <th>count</th>\n",
       "      <th>mean</th>\n",
       "      <th>std</th>\n",
       "      <th>min</th>\n",
       "      <th>25%</th>\n",
       "      <th>50%</th>\n",
       "      <th>75%</th>\n",
       "      <th>max</th>\n",
       "    </tr>\n",
       "  </thead>\n",
       "  <tbody>\n",
       "    <tr>\n",
       "      <th>year</th>\n",
       "      <td>5116.0</td>\n",
       "      <td>0.758382</td>\n",
       "      <td>0.152278</td>\n",
       "      <td>0.0</td>\n",
       "      <td>0.653846</td>\n",
       "      <td>0.769231</td>\n",
       "      <td>0.884615</td>\n",
       "      <td>1.0</td>\n",
       "    </tr>\n",
       "    <tr>\n",
       "      <th>km_driven</th>\n",
       "      <td>5116.0</td>\n",
       "      <td>0.373946</td>\n",
       "      <td>0.213179</td>\n",
       "      <td>0.0</td>\n",
       "      <td>0.203484</td>\n",
       "      <td>0.348833</td>\n",
       "      <td>0.523253</td>\n",
       "      <td>1.0</td>\n",
       "    </tr>\n",
       "    <tr>\n",
       "      <th>mileage</th>\n",
       "      <td>5116.0</td>\n",
       "      <td>0.727315</td>\n",
       "      <td>0.119721</td>\n",
       "      <td>0.0</td>\n",
       "      <td>0.651408</td>\n",
       "      <td>0.718310</td>\n",
       "      <td>0.809859</td>\n",
       "      <td>1.0</td>\n",
       "    </tr>\n",
       "    <tr>\n",
       "      <th>engine</th>\n",
       "      <td>5116.0</td>\n",
       "      <td>0.442808</td>\n",
       "      <td>0.167450</td>\n",
       "      <td>0.0</td>\n",
       "      <td>0.348943</td>\n",
       "      <td>0.434290</td>\n",
       "      <td>0.583082</td>\n",
       "      <td>1.0</td>\n",
       "    </tr>\n",
       "    <tr>\n",
       "      <th>max_power</th>\n",
       "      <td>5116.0</td>\n",
       "      <td>0.499402</td>\n",
       "      <td>0.195003</td>\n",
       "      <td>0.0</td>\n",
       "      <td>0.388322</td>\n",
       "      <td>0.478458</td>\n",
       "      <td>0.631519</td>\n",
       "      <td>1.0</td>\n",
       "    </tr>\n",
       "    <tr>\n",
       "      <th>seats</th>\n",
       "      <td>5116.0</td>\n",
       "      <td>0.113428</td>\n",
       "      <td>0.060022</td>\n",
       "      <td>0.0</td>\n",
       "      <td>0.100000</td>\n",
       "      <td>0.100000</td>\n",
       "      <td>0.100000</td>\n",
       "      <td>1.0</td>\n",
       "    </tr>\n",
       "    <tr>\n",
       "      <th>Dealer</th>\n",
       "      <td>5116.0</td>\n",
       "      <td>0.090696</td>\n",
       "      <td>0.287204</td>\n",
       "      <td>0.0</td>\n",
       "      <td>0.000000</td>\n",
       "      <td>0.000000</td>\n",
       "      <td>0.000000</td>\n",
       "      <td>1.0</td>\n",
       "    </tr>\n",
       "    <tr>\n",
       "      <th>Individual</th>\n",
       "      <td>5116.0</td>\n",
       "      <td>0.904808</td>\n",
       "      <td>0.293508</td>\n",
       "      <td>0.0</td>\n",
       "      <td>1.000000</td>\n",
       "      <td>1.000000</td>\n",
       "      <td>1.000000</td>\n",
       "      <td>1.0</td>\n",
       "    </tr>\n",
       "    <tr>\n",
       "      <th>Trustmark Dealer</th>\n",
       "      <td>5116.0</td>\n",
       "      <td>0.004496</td>\n",
       "      <td>0.066906</td>\n",
       "      <td>0.0</td>\n",
       "      <td>0.000000</td>\n",
       "      <td>0.000000</td>\n",
       "      <td>0.000000</td>\n",
       "      <td>1.0</td>\n",
       "    </tr>\n",
       "    <tr>\n",
       "      <th>CNG</th>\n",
       "      <td>5116.0</td>\n",
       "      <td>0.008405</td>\n",
       "      <td>0.091302</td>\n",
       "      <td>0.0</td>\n",
       "      <td>0.000000</td>\n",
       "      <td>0.000000</td>\n",
       "      <td>0.000000</td>\n",
       "      <td>1.0</td>\n",
       "    </tr>\n",
       "    <tr>\n",
       "      <th>Diesel</th>\n",
       "      <td>5116.0</td>\n",
       "      <td>0.440188</td>\n",
       "      <td>0.496458</td>\n",
       "      <td>0.0</td>\n",
       "      <td>0.000000</td>\n",
       "      <td>0.000000</td>\n",
       "      <td>1.000000</td>\n",
       "      <td>1.0</td>\n",
       "    </tr>\n",
       "    <tr>\n",
       "      <th>LPG</th>\n",
       "      <td>5116.0</td>\n",
       "      <td>0.006450</td>\n",
       "      <td>0.080062</td>\n",
       "      <td>0.0</td>\n",
       "      <td>0.000000</td>\n",
       "      <td>0.000000</td>\n",
       "      <td>0.000000</td>\n",
       "      <td>1.0</td>\n",
       "    </tr>\n",
       "    <tr>\n",
       "      <th>Petrol</th>\n",
       "      <td>5116.0</td>\n",
       "      <td>0.544957</td>\n",
       "      <td>0.498023</td>\n",
       "      <td>0.0</td>\n",
       "      <td>0.000000</td>\n",
       "      <td>1.000000</td>\n",
       "      <td>1.000000</td>\n",
       "      <td>1.0</td>\n",
       "    </tr>\n",
       "    <tr>\n",
       "      <th>Automatic</th>\n",
       "      <td>5116.0</td>\n",
       "      <td>0.048671</td>\n",
       "      <td>0.215200</td>\n",
       "      <td>0.0</td>\n",
       "      <td>0.000000</td>\n",
       "      <td>0.000000</td>\n",
       "      <td>0.000000</td>\n",
       "      <td>1.0</td>\n",
       "    </tr>\n",
       "    <tr>\n",
       "      <th>Manual</th>\n",
       "      <td>5116.0</td>\n",
       "      <td>0.951329</td>\n",
       "      <td>0.215200</td>\n",
       "      <td>0.0</td>\n",
       "      <td>1.000000</td>\n",
       "      <td>1.000000</td>\n",
       "      <td>1.000000</td>\n",
       "      <td>1.0</td>\n",
       "    </tr>\n",
       "    <tr>\n",
       "      <th>First Owner</th>\n",
       "      <td>5116.0</td>\n",
       "      <td>0.634871</td>\n",
       "      <td>0.481513</td>\n",
       "      <td>0.0</td>\n",
       "      <td>0.000000</td>\n",
       "      <td>1.000000</td>\n",
       "      <td>1.000000</td>\n",
       "      <td>1.0</td>\n",
       "    </tr>\n",
       "    <tr>\n",
       "      <th>Fourth &amp; Above Owner</th>\n",
       "      <td>5116.0</td>\n",
       "      <td>0.021892</td>\n",
       "      <td>0.146346</td>\n",
       "      <td>0.0</td>\n",
       "      <td>0.000000</td>\n",
       "      <td>0.000000</td>\n",
       "      <td>0.000000</td>\n",
       "      <td>1.0</td>\n",
       "    </tr>\n",
       "    <tr>\n",
       "      <th>Second Owner</th>\n",
       "      <td>5116.0</td>\n",
       "      <td>0.270524</td>\n",
       "      <td>0.444274</td>\n",
       "      <td>0.0</td>\n",
       "      <td>0.000000</td>\n",
       "      <td>0.000000</td>\n",
       "      <td>1.000000</td>\n",
       "      <td>1.0</td>\n",
       "    </tr>\n",
       "    <tr>\n",
       "      <th>Third Owner</th>\n",
       "      <td>5116.0</td>\n",
       "      <td>0.072713</td>\n",
       "      <td>0.259690</td>\n",
       "      <td>0.0</td>\n",
       "      <td>0.000000</td>\n",
       "      <td>0.000000</td>\n",
       "      <td>0.000000</td>\n",
       "      <td>1.0</td>\n",
       "    </tr>\n",
       "  </tbody>\n",
       "</table>\n",
       "</div>"
      ],
      "text/plain": [
       "                       count      mean       std  min       25%       50%  \\\n",
       "year                  5116.0  0.758382  0.152278  0.0  0.653846  0.769231   \n",
       "km_driven             5116.0  0.373946  0.213179  0.0  0.203484  0.348833   \n",
       "mileage               5116.0  0.727315  0.119721  0.0  0.651408  0.718310   \n",
       "engine                5116.0  0.442808  0.167450  0.0  0.348943  0.434290   \n",
       "max_power             5116.0  0.499402  0.195003  0.0  0.388322  0.478458   \n",
       "seats                 5116.0  0.113428  0.060022  0.0  0.100000  0.100000   \n",
       "Dealer                5116.0  0.090696  0.287204  0.0  0.000000  0.000000   \n",
       "Individual            5116.0  0.904808  0.293508  0.0  1.000000  1.000000   \n",
       "Trustmark Dealer      5116.0  0.004496  0.066906  0.0  0.000000  0.000000   \n",
       "CNG                   5116.0  0.008405  0.091302  0.0  0.000000  0.000000   \n",
       "Diesel                5116.0  0.440188  0.496458  0.0  0.000000  0.000000   \n",
       "LPG                   5116.0  0.006450  0.080062  0.0  0.000000  0.000000   \n",
       "Petrol                5116.0  0.544957  0.498023  0.0  0.000000  1.000000   \n",
       "Automatic             5116.0  0.048671  0.215200  0.0  0.000000  0.000000   \n",
       "Manual                5116.0  0.951329  0.215200  0.0  1.000000  1.000000   \n",
       "First Owner           5116.0  0.634871  0.481513  0.0  0.000000  1.000000   \n",
       "Fourth & Above Owner  5116.0  0.021892  0.146346  0.0  0.000000  0.000000   \n",
       "Second Owner          5116.0  0.270524  0.444274  0.0  0.000000  0.000000   \n",
       "Third Owner           5116.0  0.072713  0.259690  0.0  0.000000  0.000000   \n",
       "\n",
       "                           75%  max  \n",
       "year                  0.884615  1.0  \n",
       "km_driven             0.523253  1.0  \n",
       "mileage               0.809859  1.0  \n",
       "engine                0.583082  1.0  \n",
       "max_power             0.631519  1.0  \n",
       "seats                 0.100000  1.0  \n",
       "Dealer                0.000000  1.0  \n",
       "Individual            1.000000  1.0  \n",
       "Trustmark Dealer      0.000000  1.0  \n",
       "CNG                   0.000000  1.0  \n",
       "Diesel                1.000000  1.0  \n",
       "LPG                   0.000000  1.0  \n",
       "Petrol                1.000000  1.0  \n",
       "Automatic             0.000000  1.0  \n",
       "Manual                1.000000  1.0  \n",
       "First Owner           1.000000  1.0  \n",
       "Fourth & Above Owner  0.000000  1.0  \n",
       "Second Owner          1.000000  1.0  \n",
       "Third Owner           0.000000  1.0  "
      ]
     },
     "execution_count": 1127,
     "metadata": {},
     "output_type": "execute_result"
    }
   ],
   "source": [
    "x_filtrado =x_scaled\n",
    "\n",
    "x_filtrado.describe().T"
   ]
  },
  {
   "cell_type": "code",
   "execution_count": 1128,
   "metadata": {},
   "outputs": [],
   "source": [
    "import statsmodels.api as sm\n",
    "import seaborn as sns\n",
    "import  pylab\n",
    "\n",
    "X_train_def, X_test_def, y_train_def, y_test_def = train_test_split(x_filtrado, y, test_size=0.3, random_state=42)\n",
    "\n",
    "\n",
    "model = sm.OLS(y_train_def.values.reshape(-1,1), sm.add_constant (X_train_def))\n",
    "results=model.fit()"
   ]
  },
  {
   "cell_type": "code",
   "execution_count": 1129,
   "metadata": {},
   "outputs": [
    {
     "name": "stdout",
     "output_type": "stream",
     "text": [
      "                            OLS Regression Results                            \n",
      "==============================================================================\n",
      "Dep. Variable:                      y   R-squared:                       0.735\n",
      "Model:                            OLS   Adj. R-squared:                  0.734\n",
      "Method:                 Least Squares   F-statistic:                     658.9\n",
      "Date:                Wed, 02 Nov 2022   Prob (F-statistic):               0.00\n",
      "Time:                        01:05:21   Log-Likelihood:                -46802.\n",
      "No. Observations:                3581   AIC:                         9.364e+04\n",
      "Df Residuals:                    3565   BIC:                         9.373e+04\n",
      "Df Model:                          15                                         \n",
      "Covariance Type:            nonrobust                                         \n",
      "========================================================================================\n",
      "                           coef    std err          t      P>|t|      [0.025      0.975]\n",
      "----------------------------------------------------------------------------------------\n",
      "const                -1.099e+05   1.13e+04     -9.717      0.000   -1.32e+05   -8.77e+04\n",
      "year                  6.365e+05   1.89e+04     33.654      0.000    5.99e+05    6.74e+05\n",
      "km_driven            -1.644e+05   1.17e+04    -13.993      0.000   -1.87e+05   -1.41e+05\n",
      "mileage               8.484e+04   2.44e+04      3.472      0.001    3.69e+04    1.33e+05\n",
      "engine               -1.355e+05   2.58e+04     -5.258      0.000   -1.86e+05    -8.5e+04\n",
      "max_power             5.008e+05   1.88e+04     26.694      0.000    4.64e+05    5.38e+05\n",
      "seats                 1.959e+05   3.46e+04      5.655      0.000    1.28e+05    2.64e+05\n",
      "Dealer               -4.143e+04   1.03e+04     -4.012      0.000   -6.17e+04   -2.12e+04\n",
      "Individual           -5.955e+04   9509.375     -6.262      0.000   -7.82e+04   -4.09e+04\n",
      "Trustmark Dealer     -8891.8397   2.17e+04     -0.410      0.682   -5.14e+04    3.36e+04\n",
      "CNG                  -5.939e+04   1.77e+04     -3.364      0.001    -9.4e+04   -2.48e+04\n",
      "Diesel                3.756e+04   9313.925      4.033      0.000    1.93e+04    5.58e+04\n",
      "LPG                  -1.758e+04   1.97e+04     -0.892      0.373   -5.62e+04    2.11e+04\n",
      "Petrol               -7.046e+04   7669.162     -9.187      0.000   -8.55e+04   -5.54e+04\n",
      "Automatic            -2.503e+04   7856.351     -3.186      0.001   -4.04e+04   -9625.456\n",
      "Manual               -8.484e+04   6756.321    -12.557      0.000   -9.81e+04   -7.16e+04\n",
      "First Owner          -3786.8419   5675.531     -0.667      0.505   -1.49e+04    7340.773\n",
      "Fourth & Above Owner -2.053e+04   1.11e+04     -1.849      0.065   -4.23e+04    1239.606\n",
      "Second Owner         -4.539e+04   5427.261     -8.363      0.000    -5.6e+04   -3.47e+04\n",
      "Third Owner          -4.017e+04   6916.837     -5.807      0.000   -5.37e+04   -2.66e+04\n",
      "==============================================================================\n",
      "Omnibus:                      120.256   Durbin-Watson:                   2.000\n",
      "Prob(Omnibus):                  0.000   Jarque-Bera (JB):              134.810\n",
      "Skew:                           0.435   Prob(JB):                     5.33e-30\n",
      "Kurtosis:                       3.383   Cond. No.                     8.95e+16\n",
      "==============================================================================\n",
      "\n",
      "Notes:\n",
      "[1] Standard Errors assume that the covariance matrix of the errors is correctly specified.\n",
      "[2] The smallest eigenvalue is 2.43e-30. This might indicate that there are\n",
      "strong multicollinearity problems or that the design matrix is singular.\n"
     ]
    }
   ],
   "source": [
    "print(results.summary())"
   ]
  },
  {
   "cell_type": "code",
   "execution_count": 1130,
   "metadata": {},
   "outputs": [],
   "source": [
    "import sklearn.metrics as metrics\n",
    "from sklearn.ensemble import RandomForestRegressor"
   ]
  },
  {
   "cell_type": "code",
   "execution_count": 1131,
   "metadata": {},
   "outputs": [
    {
     "name": "stdout",
     "output_type": "stream",
     "text": [
      "0.93947339850315\n",
      "0.7335710852761046\n"
     ]
    }
   ],
   "source": [
    "regressor = RandomForestRegressor( random_state=42).fit(X_train, y_train)\n",
    "print(regressor.score(X_train, y_train))\n",
    "print(regressor.score(X_test, y_test))"
   ]
  },
  {
   "cell_type": "code",
   "execution_count": 1132,
   "metadata": {},
   "outputs": [
    {
     "name": "stdout",
     "output_type": "stream",
     "text": [
      "R-Squared: 0.7335710852761046\n",
      "MAE: 171738.7299656919\n",
      "MSE: 131049003861.18105\n",
      "RMSE: 362006.91134449496\n"
     ]
    }
   ],
   "source": [
    "y_pred=regressor.predict(X_test)\n",
    "train_pred=regressor.predict(X_train)\n",
    "\n",
    "from sklearn.metrics import mean_absolute_error\n",
    "\n",
    "print('R-Squared:',metrics.r2_score(y_test, y_pred)) \n",
    "print('MAE:', metrics.mean_absolute_error(y_test, y_pred))\n",
    "print('MSE:', metrics.mean_squared_error(y_test, y_pred))\n",
    "print('RMSE:', math.sqrt(metrics.mean_squared_error(y_test, y_pred)))"
   ]
  }
 ],
 "metadata": {
  "kernelspec": {
   "display_name": "Python 3.9.12 ('base')",
   "language": "python",
   "name": "python3"
  },
  "language_info": {
   "codemirror_mode": {
    "name": "ipython",
    "version": 3
   },
   "file_extension": ".py",
   "mimetype": "text/x-python",
   "name": "python",
   "nbconvert_exporter": "python",
   "pygments_lexer": "ipython3",
   "version": "3.9.12"
  },
  "orig_nbformat": 4,
  "vscode": {
   "interpreter": {
    "hash": "ad2bdc8ecc057115af97d19610ffacc2b4e99fae6737bb82f5d7fb13d2f2c186"
   }
  }
 },
 "nbformat": 4,
 "nbformat_minor": 2
}
