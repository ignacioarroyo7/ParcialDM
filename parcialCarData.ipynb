{
 "cells": [
  {
   "cell_type": "code",
   "execution_count": 423,
   "metadata": {},
   "outputs": [],
   "source": [
    "import pandas as pd\n",
    "import numpy as np\n",
    "from sklearn import  linear_model\n",
    "import matplotlib.pyplot as plt\n",
    "import seaborn as sns\n",
    "import warnings\n",
    "import math\n",
    "warnings.filterwarnings(\"ignore\")"
   ]
  },
  {
   "cell_type": "code",
   "execution_count": 424,
   "metadata": {},
   "outputs": [],
   "source": [
    "pd_carData = pd.read_csv(\"car_data.csv\")"
   ]
  },
  {
   "cell_type": "code",
   "execution_count": 425,
   "metadata": {},
   "outputs": [
    {
     "data": {
      "text/html": [
       "<div>\n",
       "<style scoped>\n",
       "    .dataframe tbody tr th:only-of-type {\n",
       "        vertical-align: middle;\n",
       "    }\n",
       "\n",
       "    .dataframe tbody tr th {\n",
       "        vertical-align: top;\n",
       "    }\n",
       "\n",
       "    .dataframe thead th {\n",
       "        text-align: right;\n",
       "    }\n",
       "</style>\n",
       "<table border=\"1\" class=\"dataframe\">\n",
       "  <thead>\n",
       "    <tr style=\"text-align: right;\">\n",
       "      <th></th>\n",
       "      <th>0</th>\n",
       "      <th>1</th>\n",
       "      <th>2</th>\n",
       "      <th>3</th>\n",
       "      <th>4</th>\n",
       "      <th>5</th>\n",
       "      <th>6</th>\n",
       "      <th>7</th>\n",
       "      <th>8</th>\n",
       "      <th>9</th>\n",
       "      <th>...</th>\n",
       "      <th>291</th>\n",
       "      <th>292</th>\n",
       "      <th>293</th>\n",
       "      <th>294</th>\n",
       "      <th>295</th>\n",
       "      <th>296</th>\n",
       "      <th>297</th>\n",
       "      <th>298</th>\n",
       "      <th>299</th>\n",
       "      <th>300</th>\n",
       "    </tr>\n",
       "  </thead>\n",
       "  <tbody>\n",
       "    <tr>\n",
       "      <th>Car_Name</th>\n",
       "      <td>ritz</td>\n",
       "      <td>sx4</td>\n",
       "      <td>ciaz</td>\n",
       "      <td>wagon r</td>\n",
       "      <td>swift</td>\n",
       "      <td>vitara brezza</td>\n",
       "      <td>ciaz</td>\n",
       "      <td>s cross</td>\n",
       "      <td>ciaz</td>\n",
       "      <td>ciaz</td>\n",
       "      <td>...</td>\n",
       "      <td>brio</td>\n",
       "      <td>jazz</td>\n",
       "      <td>city</td>\n",
       "      <td>amaze</td>\n",
       "      <td>city</td>\n",
       "      <td>city</td>\n",
       "      <td>brio</td>\n",
       "      <td>city</td>\n",
       "      <td>city</td>\n",
       "      <td>brio</td>\n",
       "    </tr>\n",
       "    <tr>\n",
       "      <th>Year</th>\n",
       "      <td>2014</td>\n",
       "      <td>2013</td>\n",
       "      <td>2017</td>\n",
       "      <td>2011</td>\n",
       "      <td>2014</td>\n",
       "      <td>2018</td>\n",
       "      <td>2015</td>\n",
       "      <td>2015</td>\n",
       "      <td>2016</td>\n",
       "      <td>2015</td>\n",
       "      <td>...</td>\n",
       "      <td>2015</td>\n",
       "      <td>2016</td>\n",
       "      <td>2010</td>\n",
       "      <td>2014</td>\n",
       "      <td>2015</td>\n",
       "      <td>2016</td>\n",
       "      <td>2015</td>\n",
       "      <td>2009</td>\n",
       "      <td>2017</td>\n",
       "      <td>2016</td>\n",
       "    </tr>\n",
       "    <tr>\n",
       "      <th>Selling_Price</th>\n",
       "      <td>3.35</td>\n",
       "      <td>4.75</td>\n",
       "      <td>7.25</td>\n",
       "      <td>2.85</td>\n",
       "      <td>4.6</td>\n",
       "      <td>9.25</td>\n",
       "      <td>6.75</td>\n",
       "      <td>6.5</td>\n",
       "      <td>8.75</td>\n",
       "      <td>7.45</td>\n",
       "      <td>...</td>\n",
       "      <td>5.4</td>\n",
       "      <td>6.4</td>\n",
       "      <td>3.25</td>\n",
       "      <td>3.75</td>\n",
       "      <td>8.55</td>\n",
       "      <td>9.5</td>\n",
       "      <td>4.0</td>\n",
       "      <td>3.35</td>\n",
       "      <td>11.5</td>\n",
       "      <td>5.3</td>\n",
       "    </tr>\n",
       "    <tr>\n",
       "      <th>Present_Price</th>\n",
       "      <td>5.59</td>\n",
       "      <td>9.54</td>\n",
       "      <td>9.85</td>\n",
       "      <td>4.15</td>\n",
       "      <td>6.87</td>\n",
       "      <td>9.83</td>\n",
       "      <td>8.12</td>\n",
       "      <td>8.61</td>\n",
       "      <td>8.89</td>\n",
       "      <td>8.92</td>\n",
       "      <td>...</td>\n",
       "      <td>6.1</td>\n",
       "      <td>8.4</td>\n",
       "      <td>9.9</td>\n",
       "      <td>6.8</td>\n",
       "      <td>13.09</td>\n",
       "      <td>11.6</td>\n",
       "      <td>5.9</td>\n",
       "      <td>11.0</td>\n",
       "      <td>12.5</td>\n",
       "      <td>5.9</td>\n",
       "    </tr>\n",
       "    <tr>\n",
       "      <th>Kms_Driven</th>\n",
       "      <td>27000</td>\n",
       "      <td>43000</td>\n",
       "      <td>6900</td>\n",
       "      <td>5200</td>\n",
       "      <td>42450</td>\n",
       "      <td>2071</td>\n",
       "      <td>18796</td>\n",
       "      <td>33429</td>\n",
       "      <td>20273</td>\n",
       "      <td>42367</td>\n",
       "      <td>...</td>\n",
       "      <td>31427</td>\n",
       "      <td>12000</td>\n",
       "      <td>38000</td>\n",
       "      <td>33019</td>\n",
       "      <td>60076</td>\n",
       "      <td>33988</td>\n",
       "      <td>60000</td>\n",
       "      <td>87934</td>\n",
       "      <td>9000</td>\n",
       "      <td>5464</td>\n",
       "    </tr>\n",
       "    <tr>\n",
       "      <th>Fuel_Type</th>\n",
       "      <td>Petrol</td>\n",
       "      <td>Diesel</td>\n",
       "      <td>Petrol</td>\n",
       "      <td>Petrol</td>\n",
       "      <td>Diesel</td>\n",
       "      <td>Diesel</td>\n",
       "      <td>Petrol</td>\n",
       "      <td>Diesel</td>\n",
       "      <td>Diesel</td>\n",
       "      <td>Diesel</td>\n",
       "      <td>...</td>\n",
       "      <td>Petrol</td>\n",
       "      <td>Petrol</td>\n",
       "      <td>Petrol</td>\n",
       "      <td>Petrol</td>\n",
       "      <td>Diesel</td>\n",
       "      <td>Diesel</td>\n",
       "      <td>Petrol</td>\n",
       "      <td>Petrol</td>\n",
       "      <td>Diesel</td>\n",
       "      <td>Petrol</td>\n",
       "    </tr>\n",
       "    <tr>\n",
       "      <th>Seller_Type</th>\n",
       "      <td>Dealer</td>\n",
       "      <td>Dealer</td>\n",
       "      <td>Dealer</td>\n",
       "      <td>Dealer</td>\n",
       "      <td>Dealer</td>\n",
       "      <td>Dealer</td>\n",
       "      <td>Dealer</td>\n",
       "      <td>Dealer</td>\n",
       "      <td>Dealer</td>\n",
       "      <td>Dealer</td>\n",
       "      <td>...</td>\n",
       "      <td>Dealer</td>\n",
       "      <td>Dealer</td>\n",
       "      <td>Dealer</td>\n",
       "      <td>Dealer</td>\n",
       "      <td>Dealer</td>\n",
       "      <td>Dealer</td>\n",
       "      <td>Dealer</td>\n",
       "      <td>Dealer</td>\n",
       "      <td>Dealer</td>\n",
       "      <td>Dealer</td>\n",
       "    </tr>\n",
       "    <tr>\n",
       "      <th>Transmission</th>\n",
       "      <td>Manual</td>\n",
       "      <td>Manual</td>\n",
       "      <td>Manual</td>\n",
       "      <td>Manual</td>\n",
       "      <td>Manual</td>\n",
       "      <td>Manual</td>\n",
       "      <td>Manual</td>\n",
       "      <td>Manual</td>\n",
       "      <td>Manual</td>\n",
       "      <td>Manual</td>\n",
       "      <td>...</td>\n",
       "      <td>Manual</td>\n",
       "      <td>Manual</td>\n",
       "      <td>Manual</td>\n",
       "      <td>Manual</td>\n",
       "      <td>Manual</td>\n",
       "      <td>Manual</td>\n",
       "      <td>Manual</td>\n",
       "      <td>Manual</td>\n",
       "      <td>Manual</td>\n",
       "      <td>Manual</td>\n",
       "    </tr>\n",
       "    <tr>\n",
       "      <th>Owner</th>\n",
       "      <td>0</td>\n",
       "      <td>0</td>\n",
       "      <td>0</td>\n",
       "      <td>0</td>\n",
       "      <td>0</td>\n",
       "      <td>0</td>\n",
       "      <td>0</td>\n",
       "      <td>0</td>\n",
       "      <td>0</td>\n",
       "      <td>0</td>\n",
       "      <td>...</td>\n",
       "      <td>0</td>\n",
       "      <td>0</td>\n",
       "      <td>0</td>\n",
       "      <td>0</td>\n",
       "      <td>0</td>\n",
       "      <td>0</td>\n",
       "      <td>0</td>\n",
       "      <td>0</td>\n",
       "      <td>0</td>\n",
       "      <td>0</td>\n",
       "    </tr>\n",
       "  </tbody>\n",
       "</table>\n",
       "<p>9 rows × 301 columns</p>\n",
       "</div>"
      ],
      "text/plain": [
       "                  0       1       2        3       4              5       6    \\\n",
       "Car_Name         ritz     sx4    ciaz  wagon r   swift  vitara brezza    ciaz   \n",
       "Year             2014    2013    2017     2011    2014           2018    2015   \n",
       "Selling_Price    3.35    4.75    7.25     2.85     4.6           9.25    6.75   \n",
       "Present_Price    5.59    9.54    9.85     4.15    6.87           9.83    8.12   \n",
       "Kms_Driven      27000   43000    6900     5200   42450           2071   18796   \n",
       "Fuel_Type      Petrol  Diesel  Petrol   Petrol  Diesel         Diesel  Petrol   \n",
       "Seller_Type    Dealer  Dealer  Dealer   Dealer  Dealer         Dealer  Dealer   \n",
       "Transmission   Manual  Manual  Manual   Manual  Manual         Manual  Manual   \n",
       "Owner               0       0       0        0       0              0       0   \n",
       "\n",
       "                   7       8       9    ...     291     292     293     294  \\\n",
       "Car_Name       s cross    ciaz    ciaz  ...    brio    jazz    city   amaze   \n",
       "Year              2015    2016    2015  ...    2015    2016    2010    2014   \n",
       "Selling_Price      6.5    8.75    7.45  ...     5.4     6.4    3.25    3.75   \n",
       "Present_Price     8.61    8.89    8.92  ...     6.1     8.4     9.9     6.8   \n",
       "Kms_Driven       33429   20273   42367  ...   31427   12000   38000   33019   \n",
       "Fuel_Type       Diesel  Diesel  Diesel  ...  Petrol  Petrol  Petrol  Petrol   \n",
       "Seller_Type     Dealer  Dealer  Dealer  ...  Dealer  Dealer  Dealer  Dealer   \n",
       "Transmission    Manual  Manual  Manual  ...  Manual  Manual  Manual  Manual   \n",
       "Owner                0       0       0  ...       0       0       0       0   \n",
       "\n",
       "                  295     296     297     298     299     300  \n",
       "Car_Name         city    city    brio    city    city    brio  \n",
       "Year             2015    2016    2015    2009    2017    2016  \n",
       "Selling_Price    8.55     9.5     4.0    3.35    11.5     5.3  \n",
       "Present_Price   13.09    11.6     5.9    11.0    12.5     5.9  \n",
       "Kms_Driven      60076   33988   60000   87934    9000    5464  \n",
       "Fuel_Type      Diesel  Diesel  Petrol  Petrol  Diesel  Petrol  \n",
       "Seller_Type    Dealer  Dealer  Dealer  Dealer  Dealer  Dealer  \n",
       "Transmission   Manual  Manual  Manual  Manual  Manual  Manual  \n",
       "Owner               0       0       0       0       0       0  \n",
       "\n",
       "[9 rows x 301 columns]"
      ]
     },
     "execution_count": 425,
     "metadata": {},
     "output_type": "execute_result"
    }
   ],
   "source": [
    "pd_carData.T"
   ]
  },
  {
   "cell_type": "code",
   "execution_count": 426,
   "metadata": {},
   "outputs": [
    {
     "data": {
      "text/html": [
       "<div>\n",
       "<style scoped>\n",
       "    .dataframe tbody tr th:only-of-type {\n",
       "        vertical-align: middle;\n",
       "    }\n",
       "\n",
       "    .dataframe tbody tr th {\n",
       "        vertical-align: top;\n",
       "    }\n",
       "\n",
       "    .dataframe thead th {\n",
       "        text-align: right;\n",
       "    }\n",
       "</style>\n",
       "<table border=\"1\" class=\"dataframe\">\n",
       "  <thead>\n",
       "    <tr style=\"text-align: right;\">\n",
       "      <th></th>\n",
       "      <th>count</th>\n",
       "      <th>unique</th>\n",
       "      <th>top</th>\n",
       "      <th>freq</th>\n",
       "      <th>mean</th>\n",
       "      <th>std</th>\n",
       "      <th>min</th>\n",
       "      <th>25%</th>\n",
       "      <th>50%</th>\n",
       "      <th>75%</th>\n",
       "      <th>max</th>\n",
       "    </tr>\n",
       "  </thead>\n",
       "  <tbody>\n",
       "    <tr>\n",
       "      <th>Car_Name</th>\n",
       "      <td>301</td>\n",
       "      <td>98</td>\n",
       "      <td>city</td>\n",
       "      <td>26</td>\n",
       "      <td>NaN</td>\n",
       "      <td>NaN</td>\n",
       "      <td>NaN</td>\n",
       "      <td>NaN</td>\n",
       "      <td>NaN</td>\n",
       "      <td>NaN</td>\n",
       "      <td>NaN</td>\n",
       "    </tr>\n",
       "    <tr>\n",
       "      <th>Year</th>\n",
       "      <td>301.0</td>\n",
       "      <td>NaN</td>\n",
       "      <td>NaN</td>\n",
       "      <td>NaN</td>\n",
       "      <td>2013.627907</td>\n",
       "      <td>2.891554</td>\n",
       "      <td>2003.0</td>\n",
       "      <td>2012.0</td>\n",
       "      <td>2014.0</td>\n",
       "      <td>2016.0</td>\n",
       "      <td>2018.0</td>\n",
       "    </tr>\n",
       "    <tr>\n",
       "      <th>Selling_Price</th>\n",
       "      <td>301.0</td>\n",
       "      <td>NaN</td>\n",
       "      <td>NaN</td>\n",
       "      <td>NaN</td>\n",
       "      <td>4.661296</td>\n",
       "      <td>5.082812</td>\n",
       "      <td>0.1</td>\n",
       "      <td>0.9</td>\n",
       "      <td>3.6</td>\n",
       "      <td>6.0</td>\n",
       "      <td>35.0</td>\n",
       "    </tr>\n",
       "    <tr>\n",
       "      <th>Present_Price</th>\n",
       "      <td>301.0</td>\n",
       "      <td>NaN</td>\n",
       "      <td>NaN</td>\n",
       "      <td>NaN</td>\n",
       "      <td>7.628472</td>\n",
       "      <td>8.644115</td>\n",
       "      <td>0.32</td>\n",
       "      <td>1.2</td>\n",
       "      <td>6.4</td>\n",
       "      <td>9.9</td>\n",
       "      <td>92.6</td>\n",
       "    </tr>\n",
       "    <tr>\n",
       "      <th>Kms_Driven</th>\n",
       "      <td>301.0</td>\n",
       "      <td>NaN</td>\n",
       "      <td>NaN</td>\n",
       "      <td>NaN</td>\n",
       "      <td>36947.20598</td>\n",
       "      <td>38886.883882</td>\n",
       "      <td>500.0</td>\n",
       "      <td>15000.0</td>\n",
       "      <td>32000.0</td>\n",
       "      <td>48767.0</td>\n",
       "      <td>500000.0</td>\n",
       "    </tr>\n",
       "    <tr>\n",
       "      <th>Fuel_Type</th>\n",
       "      <td>301</td>\n",
       "      <td>3</td>\n",
       "      <td>Petrol</td>\n",
       "      <td>239</td>\n",
       "      <td>NaN</td>\n",
       "      <td>NaN</td>\n",
       "      <td>NaN</td>\n",
       "      <td>NaN</td>\n",
       "      <td>NaN</td>\n",
       "      <td>NaN</td>\n",
       "      <td>NaN</td>\n",
       "    </tr>\n",
       "    <tr>\n",
       "      <th>Seller_Type</th>\n",
       "      <td>301</td>\n",
       "      <td>2</td>\n",
       "      <td>Dealer</td>\n",
       "      <td>195</td>\n",
       "      <td>NaN</td>\n",
       "      <td>NaN</td>\n",
       "      <td>NaN</td>\n",
       "      <td>NaN</td>\n",
       "      <td>NaN</td>\n",
       "      <td>NaN</td>\n",
       "      <td>NaN</td>\n",
       "    </tr>\n",
       "    <tr>\n",
       "      <th>Transmission</th>\n",
       "      <td>301</td>\n",
       "      <td>2</td>\n",
       "      <td>Manual</td>\n",
       "      <td>261</td>\n",
       "      <td>NaN</td>\n",
       "      <td>NaN</td>\n",
       "      <td>NaN</td>\n",
       "      <td>NaN</td>\n",
       "      <td>NaN</td>\n",
       "      <td>NaN</td>\n",
       "      <td>NaN</td>\n",
       "    </tr>\n",
       "    <tr>\n",
       "      <th>Owner</th>\n",
       "      <td>301.0</td>\n",
       "      <td>NaN</td>\n",
       "      <td>NaN</td>\n",
       "      <td>NaN</td>\n",
       "      <td>0.043189</td>\n",
       "      <td>0.247915</td>\n",
       "      <td>0.0</td>\n",
       "      <td>0.0</td>\n",
       "      <td>0.0</td>\n",
       "      <td>0.0</td>\n",
       "      <td>3.0</td>\n",
       "    </tr>\n",
       "  </tbody>\n",
       "</table>\n",
       "</div>"
      ],
      "text/plain": [
       "               count unique     top freq         mean           std     min  \\\n",
       "Car_Name         301     98    city   26          NaN           NaN     NaN   \n",
       "Year           301.0    NaN     NaN  NaN  2013.627907      2.891554  2003.0   \n",
       "Selling_Price  301.0    NaN     NaN  NaN     4.661296      5.082812     0.1   \n",
       "Present_Price  301.0    NaN     NaN  NaN     7.628472      8.644115    0.32   \n",
       "Kms_Driven     301.0    NaN     NaN  NaN  36947.20598  38886.883882   500.0   \n",
       "Fuel_Type        301      3  Petrol  239          NaN           NaN     NaN   \n",
       "Seller_Type      301      2  Dealer  195          NaN           NaN     NaN   \n",
       "Transmission     301      2  Manual  261          NaN           NaN     NaN   \n",
       "Owner          301.0    NaN     NaN  NaN     0.043189      0.247915     0.0   \n",
       "\n",
       "                   25%      50%      75%       max  \n",
       "Car_Name           NaN      NaN      NaN       NaN  \n",
       "Year            2012.0   2014.0   2016.0    2018.0  \n",
       "Selling_Price      0.9      3.6      6.0      35.0  \n",
       "Present_Price      1.2      6.4      9.9      92.6  \n",
       "Kms_Driven     15000.0  32000.0  48767.0  500000.0  \n",
       "Fuel_Type          NaN      NaN      NaN       NaN  \n",
       "Seller_Type        NaN      NaN      NaN       NaN  \n",
       "Transmission       NaN      NaN      NaN       NaN  \n",
       "Owner              0.0      0.0      0.0       3.0  "
      ]
     },
     "execution_count": 426,
     "metadata": {},
     "output_type": "execute_result"
    }
   ],
   "source": [
    "pd_carData.describe(include='all').T"
   ]
  },
  {
   "cell_type": "code",
   "execution_count": 427,
   "metadata": {},
   "outputs": [
    {
     "name": "stdout",
     "output_type": "stream",
     "text": [
      "<class 'pandas.core.frame.DataFrame'>\n",
      "RangeIndex: 301 entries, 0 to 300\n",
      "Data columns (total 9 columns):\n",
      " #   Column         Non-Null Count  Dtype  \n",
      "---  ------         --------------  -----  \n",
      " 0   Car_Name       301 non-null    object \n",
      " 1   Year           301 non-null    int64  \n",
      " 2   Selling_Price  301 non-null    float64\n",
      " 3   Present_Price  301 non-null    float64\n",
      " 4   Kms_Driven     301 non-null    int64  \n",
      " 5   Fuel_Type      301 non-null    object \n",
      " 6   Seller_Type    301 non-null    object \n",
      " 7   Transmission   301 non-null    object \n",
      " 8   Owner          301 non-null    int64  \n",
      "dtypes: float64(2), int64(3), object(4)\n",
      "memory usage: 21.3+ KB\n"
     ]
    }
   ],
   "source": [
    "pd_carData.info()"
   ]
  },
  {
   "cell_type": "markdown",
   "metadata": {},
   "source": [
    "<h2>Analisis univariado</h2>"
   ]
  },
  {
   "cell_type": "markdown",
   "metadata": {},
   "source": [
    "<p>Car name se elimina por ser string</p>"
   ]
  },
  {
   "cell_type": "markdown",
   "metadata": {},
   "source": [
    "Analisis variable objetivo Selling_Price"
   ]
  },
  {
   "cell_type": "markdown",
   "metadata": {},
   "source": [
    "boxplot es un tipo de grafico que facilmente nos permite identificar los outlayers, y la idea es eliminarlos"
   ]
  },
  {
   "cell_type": "code",
   "execution_count": 428,
   "metadata": {},
   "outputs": [
    {
     "data": {
      "text/plain": [
       "{'whiskers': [<matplotlib.lines.Line2D at 0x1e0ab710190>,\n",
       "  <matplotlib.lines.Line2D at 0x1e0ab710460>],\n",
       " 'caps': [<matplotlib.lines.Line2D at 0x1e0ab710730>,\n",
       "  <matplotlib.lines.Line2D at 0x1e0ab710a00>],\n",
       " 'boxes': [<matplotlib.lines.Line2D at 0x1e0ab6f1d00>],\n",
       " 'medians': [<matplotlib.lines.Line2D at 0x1e0ab710cd0>],\n",
       " 'fliers': [<matplotlib.lines.Line2D at 0x1e0ab710fa0>],\n",
       " 'means': []}"
      ]
     },
     "execution_count": 428,
     "metadata": {},
     "output_type": "execute_result"
    },
    {
     "data": {
      "image/png": "[encoded data removed]",
      "text/plain": [
       "<Figure size 640x480 with 1 Axes>"
      ]
     },
     "metadata": {},
     "output_type": "display_data"
    }
   ],
   "source": [
    "plt.boxplot(pd_carData['Selling_Price'],autorange=True)\n",
    "# plt.hist(pd_carData['Selling_Price'],bins=30)\n",
    "# pd_carData.groupby(\"Mfg_Month\").size().plot(kind='bar')"
   ]
  },
  {
   "cell_type": "code",
   "execution_count": 429,
   "metadata": {},
   "outputs": [
    {
     "data": {
      "text/plain": [
       "(array([97., 16., 37., 36., 35., 20., 14., 15.,  5.,  6.,  2.,  1.,  4.,\n",
       "         1.,  1.,  1.,  2.,  2.,  0.,  3.,  1.,  0.,  0.,  0.,  0.,  0.,\n",
       "         0.,  0.,  1.,  1.]),\n",
       " array([ 0.1       ,  1.26333333,  2.42666667,  3.59      ,  4.75333333,\n",
       "         5.91666667,  7.08      ,  8.24333333,  9.40666667, 10.57      ,\n",
       "        11.73333333, 12.89666667, 14.06      , 15.22333333, 16.38666667,\n",
       "        17.55      , 18.71333333, 19.87666667, 21.04      , 22.20333333,\n",
       "        23.36666667, 24.53      , 25.69333333, 26.85666667, 28.02      ,\n",
       "        29.18333333, 30.34666667, 31.51      , 32.67333333, 33.83666667,\n",
       "        35.        ]),\n",
       " <BarContainer object of 30 artists>)"
      ]
     },
     "execution_count": 429,
     "metadata": {},
     "output_type": "execute_result"
    },
    {
     "data": {
      "image/png": "[encoded data removed]",
      "text/plain": [
       "<Figure size 640x480 with 1 Axes>"
      ]
     },
     "metadata": {},
     "output_type": "display_data"
    }
   ],
   "source": [
    "plt.hist(pd_carData['Selling_Price'],bins=30)"
   ]
  },
  {
   "cell_type": "markdown",
   "metadata": {},
   "source": [
    "Present_Price"
   ]
  },
  {
   "cell_type": "code",
   "execution_count": 430,
   "metadata": {},
   "outputs": [
    {
     "data": {
      "text/plain": [
       "{'whiskers': [<matplotlib.lines.Line2D at 0x1e0ab83d250>,\n",
       "  <matplotlib.lines.Line2D at 0x1e0ab83d520>],\n",
       " 'caps': [<matplotlib.lines.Line2D at 0x1e0ab83d7f0>,\n",
       "  <matplotlib.lines.Line2D at 0x1e0ab83dac0>],\n",
       " 'boxes': [<matplotlib.lines.Line2D at 0x1e0ab82df40>],\n",
       " 'medians': [<matplotlib.lines.Line2D at 0x1e0ab83dd90>],\n",
       " 'fliers': [<matplotlib.lines.Line2D at 0x1e0ab84b0a0>],\n",
       " 'means': []}"
      ]
     },
     "execution_count": 430,
     "metadata": {},
     "output_type": "execute_result"
    },
    {
     "data": {
      "image/png": "[encoded data removed]",
      "text/plain": [
       "<Figure size 640x480 with 1 Axes>"
      ]
     },
     "metadata": {},
     "output_type": "display_data"
    }
   ],
   "source": [
    "plt.boxplot(pd_carData['Present_Price'],autorange=True)"
   ]
  },
  {
   "cell_type": "code",
   "execution_count": 431,
   "metadata": {},
   "outputs": [
    {
     "data": {
      "text/plain": [
       "(array([102.,  49.,  72.,  25.,  25.,   8.,   4.,   4.,   2.,   5.,   0.,\n",
       "          4.,   0.,   0.,   0.,   0.,   0.,   0.,   0.,   0.,   0.,   0.,\n",
       "          0.,   0.,   0.,   0.,   0.,   0.,   0.,   1.]),\n",
       " array([ 0.32 ,  3.396,  6.472,  9.548, 12.624, 15.7  , 18.776, 21.852,\n",
       "        24.928, 28.004, 31.08 , 34.156, 37.232, 40.308, 43.384, 46.46 ,\n",
       "        49.536, 52.612, 55.688, 58.764, 61.84 , 64.916, 67.992, 71.068,\n",
       "        74.144, 77.22 , 80.296, 83.372, 86.448, 89.524, 92.6  ]),\n",
       " <BarContainer object of 30 artists>)"
      ]
     },
     "execution_count": 431,
     "metadata": {},
     "output_type": "execute_result"
    },
    {
     "data": {
      "image/png": "[encoded data removed]",
      "text/plain": [
       "<Figure size 640x480 with 1 Axes>"
      ]
     },
     "metadata": {},
     "output_type": "display_data"
    }
   ],
   "source": [
    "plt.hist(pd_carData['Present_Price'],bins=30)"
   ]
  },
  {
   "cell_type": "markdown",
   "metadata": {},
   "source": [
    "Kms_Driven"
   ]
  },
  {
   "cell_type": "code",
   "execution_count": 432,
   "metadata": {},
   "outputs": [
    {
     "data": {
      "text/plain": [
       "{'whiskers': [<matplotlib.lines.Line2D at 0x1e0ab8efa90>,\n",
       "  <matplotlib.lines.Line2D at 0x1e0ab8efd60>],\n",
       " 'caps': [<matplotlib.lines.Line2D at 0x1e0ab8fd070>,\n",
       "  <matplotlib.lines.Line2D at 0x1e0ab8fd340>],\n",
       " 'boxes': [<matplotlib.lines.Line2D at 0x1e0ab8ef7c0>],\n",
       " 'medians': [<matplotlib.lines.Line2D at 0x1e0ab8fd610>],\n",
       " 'fliers': [<matplotlib.lines.Line2D at 0x1e0ab8fd8e0>],\n",
       " 'means': []}"
      ]
     },
     "execution_count": 432,
     "metadata": {},
     "output_type": "execute_result"
    },
    {
     "data": {
      "image/png": "[encoded data removed]",
      "text/plain": [
       "<Figure size 640x480 with 1 Axes>"
      ]
     },
     "metadata": {},
     "output_type": "display_data"
    }
   ],
   "source": [
    "plt.boxplot(pd_carData['Kms_Driven'],autorange=True)"
   ]
  },
  {
   "cell_type": "code",
   "execution_count": 433,
   "metadata": {},
   "outputs": [
    {
     "data": {
      "text/plain": [
       "(array([88., 69., 79., 35., 16.,  6.,  1.,  1.,  3.,  0.,  0.,  1.,  1.,\n",
       "         0.,  0.,  0.,  0.,  0.,  0.,  0.,  0.,  0.,  0.,  0.,  0.,  0.,\n",
       "         0.,  0.,  0.,  1.]),\n",
       " array([   500.,  17150.,  33800.,  50450.,  67100.,  83750., 100400.,\n",
       "        117050., 133700., 150350., 167000., 183650., 200300., 216950.,\n",
       "        233600., 250250., 266900., 283550., 300200., 316850., 333500.,\n",
       "        350150., 366800., 383450., 400100., 416750., 433400., 450050.,\n",
       "        466700., 483350., 500000.]),\n",
       " <BarContainer object of 30 artists>)"
      ]
     },
     "execution_count": 433,
     "metadata": {},
     "output_type": "execute_result"
    },
    {
     "data": {
      "image/png": "[encoded data removed]",
      "text/plain": [
       "<Figure size 640x480 with 1 Axes>"
      ]
     },
     "metadata": {},
     "output_type": "display_data"
    }
   ],
   "source": [
    "plt.hist(pd_carData['Kms_Driven'],bins=30)"
   ]
  },
  {
   "cell_type": "markdown",
   "metadata": {},
   "source": [
    "Year"
   ]
  },
  {
   "cell_type": "code",
   "execution_count": 434,
   "metadata": {},
   "outputs": [
    {
     "data": {
      "text/plain": [
       "{'whiskers': [<matplotlib.lines.Line2D at 0x1e0aba28b20>,\n",
       "  <matplotlib.lines.Line2D at 0x1e0aba28df0>],\n",
       " 'caps': [<matplotlib.lines.Line2D at 0x1e0aba39100>,\n",
       "  <matplotlib.lines.Line2D at 0x1e0aba393d0>],\n",
       " 'boxes': [<matplotlib.lines.Line2D at 0x1e0aba28850>],\n",
       " 'medians': [<matplotlib.lines.Line2D at 0x1e0aba396a0>],\n",
       " 'fliers': [<matplotlib.lines.Line2D at 0x1e0aba39970>],\n",
       " 'means': []}"
      ]
     },
     "execution_count": 434,
     "metadata": {},
     "output_type": "execute_result"
    },
    {
     "data": {
      "image/png": "[encoded data removed]",
      "text/plain": [
       "<Figure size 640x480 with 1 Axes>"
      ]
     },
     "metadata": {},
     "output_type": "display_data"
    }
   ],
   "source": [
    "plt.boxplot(pd_carData['Year'],autorange=True)"
   ]
  },
  {
   "cell_type": "code",
   "execution_count": 435,
   "metadata": {},
   "outputs": [
    {
     "data": {
      "text/plain": [
       "(array([ 2.,  0.,  1.,  0.,  4.,  0.,  4.,  0.,  2.,  0.,  7.,  0.,  6.,\n",
       "         0., 15.,  0., 19.,  0., 23.,  0., 33.,  0., 38.,  0., 61.,  0.,\n",
       "        50.,  0., 35.,  1.]),\n",
       " array([2003. , 2003.5, 2004. , 2004.5, 2005. , 2005.5, 2006. , 2006.5,\n",
       "        2007. , 2007.5, 2008. , 2008.5, 2009. , 2009.5, 2010. , 2010.5,\n",
       "        2011. , 2011.5, 2012. , 2012.5, 2013. , 2013.5, 2014. , 2014.5,\n",
       "        2015. , 2015.5, 2016. , 2016.5, 2017. , 2017.5, 2018. ]),\n",
       " <BarContainer object of 30 artists>)"
      ]
     },
     "execution_count": 435,
     "metadata": {},
     "output_type": "execute_result"
    },
    {
     "data": {
      "image/png": "[encoded data removed]",
      "text/plain": [
       "<Figure size 640x480 with 1 Axes>"
      ]
     },
     "metadata": {},
     "output_type": "display_data"
    }
   ],
   "source": [
    "plt.hist(pd_carData['Year'],bins=30)"
   ]
  },
  {
   "cell_type": "markdown",
   "metadata": {},
   "source": [
    "Kms_Driven"
   ]
  },
  {
   "cell_type": "code",
   "execution_count": 436,
   "metadata": {},
   "outputs": [
    {
     "data": {
      "text/plain": [
       "{'whiskers': [<matplotlib.lines.Line2D at 0x1e0abb022b0>,\n",
       "  <matplotlib.lines.Line2D at 0x1e0abb02580>],\n",
       " 'caps': [<matplotlib.lines.Line2D at 0x1e0abb02850>,\n",
       "  <matplotlib.lines.Line2D at 0x1e0abb02b20>],\n",
       " 'boxes': [<matplotlib.lines.Line2D at 0x1e0abaf2fa0>],\n",
       " 'medians': [<matplotlib.lines.Line2D at 0x1e0abb02d90>],\n",
       " 'fliers': [<matplotlib.lines.Line2D at 0x1e0abb0f0a0>],\n",
       " 'means': []}"
      ]
     },
     "execution_count": 436,
     "metadata": {},
     "output_type": "execute_result"
    },
    {
     "data": {
      "image/png": "[encoded data removed]",
      "text/plain": [
       "<Figure size 640x480 with 1 Axes>"
      ]
     },
     "metadata": {},
     "output_type": "display_data"
    }
   ],
   "source": [
    "plt.boxplot(pd_carData['Kms_Driven'],autorange=True)"
   ]
  },
  {
   "cell_type": "code",
   "execution_count": 437,
   "metadata": {},
   "outputs": [
    {
     "data": {
      "text/plain": [
       "(array([88., 69., 79., 35., 16.,  6.,  1.,  1.,  3.,  0.,  0.,  1.,  1.,\n",
       "         0.,  0.,  0.,  0.,  0.,  0.,  0.,  0.,  0.,  0.,  0.,  0.,  0.,\n",
       "         0.,  0.,  0.,  1.]),\n",
       " array([   500.,  17150.,  33800.,  50450.,  67100.,  83750., 100400.,\n",
       "        117050., 133700., 150350., 167000., 183650., 200300., 216950.,\n",
       "        233600., 250250., 266900., 283550., 300200., 316850., 333500.,\n",
       "        350150., 366800., 383450., 400100., 416750., 433400., 450050.,\n",
       "        466700., 483350., 500000.]),\n",
       " <BarContainer object of 30 artists>)"
      ]
     },
     "execution_count": 437,
     "metadata": {},
     "output_type": "execute_result"
    },
    {
     "data": {
      "image/png": "[encoded data removed]",
      "text/plain": [
       "<Figure size 640x480 with 1 Axes>"
      ]
     },
     "metadata": {},
     "output_type": "display_data"
    }
   ],
   "source": [
    "plt.hist(pd_carData['Kms_Driven'],bins=30)"
   ]
  },
  {
   "cell_type": "markdown",
   "metadata": {},
   "source": [
    "Fuel_Type"
   ]
  },
  {
   "cell_type": "code",
   "execution_count": 438,
   "metadata": {},
   "outputs": [
    {
     "data": {
      "text/plain": [
       "Index(['CNG', 'Diesel', 'Petrol'], dtype='object')"
      ]
     },
     "execution_count": 438,
     "metadata": {},
     "output_type": "execute_result"
    }
   ],
   "source": [
    "var_dummies_FT = pd.get_dummies(pd_carData['Fuel_Type'])\n",
    "pd_carData = pd_carData.drop(columns=['Fuel_Type'])\n",
    "\n",
    "pd_carData[var_dummies_FT.columns]=var_dummies_FT\n",
    "\n",
    "var_dummies_FT.columns"
   ]
  },
  {
   "cell_type": "code",
   "execution_count": 439,
   "metadata": {},
   "outputs": [
    {
     "name": "stdout",
     "output_type": "stream",
     "text": [
      "Cantidad con GNC: 2\n",
      "Cantidad sin GNC: 299\n"
     ]
    },
    {
     "data": {
      "image/png": "[encoded data removed]",
      "text/plain": [
       "<Figure size 640x480 with 1 Axes>"
      ]
     },
     "metadata": {},
     "output_type": "display_data"
    }
   ],
   "source": [
    "var_dummies_FT.groupby(\"CNG\").size().plot(kind='bar')\n",
    "print('Cantidad con GNC:',len(var_dummies_FT[var_dummies_FT['CNG'] == 1]))\n",
    "print('Cantidad sin GNC:',len(var_dummies_FT[var_dummies_FT['CNG'] == 0]))"
   ]
  },
  {
   "cell_type": "code",
   "execution_count": 440,
   "metadata": {},
   "outputs": [
    {
     "name": "stdout",
     "output_type": "stream",
     "text": [
      "Cantidad con Petrol: 239\n",
      "Cantidad sin Petrol: 62\n"
     ]
    },
    {
     "data": {
      "image/png": "[encoded data removed]",
      "text/plain": [
       "<Figure size 640x480 with 1 Axes>"
      ]
     },
     "metadata": {},
     "output_type": "display_data"
    }
   ],
   "source": [
    "var_dummies_FT.groupby(\"Petrol\").size().plot(kind='bar')\n",
    "print('Cantidad con Petrol:',len(var_dummies_FT[var_dummies_FT['Petrol'] == 1]))\n",
    "print('Cantidad sin Petrol:',len(var_dummies_FT[var_dummies_FT['Petrol'] == 0]))"
   ]
  },
  {
   "cell_type": "code",
   "execution_count": 441,
   "metadata": {},
   "outputs": [
    {
     "name": "stdout",
     "output_type": "stream",
     "text": [
      "Cantidad con Diesel: 60\n",
      "Cantidad sin Diesel: 241\n"
     ]
    },
    {
     "data": {
      "image/png": "[encoded data removed]",
      "text/plain": [
       "<Figure size 640x480 with 1 Axes>"
      ]
     },
     "metadata": {},
     "output_type": "display_data"
    }
   ],
   "source": [
    "var_dummies_FT.groupby(\"Diesel\").size().plot(kind='bar')\n",
    "print('Cantidad con Diesel:',len(var_dummies_FT[var_dummies_FT['Diesel'] == 1]))\n",
    "print('Cantidad sin Diesel:',len(var_dummies_FT[var_dummies_FT['Diesel'] == 0]))"
   ]
  },
  {
   "cell_type": "markdown",
   "metadata": {},
   "source": [
    "Seller_Type"
   ]
  },
  {
   "cell_type": "code",
   "execution_count": 442,
   "metadata": {},
   "outputs": [
    {
     "data": {
      "text/plain": [
       "Index(['Dealer', 'Individual'], dtype='object')"
      ]
     },
     "execution_count": 442,
     "metadata": {},
     "output_type": "execute_result"
    }
   ],
   "source": [
    "var_dummies_ST = pd.get_dummies(pd_carData['Seller_Type'])\n",
    "pd_carData = pd_carData.drop(columns=['Seller_Type'])\n",
    "\n",
    "pd_carData[var_dummies_ST.columns]=var_dummies_ST\n",
    "\n",
    "var_dummies_ST.columns"
   ]
  },
  {
   "cell_type": "code",
   "execution_count": 443,
   "metadata": {},
   "outputs": [
    {
     "name": "stdout",
     "output_type": "stream",
     "text": [
      "Cantidad con Dealer: 195\n",
      "Cantidad sin Dealer: 106\n"
     ]
    },
    {
     "data": {
      "image/png": "[encoded data removed]",
      "text/plain": [
       "<Figure size 640x480 with 1 Axes>"
      ]
     },
     "metadata": {},
     "output_type": "display_data"
    }
   ],
   "source": [
    "var_dummies_ST.groupby(\"Dealer\").size().plot(kind='bar')\n",
    "print('Cantidad con Dealer:',len(var_dummies_ST[var_dummies_ST['Dealer'] == 1]))\n",
    "print('Cantidad sin Dealer:',len(var_dummies_ST[var_dummies_ST['Dealer'] == 0]))"
   ]
  },
  {
   "cell_type": "markdown",
   "metadata": {},
   "source": [
    "Transmission"
   ]
  },
  {
   "cell_type": "code",
   "execution_count": 444,
   "metadata": {},
   "outputs": [
    {
     "data": {
      "text/plain": [
       "Index(['Automatic', 'Manual'], dtype='object')"
      ]
     },
     "execution_count": 444,
     "metadata": {},
     "output_type": "execute_result"
    }
   ],
   "source": [
    "var_dummies_T = pd.get_dummies(pd_carData['Transmission'])\n",
    "pd_carData = pd_carData.drop(columns=['Transmission'])\n",
    "\n",
    "pd_carData[var_dummies_T.columns]=var_dummies_T\n",
    "\n",
    "var_dummies_T.columns"
   ]
  },
  {
   "cell_type": "code",
   "execution_count": 445,
   "metadata": {},
   "outputs": [
    {
     "name": "stdout",
     "output_type": "stream",
     "text": [
      "Cantidad con Automatic: 40\n",
      "Cantidad sin Automatic: 261\n"
     ]
    },
    {
     "data": {
      "image/png": "[encoded data removed]",
      "text/plain": [
       "<Figure size 640x480 with 1 Axes>"
      ]
     },
     "metadata": {},
     "output_type": "display_data"
    }
   ],
   "source": [
    "var_dummies_T.groupby(\"Automatic\").size().plot(kind='bar')\n",
    "print('Cantidad con Automatic:',len(var_dummies_T[var_dummies_T['Automatic'] == 1]))\n",
    "print('Cantidad sin Automatic:',len(var_dummies_T[var_dummies_T['Automatic'] == 0]))"
   ]
  },
  {
   "cell_type": "markdown",
   "metadata": {},
   "source": [
    "Owner"
   ]
  },
  {
   "cell_type": "code",
   "execution_count": 446,
   "metadata": {},
   "outputs": [
    {
     "data": {
      "text/plain": [
       "<AxesSubplot:xlabel='Owner'>"
      ]
     },
     "execution_count": 446,
     "metadata": {},
     "output_type": "execute_result"
    },
    {
     "data": {
      "image/png": "[encoded data removed]",
      "text/plain": [
       "<Figure size 640x480 with 1 Axes>"
      ]
     },
     "metadata": {},
     "output_type": "display_data"
    }
   ],
   "source": [
    "pd_carData.groupby(\"Owner\").size().plot(kind='bar')"
   ]
  },
  {
   "cell_type": "markdown",
   "metadata": {},
   "source": [
    "Se elimina valor altamente sesgado o ponderado 0"
   ]
  },
  {
   "cell_type": "markdown",
   "metadata": {},
   "source": [
    "<h3>Truncado de los datos / eliminacion de outlayers</h3>"
   ]
  },
  {
   "cell_type": "code",
   "execution_count": 447,
   "metadata": {},
   "outputs": [],
   "source": [
    "df_truncado = pd_carData[pd_carData['Selling_Price']<=12]\n",
    "df_truncado = df_truncado[df_truncado['Selling_Price']>1]"
   ]
  },
  {
   "cell_type": "code",
   "execution_count": 448,
   "metadata": {},
   "outputs": [
    {
     "data": {
      "text/plain": [
       "{'whiskers': [<matplotlib.lines.Line2D at 0x1e0ace572e0>,\n",
       "  <matplotlib.lines.Line2D at 0x1e0ace575b0>],\n",
       " 'caps': [<matplotlib.lines.Line2D at 0x1e0ace57880>,\n",
       "  <matplotlib.lines.Line2D at 0x1e0ace57b50>],\n",
       " 'boxes': [<matplotlib.lines.Line2D at 0x1e0ace57070>],\n",
       " 'medians': [<matplotlib.lines.Line2D at 0x1e0ace57e20>],\n",
       " 'fliers': [<matplotlib.lines.Line2D at 0x1e0ace63130>],\n",
       " 'means': []}"
      ]
     },
     "execution_count": 448,
     "metadata": {},
     "output_type": "execute_result"
    },
    {
     "data": {
      "image/png": "[encoded data removed]",
      "text/plain": [
       "<Figure size 640x480 with 1 Axes>"
      ]
     },
     "metadata": {},
     "output_type": "display_data"
    }
   ],
   "source": [
    "plt.boxplot(df_truncado['Selling_Price'],autorange=True)"
   ]
  },
  {
   "cell_type": "code",
   "execution_count": 449,
   "metadata": {},
   "outputs": [
    {
     "data": {
      "text/plain": [
       "(array([30., 31., 27., 39., 25., 17., 13., 10.,  4.,  7.]),\n",
       " array([ 1.05,  2.12,  3.19,  4.26,  5.33,  6.4 ,  7.47,  8.54,  9.61,\n",
       "        10.68, 11.75]),\n",
       " <BarContainer object of 10 artists>)"
      ]
     },
     "execution_count": 449,
     "metadata": {},
     "output_type": "execute_result"
    },
    {
     "data": {
      "image/png": "[encoded data removed]",
      "text/plain": [
       "<Figure size 640x480 with 1 Axes>"
      ]
     },
     "metadata": {},
     "output_type": "display_data"
    }
   ],
   "source": [
    "plt.hist(df_truncado['Selling_Price'],bins=10)"
   ]
  },
  {
   "cell_type": "markdown",
   "metadata": {},
   "source": [
    "<h2>Eliminacion criterio propio</h2>\n",
    "<p>solo Owner</p>"
   ]
  },
  {
   "cell_type": "code",
   "execution_count": 450,
   "metadata": {},
   "outputs": [
    {
     "data": {
      "text/html": [
       "<div>\n",
       "<style scoped>\n",
       "    .dataframe tbody tr th:only-of-type {\n",
       "        vertical-align: middle;\n",
       "    }\n",
       "\n",
       "    .dataframe tbody tr th {\n",
       "        vertical-align: top;\n",
       "    }\n",
       "\n",
       "    .dataframe thead th {\n",
       "        text-align: right;\n",
       "    }\n",
       "</style>\n",
       "<table border=\"1\" class=\"dataframe\">\n",
       "  <thead>\n",
       "    <tr style=\"text-align: right;\">\n",
       "      <th></th>\n",
       "      <th>count</th>\n",
       "      <th>mean</th>\n",
       "      <th>std</th>\n",
       "      <th>min</th>\n",
       "      <th>25%</th>\n",
       "      <th>50%</th>\n",
       "      <th>75%</th>\n",
       "      <th>max</th>\n",
       "    </tr>\n",
       "  </thead>\n",
       "  <tbody>\n",
       "    <tr>\n",
       "      <th>Year</th>\n",
       "      <td>203.0</td>\n",
       "      <td>2013.699507</td>\n",
       "      <td>2.772451</td>\n",
       "      <td>2003.00</td>\n",
       "      <td>2012.00</td>\n",
       "      <td>2014.00</td>\n",
       "      <td>2016.000</td>\n",
       "      <td>2018.00</td>\n",
       "    </tr>\n",
       "    <tr>\n",
       "      <th>Selling_Price</th>\n",
       "      <td>203.0</td>\n",
       "      <td>4.887291</td>\n",
       "      <td>2.587726</td>\n",
       "      <td>1.05</td>\n",
       "      <td>2.95</td>\n",
       "      <td>4.75</td>\n",
       "      <td>6.325</td>\n",
       "      <td>11.75</td>\n",
       "    </tr>\n",
       "    <tr>\n",
       "      <th>Present_Price</th>\n",
       "      <td>203.0</td>\n",
       "      <td>8.219015</td>\n",
       "      <td>4.517244</td>\n",
       "      <td>1.17</td>\n",
       "      <td>5.70</td>\n",
       "      <td>7.60</td>\n",
       "      <td>9.975</td>\n",
       "      <td>23.73</td>\n",
       "    </tr>\n",
       "    <tr>\n",
       "      <th>Kms_Driven</th>\n",
       "      <td>203.0</td>\n",
       "      <td>37397.709360</td>\n",
       "      <td>26009.339793</td>\n",
       "      <td>1200.00</td>\n",
       "      <td>17750.00</td>\n",
       "      <td>36000.00</td>\n",
       "      <td>50012.000</td>\n",
       "      <td>197176.00</td>\n",
       "    </tr>\n",
       "    <tr>\n",
       "      <th>CNG</th>\n",
       "      <td>203.0</td>\n",
       "      <td>0.009852</td>\n",
       "      <td>0.099012</td>\n",
       "      <td>0.00</td>\n",
       "      <td>0.00</td>\n",
       "      <td>0.00</td>\n",
       "      <td>0.000</td>\n",
       "      <td>1.00</td>\n",
       "    </tr>\n",
       "    <tr>\n",
       "      <th>Diesel</th>\n",
       "      <td>203.0</td>\n",
       "      <td>0.216749</td>\n",
       "      <td>0.413049</td>\n",
       "      <td>0.00</td>\n",
       "      <td>0.00</td>\n",
       "      <td>0.00</td>\n",
       "      <td>0.000</td>\n",
       "      <td>1.00</td>\n",
       "    </tr>\n",
       "    <tr>\n",
       "      <th>Petrol</th>\n",
       "      <td>203.0</td>\n",
       "      <td>0.773399</td>\n",
       "      <td>0.419667</td>\n",
       "      <td>0.00</td>\n",
       "      <td>1.00</td>\n",
       "      <td>1.00</td>\n",
       "      <td>1.000</td>\n",
       "      <td>1.00</td>\n",
       "    </tr>\n",
       "    <tr>\n",
       "      <th>Dealer</th>\n",
       "      <td>203.0</td>\n",
       "      <td>0.871921</td>\n",
       "      <td>0.335004</td>\n",
       "      <td>0.00</td>\n",
       "      <td>1.00</td>\n",
       "      <td>1.00</td>\n",
       "      <td>1.000</td>\n",
       "      <td>1.00</td>\n",
       "    </tr>\n",
       "    <tr>\n",
       "      <th>Individual</th>\n",
       "      <td>203.0</td>\n",
       "      <td>0.128079</td>\n",
       "      <td>0.335004</td>\n",
       "      <td>0.00</td>\n",
       "      <td>0.00</td>\n",
       "      <td>0.00</td>\n",
       "      <td>0.000</td>\n",
       "      <td>1.00</td>\n",
       "    </tr>\n",
       "    <tr>\n",
       "      <th>Automatic</th>\n",
       "      <td>203.0</td>\n",
       "      <td>0.088670</td>\n",
       "      <td>0.284970</td>\n",
       "      <td>0.00</td>\n",
       "      <td>0.00</td>\n",
       "      <td>0.00</td>\n",
       "      <td>0.000</td>\n",
       "      <td>1.00</td>\n",
       "    </tr>\n",
       "    <tr>\n",
       "      <th>Manual</th>\n",
       "      <td>203.0</td>\n",
       "      <td>0.911330</td>\n",
       "      <td>0.284970</td>\n",
       "      <td>0.00</td>\n",
       "      <td>1.00</td>\n",
       "      <td>1.00</td>\n",
       "      <td>1.000</td>\n",
       "      <td>1.00</td>\n",
       "    </tr>\n",
       "  </tbody>\n",
       "</table>\n",
       "</div>"
      ],
      "text/plain": [
       "               count          mean           std      min       25%       50%  \\\n",
       "Year           203.0   2013.699507      2.772451  2003.00   2012.00   2014.00   \n",
       "Selling_Price  203.0      4.887291      2.587726     1.05      2.95      4.75   \n",
       "Present_Price  203.0      8.219015      4.517244     1.17      5.70      7.60   \n",
       "Kms_Driven     203.0  37397.709360  26009.339793  1200.00  17750.00  36000.00   \n",
       "CNG            203.0      0.009852      0.099012     0.00      0.00      0.00   \n",
       "Diesel         203.0      0.216749      0.413049     0.00      0.00      0.00   \n",
       "Petrol         203.0      0.773399      0.419667     0.00      1.00      1.00   \n",
       "Dealer         203.0      0.871921      0.335004     0.00      1.00      1.00   \n",
       "Individual     203.0      0.128079      0.335004     0.00      0.00      0.00   \n",
       "Automatic      203.0      0.088670      0.284970     0.00      0.00      0.00   \n",
       "Manual         203.0      0.911330      0.284970     0.00      1.00      1.00   \n",
       "\n",
       "                     75%        max  \n",
       "Year            2016.000    2018.00  \n",
       "Selling_Price      6.325      11.75  \n",
       "Present_Price      9.975      23.73  \n",
       "Kms_Driven     50012.000  197176.00  \n",
       "CNG                0.000       1.00  \n",
       "Diesel             0.000       1.00  \n",
       "Petrol             1.000       1.00  \n",
       "Dealer             1.000       1.00  \n",
       "Individual         0.000       1.00  \n",
       "Automatic          0.000       1.00  \n",
       "Manual             1.000       1.00  "
      ]
     },
     "execution_count": 450,
     "metadata": {},
     "output_type": "execute_result"
    }
   ],
   "source": [
    "df_truncado = df_truncado.drop(columns=['Owner','Car_Name'])\n",
    "df_truncado.describe().T\n"
   ]
  },
  {
   "cell_type": "markdown",
   "metadata": {},
   "source": []
  },
  {
   "cell_type": "markdown",
   "metadata": {},
   "source": [
    "<h1>Feature Selection</h1>"
   ]
  },
  {
   "cell_type": "code",
   "execution_count": 451,
   "metadata": {},
   "outputs": [
    {
     "data": {
      "text/html": [
       "<div>\n",
       "<style scoped>\n",
       "    .dataframe tbody tr th:only-of-type {\n",
       "        vertical-align: middle;\n",
       "    }\n",
       "\n",
       "    .dataframe tbody tr th {\n",
       "        vertical-align: top;\n",
       "    }\n",
       "\n",
       "    .dataframe thead th {\n",
       "        text-align: right;\n",
       "    }\n",
       "</style>\n",
       "<table border=\"1\" class=\"dataframe\">\n",
       "  <thead>\n",
       "    <tr style=\"text-align: right;\">\n",
       "      <th></th>\n",
       "      <th>Year</th>\n",
       "      <th>Present_Price</th>\n",
       "      <th>Kms_Driven</th>\n",
       "      <th>CNG</th>\n",
       "      <th>Diesel</th>\n",
       "      <th>Petrol</th>\n",
       "      <th>Dealer</th>\n",
       "      <th>Individual</th>\n",
       "      <th>Automatic</th>\n",
       "      <th>Manual</th>\n",
       "    </tr>\n",
       "  </thead>\n",
       "  <tbody>\n",
       "    <tr>\n",
       "      <th>0</th>\n",
       "      <td>False</td>\n",
       "      <td>False</td>\n",
       "      <td>False</td>\n",
       "      <td>False</td>\n",
       "      <td>False</td>\n",
       "      <td>False</td>\n",
       "      <td>False</td>\n",
       "      <td>False</td>\n",
       "      <td>False</td>\n",
       "      <td>False</td>\n",
       "    </tr>\n",
       "    <tr>\n",
       "      <th>1</th>\n",
       "      <td>False</td>\n",
       "      <td>False</td>\n",
       "      <td>False</td>\n",
       "      <td>False</td>\n",
       "      <td>False</td>\n",
       "      <td>False</td>\n",
       "      <td>False</td>\n",
       "      <td>False</td>\n",
       "      <td>False</td>\n",
       "      <td>False</td>\n",
       "    </tr>\n",
       "    <tr>\n",
       "      <th>2</th>\n",
       "      <td>False</td>\n",
       "      <td>False</td>\n",
       "      <td>False</td>\n",
       "      <td>False</td>\n",
       "      <td>False</td>\n",
       "      <td>False</td>\n",
       "      <td>False</td>\n",
       "      <td>False</td>\n",
       "      <td>False</td>\n",
       "      <td>False</td>\n",
       "    </tr>\n",
       "    <tr>\n",
       "      <th>3</th>\n",
       "      <td>False</td>\n",
       "      <td>False</td>\n",
       "      <td>False</td>\n",
       "      <td>False</td>\n",
       "      <td>False</td>\n",
       "      <td>False</td>\n",
       "      <td>False</td>\n",
       "      <td>False</td>\n",
       "      <td>False</td>\n",
       "      <td>False</td>\n",
       "    </tr>\n",
       "    <tr>\n",
       "      <th>4</th>\n",
       "      <td>False</td>\n",
       "      <td>False</td>\n",
       "      <td>False</td>\n",
       "      <td>False</td>\n",
       "      <td>False</td>\n",
       "      <td>False</td>\n",
       "      <td>False</td>\n",
       "      <td>False</td>\n",
       "      <td>False</td>\n",
       "      <td>False</td>\n",
       "    </tr>\n",
       "    <tr>\n",
       "      <th>...</th>\n",
       "      <td>...</td>\n",
       "      <td>...</td>\n",
       "      <td>...</td>\n",
       "      <td>...</td>\n",
       "      <td>...</td>\n",
       "      <td>...</td>\n",
       "      <td>...</td>\n",
       "      <td>...</td>\n",
       "      <td>...</td>\n",
       "      <td>...</td>\n",
       "    </tr>\n",
       "    <tr>\n",
       "      <th>296</th>\n",
       "      <td>False</td>\n",
       "      <td>False</td>\n",
       "      <td>False</td>\n",
       "      <td>False</td>\n",
       "      <td>False</td>\n",
       "      <td>False</td>\n",
       "      <td>False</td>\n",
       "      <td>False</td>\n",
       "      <td>False</td>\n",
       "      <td>False</td>\n",
       "    </tr>\n",
       "    <tr>\n",
       "      <th>297</th>\n",
       "      <td>False</td>\n",
       "      <td>False</td>\n",
       "      <td>False</td>\n",
       "      <td>False</td>\n",
       "      <td>False</td>\n",
       "      <td>False</td>\n",
       "      <td>False</td>\n",
       "      <td>False</td>\n",
       "      <td>False</td>\n",
       "      <td>False</td>\n",
       "    </tr>\n",
       "    <tr>\n",
       "      <th>298</th>\n",
       "      <td>False</td>\n",
       "      <td>False</td>\n",
       "      <td>False</td>\n",
       "      <td>False</td>\n",
       "      <td>False</td>\n",
       "      <td>False</td>\n",
       "      <td>False</td>\n",
       "      <td>False</td>\n",
       "      <td>False</td>\n",
       "      <td>False</td>\n",
       "    </tr>\n",
       "    <tr>\n",
       "      <th>299</th>\n",
       "      <td>False</td>\n",
       "      <td>False</td>\n",
       "      <td>False</td>\n",
       "      <td>False</td>\n",
       "      <td>False</td>\n",
       "      <td>False</td>\n",
       "      <td>False</td>\n",
       "      <td>False</td>\n",
       "      <td>False</td>\n",
       "      <td>False</td>\n",
       "    </tr>\n",
       "    <tr>\n",
       "      <th>300</th>\n",
       "      <td>False</td>\n",
       "      <td>False</td>\n",
       "      <td>False</td>\n",
       "      <td>False</td>\n",
       "      <td>False</td>\n",
       "      <td>False</td>\n",
       "      <td>False</td>\n",
       "      <td>False</td>\n",
       "      <td>False</td>\n",
       "      <td>False</td>\n",
       "    </tr>\n",
       "  </tbody>\n",
       "</table>\n",
       "<p>203 rows × 10 columns</p>\n",
       "</div>"
      ],
      "text/plain": [
       "      Year  Present_Price  Kms_Driven    CNG  Diesel  Petrol  Dealer  \\\n",
       "0    False          False       False  False   False   False   False   \n",
       "1    False          False       False  False   False   False   False   \n",
       "2    False          False       False  False   False   False   False   \n",
       "3    False          False       False  False   False   False   False   \n",
       "4    False          False       False  False   False   False   False   \n",
       "..     ...            ...         ...    ...     ...     ...     ...   \n",
       "296  False          False       False  False   False   False   False   \n",
       "297  False          False       False  False   False   False   False   \n",
       "298  False          False       False  False   False   False   False   \n",
       "299  False          False       False  False   False   False   False   \n",
       "300  False          False       False  False   False   False   False   \n",
       "\n",
       "     Individual  Automatic  Manual  \n",
       "0         False      False   False  \n",
       "1         False      False   False  \n",
       "2         False      False   False  \n",
       "3         False      False   False  \n",
       "4         False      False   False  \n",
       "..          ...        ...     ...  \n",
       "296       False      False   False  \n",
       "297       False      False   False  \n",
       "298       False      False   False  \n",
       "299       False      False   False  \n",
       "300       False      False   False  \n",
       "\n",
       "[203 rows x 10 columns]"
      ]
     },
     "execution_count": 451,
     "metadata": {},
     "output_type": "execute_result"
    }
   ],
   "source": [
    "y = df_truncado['Selling_Price']\n",
    "x = pd.DataFrame(df_truncado.drop(columns=['Selling_Price'],axis=1))\n",
    "x.isnull()"
   ]
  },
  {
   "cell_type": "markdown",
   "metadata": {},
   "source": [
    "<h3>Escalado/Normalizacion con mixmax, Feature Scaling</h3>"
   ]
  },
  {
   "cell_type": "code",
   "execution_count": 452,
   "metadata": {},
   "outputs": [],
   "source": [
    "# from sklearn.preprocessing import MinMaxScaler\n",
    "# scaler = MinMaxScaler()\n",
    "# x_MinMax = scaler.fit_transform(x)"
   ]
  },
  {
   "cell_type": "code",
   "execution_count": 453,
   "metadata": {},
   "outputs": [],
   "source": [
    "# x_scaled = pd.DataFrame(x_MinMax,columns=x.columns)\n",
    "# x_scaled.describe().T"
   ]
  },
  {
   "cell_type": "code",
   "execution_count": 454,
   "metadata": {},
   "outputs": [],
   "source": [
    "from sklearn.preprocessing import MinMaxScaler\n",
    "scaler = MinMaxScaler()\n",
    "x_MinMax = scaler.fit_transform(x)"
   ]
  },
  {
   "cell_type": "markdown",
   "metadata": {},
   "source": [
    "<h3>Feature selection </h3>\n",
    "<b>Metodos de Contraccion</b>\n",
    "<p> - Regresion de Lasso</p>"
   ]
  },
  {
   "cell_type": "code",
   "execution_count": 455,
   "metadata": {},
   "outputs": [
    {
     "name": "stdout",
     "output_type": "stream",
     "text": [
      "[ 3.87364329e+00  5.36480330e+00 -0.00000000e+00 -0.00000000e+00\n",
      "  8.07400783e-01 -0.00000000e+00  1.59440082e+00 -2.97757859e-15\n",
      "  0.00000000e+00 -0.00000000e+00]\n"
     ]
    }
   ],
   "source": [
    "from sklearn.model_selection import train_test_split\n",
    "from sklearn import linear_model\n",
    "\n",
    "X_train_lasso, X_test_lasso, y_train_lasso, y_test_lasso = train_test_split(x_MinMax, y, test_size=0.3, random_state=42)\n",
    "\n",
    "clf = linear_model.Lasso(alpha=0.1)\n",
    "clf.fit(x_MinMax,y)\n",
    "\n",
    "print(clf.coef_)"
   ]
  },
  {
   "cell_type": "code",
   "execution_count": 456,
   "metadata": {},
   "outputs": [
    {
     "ename": "NameError",
     "evalue": "name 'X_train' is not defined",
     "output_type": "error",
     "traceback": [
      "\u001b[1;31m---------------------------------------------------------------------------\u001b[0m",
      "\u001b[1;31mNameError\u001b[0m                                 Traceback (most recent call last)",
      "\u001b[1;32m~\\AppData\\Local\\Temp\\ipykernel_9596\\378105560.py\u001b[0m in \u001b[0;36m<module>\u001b[1;34m\u001b[0m\n\u001b[1;32m----> 1\u001b[1;33m \u001b[0mprint\u001b[0m\u001b[1;33m(\u001b[0m\u001b[1;34m\"x train: \"\u001b[0m\u001b[1;33m,\u001b[0m\u001b[0mX_train\u001b[0m\u001b[1;33m.\u001b[0m\u001b[0mshape\u001b[0m\u001b[1;33m)\u001b[0m\u001b[1;33m\u001b[0m\u001b[1;33m\u001b[0m\u001b[0m\n\u001b[0m\u001b[0;32m      2\u001b[0m \u001b[0mprint\u001b[0m\u001b[1;33m(\u001b[0m\u001b[1;34m\"x test: \"\u001b[0m\u001b[1;33m,\u001b[0m\u001b[0mX_test\u001b[0m\u001b[1;33m.\u001b[0m\u001b[0mshape\u001b[0m\u001b[1;33m)\u001b[0m\u001b[1;33m\u001b[0m\u001b[1;33m\u001b[0m\u001b[0m\n\u001b[0;32m      3\u001b[0m \u001b[0mprint\u001b[0m\u001b[1;33m(\u001b[0m\u001b[1;34m\"y train: \"\u001b[0m\u001b[1;33m,\u001b[0m\u001b[0my_train\u001b[0m\u001b[1;33m.\u001b[0m\u001b[0mshape\u001b[0m\u001b[1;33m)\u001b[0m\u001b[1;33m\u001b[0m\u001b[1;33m\u001b[0m\u001b[0m\n\u001b[0;32m      4\u001b[0m \u001b[0mprint\u001b[0m\u001b[1;33m(\u001b[0m\u001b[1;34m\"y test: \"\u001b[0m\u001b[1;33m,\u001b[0m\u001b[0my_test\u001b[0m\u001b[1;33m.\u001b[0m\u001b[0mshape\u001b[0m\u001b[1;33m)\u001b[0m\u001b[1;33m\u001b[0m\u001b[1;33m\u001b[0m\u001b[0m\n",
      "\u001b[1;31mNameError\u001b[0m: name 'X_train' is not defined"
     ]
    }
   ],
   "source": [
    "print(\"x train: \",X_train.shape)\n",
    "print(\"x test: \",X_test.shape)\n",
    "print(\"y train: \",y_train.shape)\n",
    "print(\"y test: \",y_test.shape)"
   ]
  },
  {
   "cell_type": "code",
   "execution_count": null,
   "metadata": {},
   "outputs": [
    {
     "name": "stdout",
     "output_type": "stream",
     "text": [
      "           Specs    Lasso Coef\n",
      "1  Present_Price  5.364803e+00\n",
      "0           Year  3.873643e+00\n",
      "6         Dealer  1.594401e+00\n",
      "4         Diesel  8.074008e-01\n",
      "7     Individual  2.977579e-15\n",
      "2     Kms_Driven  0.000000e+00\n",
      "3            CNG  0.000000e+00\n",
      "5         Petrol  0.000000e+00\n",
      "8      Automatic  0.000000e+00\n",
      "9         Manual  0.000000e+00\n"
     ]
    }
   ],
   "source": [
    "df_coef = pd.DataFrame(clf.coef_)\n",
    "df_columns = pd.DataFrame(x_scaled.columns)\n",
    "df_lasso = pd.concat([df_columns,df_coef],axis=1)\n",
    "df_lasso.columns = ['Specs','Lasso Coef']\n",
    "df_lasso['Lasso Coef'] = np.abs(df_lasso['Lasso Coef'])\n",
    "print(df_lasso.sort_values(by='Lasso Coef',axis=0,ascending=False))\n",
    "df_lasso = df_lasso.sort_values(by='Lasso Coef',axis=0,ascending=False)"
   ]
  },
  {
   "cell_type": "code",
   "execution_count": null,
   "metadata": {},
   "outputs": [
    {
     "data": {
      "text/html": [
       "<div>\n",
       "<style scoped>\n",
       "    .dataframe tbody tr th:only-of-type {\n",
       "        vertical-align: middle;\n",
       "    }\n",
       "\n",
       "    .dataframe tbody tr th {\n",
       "        vertical-align: top;\n",
       "    }\n",
       "\n",
       "    .dataframe thead th {\n",
       "        text-align: right;\n",
       "    }\n",
       "</style>\n",
       "<table border=\"1\" class=\"dataframe\">\n",
       "  <thead>\n",
       "    <tr style=\"text-align: right;\">\n",
       "      <th></th>\n",
       "      <th>count</th>\n",
       "      <th>mean</th>\n",
       "      <th>std</th>\n",
       "      <th>min</th>\n",
       "      <th>25%</th>\n",
       "      <th>50%</th>\n",
       "      <th>75%</th>\n",
       "      <th>max</th>\n",
       "    </tr>\n",
       "  </thead>\n",
       "  <tbody>\n",
       "    <tr>\n",
       "      <th>Year</th>\n",
       "      <td>203.0</td>\n",
       "      <td>0.713300</td>\n",
       "      <td>0.184830</td>\n",
       "      <td>0.0</td>\n",
       "      <td>0.600000</td>\n",
       "      <td>0.733333</td>\n",
       "      <td>0.866667</td>\n",
       "      <td>1.0</td>\n",
       "    </tr>\n",
       "    <tr>\n",
       "      <th>Present_Price</th>\n",
       "      <td>203.0</td>\n",
       "      <td>0.312456</td>\n",
       "      <td>0.200232</td>\n",
       "      <td>0.0</td>\n",
       "      <td>0.200798</td>\n",
       "      <td>0.285018</td>\n",
       "      <td>0.390293</td>\n",
       "      <td>1.0</td>\n",
       "    </tr>\n",
       "    <tr>\n",
       "      <th>Kms_Driven</th>\n",
       "      <td>203.0</td>\n",
       "      <td>0.184705</td>\n",
       "      <td>0.132717</td>\n",
       "      <td>0.0</td>\n",
       "      <td>0.084449</td>\n",
       "      <td>0.177573</td>\n",
       "      <td>0.249071</td>\n",
       "      <td>1.0</td>\n",
       "    </tr>\n",
       "    <tr>\n",
       "      <th>CNG</th>\n",
       "      <td>203.0</td>\n",
       "      <td>0.009852</td>\n",
       "      <td>0.099012</td>\n",
       "      <td>0.0</td>\n",
       "      <td>0.000000</td>\n",
       "      <td>0.000000</td>\n",
       "      <td>0.000000</td>\n",
       "      <td>1.0</td>\n",
       "    </tr>\n",
       "    <tr>\n",
       "      <th>Diesel</th>\n",
       "      <td>203.0</td>\n",
       "      <td>0.216749</td>\n",
       "      <td>0.413049</td>\n",
       "      <td>0.0</td>\n",
       "      <td>0.000000</td>\n",
       "      <td>0.000000</td>\n",
       "      <td>0.000000</td>\n",
       "      <td>1.0</td>\n",
       "    </tr>\n",
       "    <tr>\n",
       "      <th>Petrol</th>\n",
       "      <td>203.0</td>\n",
       "      <td>0.773399</td>\n",
       "      <td>0.419667</td>\n",
       "      <td>0.0</td>\n",
       "      <td>1.000000</td>\n",
       "      <td>1.000000</td>\n",
       "      <td>1.000000</td>\n",
       "      <td>1.0</td>\n",
       "    </tr>\n",
       "    <tr>\n",
       "      <th>Dealer</th>\n",
       "      <td>203.0</td>\n",
       "      <td>0.871921</td>\n",
       "      <td>0.335004</td>\n",
       "      <td>0.0</td>\n",
       "      <td>1.000000</td>\n",
       "      <td>1.000000</td>\n",
       "      <td>1.000000</td>\n",
       "      <td>1.0</td>\n",
       "    </tr>\n",
       "    <tr>\n",
       "      <th>Individual</th>\n",
       "      <td>203.0</td>\n",
       "      <td>0.128079</td>\n",
       "      <td>0.335004</td>\n",
       "      <td>0.0</td>\n",
       "      <td>0.000000</td>\n",
       "      <td>0.000000</td>\n",
       "      <td>0.000000</td>\n",
       "      <td>1.0</td>\n",
       "    </tr>\n",
       "    <tr>\n",
       "      <th>Automatic</th>\n",
       "      <td>203.0</td>\n",
       "      <td>0.088670</td>\n",
       "      <td>0.284970</td>\n",
       "      <td>0.0</td>\n",
       "      <td>0.000000</td>\n",
       "      <td>0.000000</td>\n",
       "      <td>0.000000</td>\n",
       "      <td>1.0</td>\n",
       "    </tr>\n",
       "    <tr>\n",
       "      <th>Manual</th>\n",
       "      <td>203.0</td>\n",
       "      <td>0.911330</td>\n",
       "      <td>0.284970</td>\n",
       "      <td>0.0</td>\n",
       "      <td>1.000000</td>\n",
       "      <td>1.000000</td>\n",
       "      <td>1.000000</td>\n",
       "      <td>1.0</td>\n",
       "    </tr>\n",
       "  </tbody>\n",
       "</table>\n",
       "</div>"
      ],
      "text/plain": [
       "               count      mean       std  min       25%       50%       75%  \\\n",
       "Year           203.0  0.713300  0.184830  0.0  0.600000  0.733333  0.866667   \n",
       "Present_Price  203.0  0.312456  0.200232  0.0  0.200798  0.285018  0.390293   \n",
       "Kms_Driven     203.0  0.184705  0.132717  0.0  0.084449  0.177573  0.249071   \n",
       "CNG            203.0  0.009852  0.099012  0.0  0.000000  0.000000  0.000000   \n",
       "Diesel         203.0  0.216749  0.413049  0.0  0.000000  0.000000  0.000000   \n",
       "Petrol         203.0  0.773399  0.419667  0.0  1.000000  1.000000  1.000000   \n",
       "Dealer         203.0  0.871921  0.335004  0.0  1.000000  1.000000  1.000000   \n",
       "Individual     203.0  0.128079  0.335004  0.0  0.000000  0.000000  0.000000   \n",
       "Automatic      203.0  0.088670  0.284970  0.0  0.000000  0.000000  0.000000   \n",
       "Manual         203.0  0.911330  0.284970  0.0  1.000000  1.000000  1.000000   \n",
       "\n",
       "               max  \n",
       "Year           1.0  \n",
       "Present_Price  1.0  \n",
       "Kms_Driven     1.0  \n",
       "CNG            1.0  \n",
       "Diesel         1.0  \n",
       "Petrol         1.0  \n",
       "Dealer         1.0  \n",
       "Individual     1.0  \n",
       "Automatic      1.0  \n",
       "Manual         1.0  "
      ]
     },
     "execution_count": 416,
     "metadata": {},
     "output_type": "execute_result"
    }
   ],
   "source": [
    "x_filtrado =x_scaled\n",
    "\n",
    "x_filtrado.describe().T"
   ]
  },
  {
   "cell_type": "code",
   "execution_count": null,
   "metadata": {},
   "outputs": [],
   "source": [
    "import statsmodels.api as sm\n",
    "import seaborn as sns\n",
    "import  pylab\n",
    "\n",
    "X_train_def, X_test_def, y_train_def, y_test_def = train_test_split(x_filtrado, y, test_size=0.3, random_state=42)\n",
    "\n",
    "\n",
    "model = sm.OLS(y_train_def.values.reshape(-1,1), sm.add_constant (X_train_def))\n",
    "results=model.fit()"
   ]
  },
  {
   "cell_type": "code",
   "execution_count": null,
   "metadata": {},
   "outputs": [
    {
     "name": "stdout",
     "output_type": "stream",
     "text": [
      "                            OLS Regression Results                            \n",
      "==============================================================================\n",
      "Dep. Variable:                      y   R-squared:                       0.820\n",
      "Model:                            OLS   Adj. R-squared:                  0.811\n",
      "Method:                 Least Squares   F-statistic:                     87.46\n",
      "Date:                Wed, 02 Nov 2022   Prob (F-statistic):           7.83e-47\n",
      "Time:                        01:17:16   Log-Likelihood:                -214.04\n",
      "No. Observations:                 142   AIC:                             444.1\n",
      "Df Residuals:                     134   BIC:                             467.7\n",
      "Df Model:                           7                                         \n",
      "Covariance Type:            nonrobust                                         \n",
      "=================================================================================\n",
      "                    coef    std err          t      P>|t|      [0.025      0.975]\n",
      "---------------------------------------------------------------------------------\n",
      "const            -0.9676      0.371     -2.611      0.010      -1.701      -0.235\n",
      "Year              6.1769      0.788      7.841      0.000       4.619       7.735\n",
      "Present_Price     9.7238      0.592     16.428      0.000       8.553      10.894\n",
      "Kms_Driven       -4.6884      1.279     -3.667      0.000      -7.217      -2.159\n",
      "CNG              -0.9331      0.810     -1.152      0.251      -2.535       0.669\n",
      "Diesel            0.6462      0.403      1.605      0.111      -0.150       1.442\n",
      "Petrol           -0.6807      0.352     -1.933      0.055      -1.377       0.016\n",
      "Dealer            0.3897      0.240      1.624      0.107      -0.085       0.864\n",
      "Individual       -1.3573      0.247     -5.503      0.000      -1.845      -0.869\n",
      "Automatic        -0.4699      0.310     -1.518      0.131      -1.082       0.142\n",
      "Manual           -0.4977      0.228     -2.182      0.031      -0.949      -0.046\n",
      "==============================================================================\n",
      "Omnibus:                        7.062   Durbin-Watson:                   2.093\n",
      "Prob(Omnibus):                  0.029   Jarque-Bera (JB):               11.046\n",
      "Skew:                           0.178   Prob(JB):                      0.00399\n",
      "Kurtosis:                       4.319   Cond. No.                     6.39e+16\n",
      "==============================================================================\n",
      "\n",
      "Notes:\n",
      "[1] Standard Errors assume that the covariance matrix of the errors is correctly specified.\n",
      "[2] The smallest eigenvalue is 1.39e-31. This might indicate that there are\n",
      "strong multicollinearity problems or that the design matrix is singular.\n"
     ]
    }
   ],
   "source": [
    "print(results.summary())"
   ]
  },
  {
   "cell_type": "code",
   "execution_count": null,
   "metadata": {},
   "outputs": [],
   "source": [
    "import sklearn.metrics as metrics\n",
    "from sklearn.ensemble import RandomForestRegressor"
   ]
  },
  {
   "cell_type": "code",
   "execution_count": null,
   "metadata": {},
   "outputs": [
    {
     "ename": "NameError",
     "evalue": "name 'X_train' is not defined",
     "output_type": "error",
     "traceback": [
      "\u001b[1;31m---------------------------------------------------------------------------\u001b[0m",
      "\u001b[1;31mNameError\u001b[0m                                 Traceback (most recent call last)",
      "\u001b[1;32m~\\AppData\\Local\\Temp\\ipykernel_9596\\2389230536.py\u001b[0m in \u001b[0;36m<module>\u001b[1;34m\u001b[0m\n\u001b[1;32m----> 1\u001b[1;33m \u001b[0mregressor\u001b[0m \u001b[1;33m=\u001b[0m \u001b[0mRandomForestRegressor\u001b[0m\u001b[1;33m(\u001b[0m \u001b[0mrandom_state\u001b[0m\u001b[1;33m=\u001b[0m\u001b[1;36m42\u001b[0m\u001b[1;33m)\u001b[0m\u001b[1;33m.\u001b[0m\u001b[0mfit\u001b[0m\u001b[1;33m(\u001b[0m\u001b[0mX_train\u001b[0m\u001b[1;33m,\u001b[0m \u001b[0my_train\u001b[0m\u001b[1;33m)\u001b[0m\u001b[1;33m\u001b[0m\u001b[1;33m\u001b[0m\u001b[0m\n\u001b[0m\u001b[0;32m      2\u001b[0m \u001b[0mprint\u001b[0m\u001b[1;33m(\u001b[0m\u001b[0mregressor\u001b[0m\u001b[1;33m.\u001b[0m\u001b[0mscore\u001b[0m\u001b[1;33m(\u001b[0m\u001b[0mX_train\u001b[0m\u001b[1;33m,\u001b[0m \u001b[0my_train\u001b[0m\u001b[1;33m)\u001b[0m\u001b[1;33m)\u001b[0m\u001b[1;33m\u001b[0m\u001b[1;33m\u001b[0m\u001b[0m\n\u001b[0;32m      3\u001b[0m \u001b[0mprint\u001b[0m\u001b[1;33m(\u001b[0m\u001b[0mregressor\u001b[0m\u001b[1;33m.\u001b[0m\u001b[0mscore\u001b[0m\u001b[1;33m(\u001b[0m\u001b[0mX_test\u001b[0m\u001b[1;33m,\u001b[0m \u001b[0my_test\u001b[0m\u001b[1;33m)\u001b[0m\u001b[1;33m)\u001b[0m\u001b[1;33m\u001b[0m\u001b[1;33m\u001b[0m\u001b[0m\n",
      "\u001b[1;31mNameError\u001b[0m: name 'X_train' is not defined"
     ]
    }
   ],
   "source": [
    "regressor = RandomForestRegressor( random_state=42).fit(X_train, y_train)\n",
    "print(regressor.score(X_train, y_train))\n",
    "print(regressor.score(X_test, y_test))"
   ]
  },
  {
   "cell_type": "code",
   "execution_count": null,
   "metadata": {},
   "outputs": [],
   "source": [
    "y_pred=regressor.predict(X_test)\n",
    "train_pred=regressor.predict(X_train)\n",
    "\n",
    "from sklearn.metrics import mean_absolute_error\n",
    "\n",
    "print('R-Squared:',metrics.r2_score(y_test, y_pred)) \n",
    "print('MAE:', metrics.mean_absolute_error(y_test, y_pred))\n",
    "print('MSE:', metrics.mean_squared_error(y_test, y_pred))\n",
    "print('RMSE:', math.sqrt(metrics.mean_squared_error(y_test, y_pred)))"
   ]
  }
 ],
 "metadata": {
  "kernelspec": {
   "display_name": "Python 3.9.13 ('base')",
   "language": "python",
   "name": "python3"
  },
  "language_info": {
   "codemirror_mode": {
    "name": "ipython",
    "version": 3
   },
   "file_extension": ".py",
   "mimetype": "text/x-python",
   "name": "python",
   "nbconvert_exporter": "python",
   "pygments_lexer": "ipython3",
   "version": "3.9.13"
  },
  "orig_nbformat": 4,
  "vscode": {
   "interpreter": {
    "hash": "61f31fbae832bf49a9a7b34e2445ce03bdaa857bb1959863198822660ebea063"
   }
  }
 },
 "nbformat": 4,
 "nbformat_minor": 2
}
